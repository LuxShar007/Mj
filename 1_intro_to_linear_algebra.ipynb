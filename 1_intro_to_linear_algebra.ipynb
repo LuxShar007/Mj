{
  "nbformat": 4,
  "nbformat_minor": 0,
  "metadata": {
    "colab": {
      "provenance": [],
      "include_colab_link": true
    },
    "kernelspec": {
      "display_name": "Python 3",
      "language": "python",
      "name": "python3"
    },
    "language_info": {
      "codemirror_mode": {
        "name": "ipython",
        "version": 3
      },
      "file_extension": ".py",
      "mimetype": "text/x-python",
      "name": "python",
      "nbconvert_exporter": "python",
      "pygments_lexer": "ipython3",
      "version": "3.7.6"
    }
  },
  "cells": [
    {
      "cell_type": "markdown",
      "metadata": {
        "id": "view-in-github",
        "colab_type": "text"
      },
      "source": [
        "<a href=\"https://colab.research.google.com/github/drpetros11111/ML-foundations/blob/LA_LinearRegr/1_intro_to_linear_algebra.ipynb\" target=\"_parent\"><img src=\"https://colab.research.google.com/assets/colab-badge.svg\" alt=\"Open In Colab\"/></a>"
      ]
    },
    {
      "cell_type": "markdown",
      "metadata": {
        "id": "aTOLgsbN69-P"
      },
      "source": [
        "# Intro to Linear Algebra"
      ]
    },
    {
      "cell_type": "markdown",
      "metadata": {
        "id": "yqUB9FTRAxd-"
      },
      "source": [
        "This topic, *Intro to Linear Algebra*, is the first in the *Machine Learning Foundations* series.\n",
        "\n",
        "It is essential because linear algebra lies at the heart of most machine learning approaches and is especially predominant in deep learning, the branch of ML at the forefront of today’s artificial intelligence advances. Through the measured exposition of theory paired with interactive examples, you’ll develop an understanding of how linear algebra is used to solve for unknown values in high-dimensional spaces, thereby enabling machines to recognize patterns and make predictions.\n",
        "\n",
        "The content covered in *Intro to Linear Algebra* is itself foundational for all the other topics in the Machine Learning Foundations series and it is especially relevant to *Linear Algebra II*."
      ]
    },
    {
      "cell_type": "markdown",
      "metadata": {
        "id": "d4tBvI88BheF"
      },
      "source": [
        "Over the course of studying this topic, you'll:\n",
        "\n",
        "* Understand the fundamentals of linear algebra, a ubiquitous approach for solving for unknowns within high-dimensional spaces.\n",
        "\n",
        "* Develop a geometric intuition of what’s going on beneath the hood of machine learning algorithms, including those used for deep learning.\n",
        "* Be able to more intimately grasp the details of machine learning papers as well as all of the other subjects that underlie ML, including calculus, statistics, and optimization algorithms."
      ]
    },
    {
      "cell_type": "markdown",
      "metadata": {
        "id": "Z68nQ0ekCYhF"
      },
      "source": [
        "**Note that this Jupyter notebook is not intended to stand alone. It is the companion code to a lecture or to videos from Jon Krohn's [Machine Learning Foundations](https://github.com/jonkrohn/ML-foundations) series, which offer detail on the following:**\n",
        "\n",
        "*Segment 1: Data Structures for Algebra*\n",
        "\n",
        "* What Linear Algebra Is  \n",
        "* A Brief History of Algebra\n",
        "* Tensors\n",
        "* Scalars\n",
        "* Vectors and Vector Transposition\n",
        "* Norms and Unit Vectors\n",
        "* Basis, Orthogonal, and Orthonormal Vectors\n",
        "* Arrays in NumPy  \n",
        "* Matrices\n",
        "* Tensors in TensorFlow and PyTorch\n",
        "\n",
        "*Segment 2: Common Tensor Operations*\n",
        "\n",
        "* Tensor Transposition\n",
        "* Basic Tensor Arithmetic\n",
        "* Reduction\n",
        "* The Dot Product\n",
        "* Solving Linear Systems\n",
        "\n",
        "*Segment 3: Matrix Properties*\n",
        "\n",
        "* The Frobenius Norm\n",
        "* Matrix Multiplication\n",
        "* Symmetric and Identity Matrices\n",
        "* Matrix Inversion\n",
        "* Diagonal Matrices\n",
        "* Orthogonal Matrices\n"
      ]
    },
    {
      "cell_type": "markdown",
      "metadata": {
        "id": "2khww76J5w9n"
      },
      "source": [
        "## Segment 1: Data Structures for Algebra\n",
        "\n",
        "**Slides used to begin segment, with focus on introducing what linear algebra is, including hands-on paper and pencil exercises.**"
      ]
    },
    {
      "cell_type": "markdown",
      "metadata": {
        "id": "niG_MgK-iV6K"
      },
      "source": [
        "### What Linear Algebra Is"
      ]
    },
    {
      "cell_type": "code",
      "metadata": {
        "id": "LApX90aliab_"
      },
      "source": [
        "import numpy as np\n",
        "import matplotlib.pyplot as plt"
      ],
      "execution_count": 1,
      "outputs": []
    },
    {
      "cell_type": "code",
      "metadata": {
        "id": "E4odh9Shic1S"
      },
      "source": [
        "t = np.linspace(0, 40, 1000) # start, finish, n points"
      ],
      "execution_count": 2,
      "outputs": []
    },
    {
      "cell_type": "markdown",
      "metadata": {
        "id": "N-tYny12nIyO"
      },
      "source": [
        "Distance travelled by robber: $d = 2.5t$"
      ]
    },
    {
      "cell_type": "code",
      "metadata": {
        "id": "e_zDOxgHiezz"
      },
      "source": [
        "d_r = 2.5 * t"
      ],
      "execution_count": 3,
      "outputs": []
    },
    {
      "cell_type": "markdown",
      "metadata": {
        "id": "djVjXZy-nPaR"
      },
      "source": [
        "Distance travelled by sheriff: $d = 3(t-5)$"
      ]
    },
    {
      "cell_type": "code",
      "metadata": {
        "id": "JtaNeYSCifrI"
      },
      "source": [
        "d_s = 3 * (t-5)"
      ],
      "execution_count": 4,
      "outputs": []
    },
    {
      "cell_type": "code",
      "metadata": {
        "id": "SaaIjJSEigic",
        "colab": {
          "base_uri": "https://localhost:8080/",
          "height": 472
        },
        "outputId": "9f52ca77-ea21-4da9-b950-d0eca6353219"
      },
      "source": [
        "fig, ax = plt.subplots()\n",
        "plt.title('A Bank Robber Caught')\n",
        "plt.xlabel('time (in minutes)')\n",
        "plt.ylabel('distance (in km)')\n",
        "ax.set_xlim([0, 40])\n",
        "ax.set_ylim([0, 100])\n",
        "ax.plot(t, d_r, c='green')\n",
        "ax.plot(t, d_s, c='brown')\n",
        "plt.axvline(x=30, color='purple', linestyle='--')\n",
        "_ = plt.axhline(y=75, color='purple', linestyle='--')"
      ],
      "execution_count": 5,
      "outputs": [
        {
          "output_type": "display_data",
          "data": {
            "text/plain": [
              "<Figure size 640x480 with 1 Axes>"
            ],
            "image/png": "[encoded data removed]"
          },
          "metadata": {}
        }
      ]
    },
    {
      "cell_type": "markdown",
      "metadata": {
        "id": "kpwZw64EYfs6"
      },
      "source": [
        "**Return to slides here.**"
      ]
    },
    {
      "cell_type": "markdown",
      "metadata": {
        "id": "NgGMhK4B51oe"
      },
      "source": [
        "### Scalars (Rank 0 Tensors) in Base Python"
      ]
    },
    {
      "cell_type": "code",
      "metadata": {
        "id": "ZXnTHDn_EW6b",
        "colab": {
          "base_uri": "https://localhost:8080/"
        },
        "outputId": "bec30cbc-c04d-42e0-8d9f-b7fa753f4431"
      },
      "source": [
        "x = 25\n",
        "x"
      ],
      "execution_count": 6,
      "outputs": [
        {
          "output_type": "execute_result",
          "data": {
            "text/plain": [
              "25"
            ]
          },
          "metadata": {},
          "execution_count": 6
        }
      ]
    },
    {
      "cell_type": "code",
      "metadata": {
        "id": "VF8Jam76R4KJ",
        "colab": {
          "base_uri": "https://localhost:8080/"
        },
        "outputId": "4439f62c-7c64-451c-e0be-e235ec3c7b6f"
      },
      "source": [
        "type(x) # if we'd like more specificity (e.g., int16, uint8), we need NumPy or another numeric library"
      ],
      "execution_count": 7,
      "outputs": [
        {
          "output_type": "execute_result",
          "data": {
            "text/plain": [
              "int"
            ]
          },
          "metadata": {},
          "execution_count": 7
        }
      ]
    },
    {
      "cell_type": "code",
      "metadata": {
        "id": "ZBzYlL0mRd-P"
      },
      "source": [
        "y = 3"
      ],
      "execution_count": 8,
      "outputs": []
    },
    {
      "cell_type": "code",
      "metadata": {
        "id": "1i-hW0bcReyy",
        "colab": {
          "base_uri": "https://localhost:8080/"
        },
        "outputId": "e079f881-9bc5-48b0-f21f-4d7d8df946b3"
      },
      "source": [
        "py_sum = x + y\n",
        "py_sum"
      ],
      "execution_count": 9,
      "outputs": [
        {
          "output_type": "execute_result",
          "data": {
            "text/plain": [
              "28"
            ]
          },
          "metadata": {},
          "execution_count": 9
        }
      ]
    },
    {
      "cell_type": "code",
      "metadata": {
        "id": "CpyUxB6XRk6y",
        "colab": {
          "base_uri": "https://localhost:8080/"
        },
        "outputId": "f2913d48-404f-475c-8d04-f758ced41b2a"
      },
      "source": [
        "type(py_sum)"
      ],
      "execution_count": 10,
      "outputs": [
        {
          "output_type": "execute_result",
          "data": {
            "text/plain": [
              "int"
            ]
          },
          "metadata": {},
          "execution_count": 10
        }
      ]
    },
    {
      "cell_type": "code",
      "metadata": {
        "id": "V2UiLj-JR8Ij",
        "colab": {
          "base_uri": "https://localhost:8080/"
        },
        "outputId": "74c86b4d-fe52-48f0-ed46-050bfc0a7773"
      },
      "source": [
        "x_float = 25.0\n",
        "float_sum = x_float + y\n",
        "float_sum"
      ],
      "execution_count": 11,
      "outputs": [
        {
          "output_type": "execute_result",
          "data": {
            "text/plain": [
              "28.0"
            ]
          },
          "metadata": {},
          "execution_count": 11
        }
      ]
    },
    {
      "cell_type": "code",
      "metadata": {
        "id": "ikOwjp6ASCaf",
        "colab": {
          "base_uri": "https://localhost:8080/"
        },
        "outputId": "57a9a3b5-1cc0-4f48-8156-79c7457cd4cb"
      },
      "source": [
        "type(float_sum)"
      ],
      "execution_count": 12,
      "outputs": [
        {
          "output_type": "execute_result",
          "data": {
            "text/plain": [
              "float"
            ]
          },
          "metadata": {},
          "execution_count": 12
        }
      ]
    },
    {
      "cell_type": "markdown",
      "metadata": {
        "id": "SgUvioyUz8T2"
      },
      "source": [
        "### Scalars in PyTorch\n",
        "\n",
        "* PyTorch and TensorFlow are the two most popular *automatic differentiation* libraries (a focus of the [*Calculus I*](https://github.com/jonkrohn/ML-foundations/blob/master/notebooks/3-calculus-i.ipynb) and [*Calculus II*](https://github.com/jonkrohn/ML-foundations/blob/master/notebooks/4-calculus-ii.ipynb) subjects in the *ML Foundations* series) in Python, itself the most popular programming language in ML.\n",
        "* PyTorch tensors are designed to be pythonic, i.e., to feel and behave like NumPy arrays.\n",
        "* The advantage of PyTorch tensors relative to NumPy arrays is that they easily be used for operations on GPU (see [here](https://pytorch.org/tutorials/beginner/examples_tensor/two_layer_net_tensor.html) for example).\n",
        "* Documentation on PyTorch tensors, including available data types, is [here](https://pytorch.org/docs/stable/tensors.html)."
      ]
    },
    {
      "cell_type": "code",
      "metadata": {
        "id": "A9Hhazt2zKeD"
      },
      "source": [
        "import torch"
      ],
      "execution_count": 13,
      "outputs": []
    },
    {
      "cell_type": "code",
      "metadata": {
        "id": "a211IRW_0-iY",
        "colab": {
          "base_uri": "https://localhost:8080/"
        },
        "outputId": "2220b4b8-e766-446f-d4b8-2bbdb1e0420c"
      },
      "source": [
        "x_pt = torch.tensor(25) # type specification optional, e.g.: dtype=torch.float16\n",
        "x_pt"
      ],
      "execution_count": 14,
      "outputs": [
        {
          "output_type": "execute_result",
          "data": {
            "text/plain": [
              "tensor(25)"
            ]
          },
          "metadata": {},
          "execution_count": 14
        }
      ]
    },
    {
      "cell_type": "code",
      "metadata": {
        "id": "LvxzMa_HhUNB",
        "colab": {
          "base_uri": "https://localhost:8080/"
        },
        "outputId": "bfc1bda8-adf8-42b5-bdf3-88bae704b7ac"
      },
      "source": [
        "x_pt.shape"
      ],
      "execution_count": 15,
      "outputs": [
        {
          "output_type": "execute_result",
          "data": {
            "text/plain": [
              "torch.Size([])"
            ]
          },
          "metadata": {},
          "execution_count": 15
        }
      ]
    },
    {
      "cell_type": "markdown",
      "metadata": {
        "id": "eUyuZXlWS8T9"
      },
      "source": [
        "### Scalars in TensorFlow (version 2.0 or later)\n",
        "\n",
        "Tensors created with a wrapper, all of which [you can read about here](https://www.tensorflow.org/guide/tensor):  \n",
        "\n",
        "* `tf.Variable`\n",
        "* `tf.constant`\n",
        "* `tf.placeholder`\n",
        "* `tf.SparseTensor`\n",
        "\n",
        "Most widely-used is `tf.Variable`, which we'll use here.\n",
        "\n",
        "As with TF tensors, in PyTorch we can similarly perform operations, and we can easily convert to and from NumPy arrays.\n",
        "\n",
        "Also, a full list of tensor data types is available [here](https://www.tensorflow.org/api_docs/python/tf/dtypes/DType)."
      ]
    },
    {
      "cell_type": "code",
      "metadata": {
        "id": "CHBYse_MEqZM"
      },
      "source": [
        "import tensorflow as tf"
      ],
      "execution_count": 16,
      "outputs": []
    },
    {
      "cell_type": "code",
      "metadata": {
        "id": "sDv92Nh-NSOU",
        "colab": {
          "base_uri": "https://localhost:8080/"
        },
        "outputId": "2cc6414e-fb01-4231-a188-ea810b7b4839"
      },
      "source": [
        "x_tf = tf.Variable(25, dtype=tf.int16) # dtype is optional\n",
        "x_tf"
      ],
      "execution_count": 17,
      "outputs": [
        {
          "output_type": "execute_result",
          "data": {
            "text/plain": [
              "<tf.Variable 'Variable:0' shape=() dtype=int16, numpy=25>"
            ]
          },
          "metadata": {},
          "execution_count": 17
        }
      ]
    },
    {
      "cell_type": "markdown",
      "source": [
        "Creating a TensorFlow variable using tf.Variable, assigning the value 25 and specifying the data type as tf.int16.\n",
        "\n",
        "Here's the correct code to create and display the TensorFlow variable:\n",
        "\n",
        "    import tensorflow as tf\n",
        "\n",
        "    x_tf = tf.Variable(25, dtype=tf.int16)\n",
        "    print(x_tf)\n",
        "    \n",
        "If you run this code, x_tf will output a TensorFlow variable with its value and properties."
      ],
      "metadata": {
        "id": "X_ZASGmBWQvS"
      }
    },
    {
      "cell_type": "code",
      "metadata": {
        "id": "EmPMBIV9RQjS",
        "colab": {
          "base_uri": "https://localhost:8080/"
        },
        "outputId": "e126734d-047e-44b5-daa7-f356ab6fc658"
      },
      "source": [
        "x_tf.shape"
      ],
      "execution_count": 18,
      "outputs": [
        {
          "output_type": "execute_result",
          "data": {
            "text/plain": [
              "TensorShape([])"
            ]
          },
          "metadata": {},
          "execution_count": 18
        }
      ]
    },
    {
      "cell_type": "markdown",
      "source": [
        "The shape TensorShape([]) indicates that the TensorFlow variable x_tf is a scalar, meaning it has no dimensions (0-dimensional tensor). In TensorFlow, tensors can have various shapes:\n",
        "\n",
        "A scalar (0-dimensional tensor) has shape [].\n",
        "\n",
        "A vector (1-dimensional tensor) has shape [n], where n is the number of elements in the vector.\n",
        "\n",
        "A matrix (2-dimensional tensor) has shape [n, m], where n is the number of rows and m is the number of columns.\n",
        "\n",
        "In your case, the variable x_tf = tf.Variable(25, dtype=tf.int16) is a scalar because it holds a single value (25) without any dimensionality. Therefore, its shape is []."
      ],
      "metadata": {
        "id": "ScmyDj57W1cm"
      }
    },
    {
      "cell_type": "code",
      "metadata": {
        "id": "mEILtO9pPctO"
      },
      "source": [
        "y_tf = tf.Variable(3, dtype=tf.int16)"
      ],
      "execution_count": 19,
      "outputs": []
    },
    {
      "cell_type": "code",
      "metadata": {
        "id": "dvvWuaw6Ph_D",
        "colab": {
          "base_uri": "https://localhost:8080/"
        },
        "outputId": "02f036bb-5c73-4083-acf7-1668ae869ac1"
      },
      "source": [
        "x_tf + y_tf"
      ],
      "execution_count": 20,
      "outputs": [
        {
          "output_type": "execute_result",
          "data": {
            "text/plain": [
              "<tf.Tensor: shape=(), dtype=int16, numpy=28>"
            ]
          },
          "metadata": {},
          "execution_count": 20
        }
      ]
    },
    {
      "cell_type": "code",
      "metadata": {
        "id": "JZVhRnX9RUGW",
        "colab": {
          "base_uri": "https://localhost:8080/"
        },
        "outputId": "cc56cada-036a-4f2a-a956-509e6e838c26"
      },
      "source": [
        "tf_sum = tf.add(x_tf, y_tf)\n",
        "tf_sum"
      ],
      "execution_count": 21,
      "outputs": [
        {
          "output_type": "execute_result",
          "data": {
            "text/plain": [
              "<tf.Tensor: shape=(), dtype=int16, numpy=28>"
            ]
          },
          "metadata": {},
          "execution_count": 21
        }
      ]
    },
    {
      "cell_type": "code",
      "metadata": {
        "id": "sVbMxT1Ey6Y3",
        "colab": {
          "base_uri": "https://localhost:8080/"
        },
        "outputId": "5befe37b-dc1e-4709-9d47-ccf8d4e6e55c"
      },
      "source": [
        "tf_sum.numpy() # note that NumPy operations automatically convert tensors to NumPy arrays, and vice versa"
      ],
      "execution_count": 22,
      "outputs": [
        {
          "output_type": "execute_result",
          "data": {
            "text/plain": [
              "28"
            ]
          },
          "metadata": {},
          "execution_count": 22
        }
      ]
    },
    {
      "cell_type": "code",
      "metadata": {
        "id": "LXpv69t0y-f6",
        "colab": {
          "base_uri": "https://localhost:8080/"
        },
        "outputId": "ddc4eacf-de16-49e7-a8a7-22f41e3142d2"
      },
      "source": [
        "type(tf_sum.numpy())"
      ],
      "execution_count": 23,
      "outputs": [
        {
          "output_type": "execute_result",
          "data": {
            "text/plain": [
              "numpy.int16"
            ]
          },
          "metadata": {},
          "execution_count": 23
        }
      ]
    },
    {
      "cell_type": "code",
      "metadata": {
        "id": "VszuTUAg1uXk",
        "colab": {
          "base_uri": "https://localhost:8080/"
        },
        "outputId": "9fb4e673-8173-44f8-dcc6-64dfbfb2996a"
      },
      "source": [
        "tf_float = tf.Variable(25., dtype=tf.float16)\n",
        "tf_float"
      ],
      "execution_count": 24,
      "outputs": [
        {
          "output_type": "execute_result",
          "data": {
            "text/plain": [
              "<tf.Variable 'Variable:0' shape=() dtype=float16, numpy=25.0>"
            ]
          },
          "metadata": {},
          "execution_count": 24
        }
      ]
    },
    {
      "cell_type": "markdown",
      "metadata": {
        "id": "B5VRGo1H6010"
      },
      "source": [
        "**Return to slides here.**"
      ]
    },
    {
      "cell_type": "markdown",
      "metadata": {
        "id": "4CURG9Er6aZI"
      },
      "source": [
        "### Vectors (Rank 1 Tensors) in NumPy"
      ]
    },
    {
      "cell_type": "code",
      "metadata": {
        "id": "T9ME4kBr4wg0",
        "colab": {
          "base_uri": "https://localhost:8080/"
        },
        "outputId": "d6129900-fb47-4138-cafe-0b82a92d70a8"
      },
      "source": [
        "x = np.array([25, 2, 5]) # type argument is optional, e.g.: dtype=np.float16\n",
        "x"
      ],
      "execution_count": 25,
      "outputs": [
        {
          "output_type": "execute_result",
          "data": {
            "text/plain": [
              "array([25,  2,  5])"
            ]
          },
          "metadata": {},
          "execution_count": 25
        }
      ]
    },
    {
      "cell_type": "code",
      "metadata": {
        "id": "ZuotxmlZL2wp",
        "colab": {
          "base_uri": "https://localhost:8080/"
        },
        "outputId": "c64d91d3-5315-435b-8cd6-4bb47ffc8889"
      },
      "source": [
        "len(x)"
      ],
      "execution_count": 26,
      "outputs": [
        {
          "output_type": "execute_result",
          "data": {
            "text/plain": [
              "3"
            ]
          },
          "metadata": {},
          "execution_count": 26
        }
      ]
    },
    {
      "cell_type": "code",
      "metadata": {
        "id": "OlPYy6GOaIVy",
        "colab": {
          "base_uri": "https://localhost:8080/"
        },
        "outputId": "a6d5cdf8-d01a-4bda-f9df-384e84264bb6"
      },
      "source": [
        "x.shape"
      ],
      "execution_count": 27,
      "outputs": [
        {
          "output_type": "execute_result",
          "data": {
            "text/plain": [
              "(3,)"
            ]
          },
          "metadata": {},
          "execution_count": 27
        }
      ]
    },
    {
      "cell_type": "code",
      "metadata": {
        "id": "sWbYGwObcgtK",
        "colab": {
          "base_uri": "https://localhost:8080/"
        },
        "outputId": "8957aee7-cb1e-40a8-b3b1-1791060791f6"
      },
      "source": [
        "type(x)"
      ],
      "execution_count": 28,
      "outputs": [
        {
          "output_type": "execute_result",
          "data": {
            "text/plain": [
              "numpy.ndarray"
            ]
          },
          "metadata": {},
          "execution_count": 28
        }
      ]
    },
    {
      "cell_type": "code",
      "metadata": {
        "id": "ME_xuvD_oTPg",
        "colab": {
          "base_uri": "https://localhost:8080/"
        },
        "outputId": "91ec9aa3-d534-4a71-aeb8-1b45687f4a5f"
      },
      "source": [
        "x[0] # zero-indexed"
      ],
      "execution_count": 29,
      "outputs": [
        {
          "output_type": "execute_result",
          "data": {
            "text/plain": [
              "25"
            ]
          },
          "metadata": {},
          "execution_count": 29
        }
      ]
    },
    {
      "cell_type": "code",
      "metadata": {
        "id": "hXmBHZQ-nxFw",
        "colab": {
          "base_uri": "https://localhost:8080/"
        },
        "outputId": "c3cb7ee7-1460-4f01-a3a3-b04080f95a39"
      },
      "source": [
        "type(x[0])"
      ],
      "execution_count": 30,
      "outputs": [
        {
          "output_type": "execute_result",
          "data": {
            "text/plain": [
              "numpy.int64"
            ]
          },
          "metadata": {},
          "execution_count": 30
        }
      ]
    },
    {
      "cell_type": "markdown",
      "metadata": {
        "id": "NiEofCzYZBrQ"
      },
      "source": [
        "### Vector Transposition"
      ]
    },
    {
      "cell_type": "code",
      "metadata": {
        "id": "hxGFNDx6V95l",
        "colab": {
          "base_uri": "https://localhost:8080/"
        },
        "outputId": "8016fa1f-e74d-49cd-aa4b-c7f0d77eaab3"
      },
      "source": [
        "# Transposing a regular 1-D array has no effect...\n",
        "x_t = x.T\n",
        "x_t"
      ],
      "execution_count": 31,
      "outputs": [
        {
          "output_type": "execute_result",
          "data": {
            "text/plain": [
              "array([25,  2,  5])"
            ]
          },
          "metadata": {},
          "execution_count": 31
        }
      ]
    },
    {
      "cell_type": "code",
      "metadata": {
        "id": "_f8E9ExDWw4p",
        "colab": {
          "base_uri": "https://localhost:8080/"
        },
        "outputId": "72d2d1a3-2165-49bb-916c-fc1d4913ae47"
      },
      "source": [
        "x_t.shape"
      ],
      "execution_count": 32,
      "outputs": [
        {
          "output_type": "execute_result",
          "data": {
            "text/plain": [
              "(3,)"
            ]
          },
          "metadata": {},
          "execution_count": 32
        }
      ]
    },
    {
      "cell_type": "code",
      "metadata": {
        "id": "AEd8jB7YcgtT",
        "colab": {
          "base_uri": "https://localhost:8080/"
        },
        "outputId": "53f9c3d0-e17e-4a95-ecbf-23da37836924"
      },
      "source": [
        "# ...but it does we use nested \"matrix-style\" brackets:\n",
        "y = np.array([[25, 2, 5]])\n",
        "y"
      ],
      "execution_count": 33,
      "outputs": [
        {
          "output_type": "execute_result",
          "data": {
            "text/plain": [
              "array([[25,  2,  5]])"
            ]
          },
          "metadata": {},
          "execution_count": 33
        }
      ]
    },
    {
      "cell_type": "code",
      "metadata": {
        "id": "UHQd92oRcgtV",
        "colab": {
          "base_uri": "https://localhost:8080/"
        },
        "outputId": "60a5ae3c-abde-451d-cc28-00b0eddcf28a"
      },
      "source": [
        "y.shape"
      ],
      "execution_count": 34,
      "outputs": [
        {
          "output_type": "execute_result",
          "data": {
            "text/plain": [
              "(1, 3)"
            ]
          },
          "metadata": {},
          "execution_count": 34
        }
      ]
    },
    {
      "cell_type": "code",
      "metadata": {
        "id": "SPi1JqGEXXUc",
        "colab": {
          "base_uri": "https://localhost:8080/"
        },
        "outputId": "748e08a8-9afb-4a3a-db92-9e742dc568ed"
      },
      "source": [
        "# ...but can transpose a matrix with a dimension of length 1, which is mathematically equivalent:\n",
        "y_t = y.T\n",
        "y_t"
      ],
      "execution_count": 35,
      "outputs": [
        {
          "output_type": "execute_result",
          "data": {
            "text/plain": [
              "array([[25],\n",
              "       [ 2],\n",
              "       [ 5]])"
            ]
          },
          "metadata": {},
          "execution_count": 35
        }
      ]
    },
    {
      "cell_type": "code",
      "metadata": {
        "id": "6rzUv762Yjis",
        "colab": {
          "base_uri": "https://localhost:8080/"
        },
        "outputId": "6ef9cbd0-b56f-4810-883b-8218ae049393"
      },
      "source": [
        "y_t.shape # this is a column vector as it has 3 rows and 1 column"
      ],
      "execution_count": 36,
      "outputs": [
        {
          "output_type": "execute_result",
          "data": {
            "text/plain": [
              "(3, 1)"
            ]
          },
          "metadata": {},
          "execution_count": 36
        }
      ]
    },
    {
      "cell_type": "code",
      "metadata": {
        "id": "xVnQMLOrYtra",
        "colab": {
          "base_uri": "https://localhost:8080/"
        },
        "outputId": "570ef78f-d866-423a-f699-e8765ef75591"
      },
      "source": [
        "# Column vector can be transposed back to original row vector:\n",
        "y_t.T"
      ],
      "execution_count": 37,
      "outputs": [
        {
          "output_type": "execute_result",
          "data": {
            "text/plain": [
              "array([[25,  2,  5]])"
            ]
          },
          "metadata": {},
          "execution_count": 37
        }
      ]
    },
    {
      "cell_type": "code",
      "metadata": {
        "id": "QIAA2NLRZIXC",
        "colab": {
          "base_uri": "https://localhost:8080/"
        },
        "outputId": "11d11b75-e54d-445f-c5e9-c2fb2bece609"
      },
      "source": [
        "y_t.T.shape"
      ],
      "execution_count": 38,
      "outputs": [
        {
          "output_type": "execute_result",
          "data": {
            "text/plain": [
              "(1, 3)"
            ]
          },
          "metadata": {},
          "execution_count": 38
        }
      ]
    },
    {
      "cell_type": "markdown",
      "metadata": {
        "id": "Voj26mSpZLuh"
      },
      "source": [
        "### Zero Vectors\n",
        "\n",
        "Have no effect if added to another vector"
      ]
    },
    {
      "cell_type": "code",
      "metadata": {
        "id": "-46AbOdkZVn_",
        "colab": {
          "base_uri": "https://localhost:8080/"
        },
        "outputId": "7932511c-525a-4165-bd7e-c745bdbf03c8"
      },
      "source": [
        "z = np.zeros(3)\n",
        "z"
      ],
      "execution_count": 39,
      "outputs": [
        {
          "output_type": "execute_result",
          "data": {
            "text/plain": [
              "array([0., 0., 0.])"
            ]
          },
          "metadata": {},
          "execution_count": 39
        }
      ]
    },
    {
      "cell_type": "markdown",
      "metadata": {
        "id": "c6xyYiwSnSGC"
      },
      "source": [
        "### Vectors in PyTorch and TensorFlow"
      ]
    },
    {
      "cell_type": "code",
      "metadata": {
        "id": "s2TGDeqXnitZ",
        "colab": {
          "base_uri": "https://localhost:8080/"
        },
        "outputId": "17b8dbd0-b957-4342-eb59-fb63138f5069"
      },
      "source": [
        "x_pt = torch.tensor([25, 2, 5])\n",
        "x_pt"
      ],
      "execution_count": 40,
      "outputs": [
        {
          "output_type": "execute_result",
          "data": {
            "text/plain": [
              "tensor([25,  2,  5])"
            ]
          },
          "metadata": {},
          "execution_count": 40
        }
      ]
    },
    {
      "cell_type": "code",
      "metadata": {
        "id": "-0jbHgc5iijG",
        "scrolled": true,
        "colab": {
          "base_uri": "https://localhost:8080/"
        },
        "outputId": "f5ca5c3e-a0d9-436b-8844-a2215e3c8e98"
      },
      "source": [
        "x_tf = tf.Variable([25, 2, 5])\n",
        "x_tf"
      ],
      "execution_count": 41,
      "outputs": [
        {
          "output_type": "execute_result",
          "data": {
            "text/plain": [
              "<tf.Variable 'Variable:0' shape=(3,) dtype=int32, numpy=array([25,  2,  5], dtype=int32)>"
            ]
          },
          "metadata": {},
          "execution_count": 41
        }
      ]
    },
    {
      "cell_type": "markdown",
      "metadata": {
        "id": "rTDDta1Ro4Pf"
      },
      "source": [
        "**Return to slides here.**"
      ]
    },
    {
      "cell_type": "markdown",
      "metadata": {
        "id": "8fU5qVTI6SLD"
      },
      "source": [
        "### $L^2$ Norm"
      ]
    },
    {
      "cell_type": "code",
      "metadata": {
        "id": "lLc2FbGG6SLD",
        "colab": {
          "base_uri": "https://localhost:8080/"
        },
        "outputId": "416d4857-d0a5-451e-a767-cfb49736317d"
      },
      "source": [
        "x"
      ],
      "execution_count": 42,
      "outputs": [
        {
          "output_type": "execute_result",
          "data": {
            "text/plain": [
              "array([25,  2,  5])"
            ]
          },
          "metadata": {},
          "execution_count": 42
        }
      ]
    },
    {
      "cell_type": "code",
      "metadata": {
        "id": "AN43hsl86SLG",
        "colab": {
          "base_uri": "https://localhost:8080/"
        },
        "outputId": "3bbfe63a-0c67-43a2-8860-e665bd352fdf"
      },
      "source": [
        "(25**2 + 2**2 + 5**2)**(1/2)"
      ],
      "execution_count": 43,
      "outputs": [
        {
          "output_type": "execute_result",
          "data": {
            "text/plain": [
              "25.573423705088842"
            ]
          },
          "metadata": {},
          "execution_count": 43
        }
      ]
    },
    {
      "cell_type": "code",
      "metadata": {
        "id": "D9CyWo-l6SLI",
        "colab": {
          "base_uri": "https://localhost:8080/"
        },
        "outputId": "c749376e-4980-41e4-8ca3-e32d3b0dd0fc"
      },
      "source": [
        "np.linalg.norm(x)"
      ],
      "execution_count": 44,
      "outputs": [
        {
          "output_type": "execute_result",
          "data": {
            "text/plain": [
              "25.573423705088842"
            ]
          },
          "metadata": {},
          "execution_count": 44
        }
      ]
    },
    {
      "cell_type": "markdown",
      "metadata": {
        "id": "TNEMRi926SLK"
      },
      "source": [
        "So, if units in this 3-dimensional vector space are meters, then the vector $x$ has a length of 25.6m"
      ]
    },
    {
      "cell_type": "markdown",
      "metadata": {
        "id": "ugQC6k4h6SLK"
      },
      "source": [
        "**Return to slides here.**"
      ]
    },
    {
      "cell_type": "markdown",
      "metadata": {
        "id": "PwiRlMuC6SLK"
      },
      "source": [
        "### $L^1$ Norm"
      ]
    },
    {
      "cell_type": "code",
      "metadata": {
        "id": "lcYKyc5H6SLL",
        "colab": {
          "base_uri": "https://localhost:8080/"
        },
        "outputId": "fcc5d285-a7e6-40f0-debd-d3b9e2e8f84d"
      },
      "source": [
        "x"
      ],
      "execution_count": 45,
      "outputs": [
        {
          "output_type": "execute_result",
          "data": {
            "text/plain": [
              "array([25,  2,  5])"
            ]
          },
          "metadata": {},
          "execution_count": 45
        }
      ]
    },
    {
      "cell_type": "code",
      "metadata": {
        "id": "8jNb6nYl6SLM",
        "colab": {
          "base_uri": "https://localhost:8080/"
        },
        "outputId": "b907cdc0-f199-4135-b538-7a368d6646a1"
      },
      "source": [
        "np.abs(25) + np.abs(2) + np.abs(5)"
      ],
      "execution_count": 46,
      "outputs": [
        {
          "output_type": "execute_result",
          "data": {
            "text/plain": [
              "32"
            ]
          },
          "metadata": {},
          "execution_count": 46
        }
      ]
    },
    {
      "cell_type": "markdown",
      "metadata": {
        "id": "WTPz0EBSAVee"
      },
      "source": [
        "**Return to slides here.**"
      ]
    },
    {
      "cell_type": "markdown",
      "metadata": {
        "id": "lQP73B916SLP"
      },
      "source": [
        "### Squared $L^2$ Norm"
      ]
    },
    {
      "cell_type": "code",
      "metadata": {
        "id": "Qv1ouJ8r6SLP",
        "colab": {
          "base_uri": "https://localhost:8080/"
        },
        "outputId": "b7dda7de-2036-4068-989e-05886cbeff79"
      },
      "source": [
        "x"
      ],
      "execution_count": 47,
      "outputs": [
        {
          "output_type": "execute_result",
          "data": {
            "text/plain": [
              "array([25,  2,  5])"
            ]
          },
          "metadata": {},
          "execution_count": 47
        }
      ]
    },
    {
      "cell_type": "code",
      "metadata": {
        "id": "eG3WSB5R6SLT",
        "colab": {
          "base_uri": "https://localhost:8080/"
        },
        "outputId": "6e551e52-1d2a-4a8c-f941-774a3e47216a"
      },
      "source": [
        "(25**2 + 2**2 + 5**2)"
      ],
      "execution_count": 48,
      "outputs": [
        {
          "output_type": "execute_result",
          "data": {
            "text/plain": [
              "654"
            ]
          },
          "metadata": {},
          "execution_count": 48
        }
      ]
    },
    {
      "cell_type": "code",
      "metadata": {
        "id": "bXwzSudS6SLV",
        "colab": {
          "base_uri": "https://localhost:8080/"
        },
        "outputId": "39ef7cef-1899-47d3-e662-933e92034a57"
      },
      "source": [
        "# we'll cover tensor multiplication more soon but to prove point quickly:\n",
        "np.dot(x, x)"
      ],
      "execution_count": 49,
      "outputs": [
        {
          "output_type": "execute_result",
          "data": {
            "text/plain": [
              "654"
            ]
          },
          "metadata": {},
          "execution_count": 49
        }
      ]
    },
    {
      "cell_type": "markdown",
      "metadata": {
        "id": "q3CIH9ba6SLX"
      },
      "source": [
        "**Return to slides here.**"
      ]
    },
    {
      "cell_type": "markdown",
      "metadata": {
        "id": "BHWxVPFC6SLX"
      },
      "source": [
        "### Max Norm"
      ]
    },
    {
      "cell_type": "code",
      "metadata": {
        "id": "vO-zfvDG6SLX",
        "colab": {
          "base_uri": "https://localhost:8080/"
        },
        "outputId": "29d1c437-dea1-4910-cb7c-e5d6be4a2db4"
      },
      "source": [
        "x"
      ],
      "execution_count": 50,
      "outputs": [
        {
          "output_type": "execute_result",
          "data": {
            "text/plain": [
              "array([25,  2,  5])"
            ]
          },
          "metadata": {},
          "execution_count": 50
        }
      ]
    },
    {
      "cell_type": "code",
      "metadata": {
        "id": "vXXLgbyW6SLZ",
        "colab": {
          "base_uri": "https://localhost:8080/"
        },
        "outputId": "4be0271f-8e17-408a-a7f9-1007183aa27c"
      },
      "source": [
        "np.max([np.abs(25), np.abs(2), np.abs(5)])"
      ],
      "execution_count": 51,
      "outputs": [
        {
          "output_type": "execute_result",
          "data": {
            "text/plain": [
              "25"
            ]
          },
          "metadata": {},
          "execution_count": 51
        }
      ]
    },
    {
      "cell_type": "markdown",
      "metadata": {
        "id": "3MVTsXA8nNR0"
      },
      "source": [
        "**Return to slides here.**"
      ]
    },
    {
      "cell_type": "markdown",
      "metadata": {
        "id": "JzKlIpYZcgt9"
      },
      "source": [
        "### Orthogonal Vectors"
      ]
    },
    {
      "cell_type": "code",
      "metadata": {
        "id": "4jHg9La-cgt9",
        "colab": {
          "base_uri": "https://localhost:8080/"
        },
        "outputId": "8a4e9145-cecb-43ae-eecf-efaecd416eca"
      },
      "source": [
        "i = np.array([1, 0])\n",
        "i"
      ],
      "execution_count": 52,
      "outputs": [
        {
          "output_type": "execute_result",
          "data": {
            "text/plain": [
              "array([1, 0])"
            ]
          },
          "metadata": {},
          "execution_count": 52
        }
      ]
    },
    {
      "cell_type": "code",
      "metadata": {
        "id": "3FyLhPK3cguA",
        "colab": {
          "base_uri": "https://localhost:8080/"
        },
        "outputId": "0f35c7fa-7db7-4846-a4f3-beff637fab33"
      },
      "source": [
        "j = np.array([0, 1])\n",
        "j"
      ],
      "execution_count": 53,
      "outputs": [
        {
          "output_type": "execute_result",
          "data": {
            "text/plain": [
              "array([0, 1])"
            ]
          },
          "metadata": {},
          "execution_count": 53
        }
      ]
    },
    {
      "cell_type": "code",
      "metadata": {
        "id": "7eQtKhaDcguC",
        "scrolled": false,
        "colab": {
          "base_uri": "https://localhost:8080/"
        },
        "outputId": "7f57480b-29f9-421c-fb65-ca3b3f01bdb5"
      },
      "source": [
        "np.dot(i, j) # detail on the dot operation coming up..."
      ],
      "execution_count": 54,
      "outputs": [
        {
          "output_type": "execute_result",
          "data": {
            "text/plain": [
              "0"
            ]
          },
          "metadata": {},
          "execution_count": 54
        }
      ]
    },
    {
      "cell_type": "markdown",
      "metadata": {
        "id": "C6eMVPu4nNR7"
      },
      "source": [
        "**Return to slides here.**"
      ]
    },
    {
      "cell_type": "markdown",
      "metadata": {
        "id": "mK3AZH53o8Br"
      },
      "source": [
        "### Matrices (Rank 2 Tensors) in NumPy"
      ]
    },
    {
      "cell_type": "code",
      "metadata": {
        "id": "stk57cmaESW1",
        "colab": {
          "base_uri": "https://localhost:8080/"
        },
        "outputId": "2723135f-7e5f-4d05-888b-31d614d08289"
      },
      "source": [
        "# Use array() with nested brackets:\n",
        "X = np.array([[25, 2], [5, 26], [3, 7]])\n",
        "X"
      ],
      "execution_count": 55,
      "outputs": [
        {
          "output_type": "execute_result",
          "data": {
            "text/plain": [
              "array([[25,  2],\n",
              "       [ 5, 26],\n",
              "       [ 3,  7]])"
            ]
          },
          "metadata": {},
          "execution_count": 55
        }
      ]
    },
    {
      "cell_type": "code",
      "metadata": {
        "id": "IhDL4L8S6SLc",
        "colab": {
          "base_uri": "https://localhost:8080/"
        },
        "outputId": "72cebf73-5390-4b52-bc61-ef82576eb2a1"
      },
      "source": [
        "X.shape"
      ],
      "execution_count": 56,
      "outputs": [
        {
          "output_type": "execute_result",
          "data": {
            "text/plain": [
              "(3, 2)"
            ]
          },
          "metadata": {},
          "execution_count": 56
        }
      ]
    },
    {
      "cell_type": "code",
      "metadata": {
        "id": "q3oyaAK36SLe",
        "colab": {
          "base_uri": "https://localhost:8080/"
        },
        "outputId": "5ca8b9f3-c80b-40ae-c4ad-241565bbe950"
      },
      "source": [
        "X.size"
      ],
      "execution_count": 57,
      "outputs": [
        {
          "output_type": "execute_result",
          "data": {
            "text/plain": [
              "6"
            ]
          },
          "metadata": {},
          "execution_count": 57
        }
      ]
    },
    {
      "cell_type": "code",
      "metadata": {
        "id": "YN9CHzja6SLg",
        "colab": {
          "base_uri": "https://localhost:8080/"
        },
        "outputId": "d0dfb64d-bca5-483e-962e-04d8bfac11a1"
      },
      "source": [
        "# Select left column of matrix X (zero-indexed)\n",
        "X[:,0]"
      ],
      "execution_count": 58,
      "outputs": [
        {
          "output_type": "execute_result",
          "data": {
            "text/plain": [
              "array([25,  5,  3])"
            ]
          },
          "metadata": {},
          "execution_count": 58
        }
      ]
    },
    {
      "cell_type": "code",
      "metadata": {
        "id": "ih7nh4qC6SLi",
        "colab": {
          "base_uri": "https://localhost:8080/"
        },
        "outputId": "b32521cc-25a7-42c5-e3bf-e2e1da29ef87"
      },
      "source": [
        "# Select middle row of matrix X:\n",
        "X[1,:]"
      ],
      "execution_count": 59,
      "outputs": [
        {
          "output_type": "execute_result",
          "data": {
            "text/plain": [
              "array([ 5, 26])"
            ]
          },
          "metadata": {},
          "execution_count": 59
        }
      ]
    },
    {
      "cell_type": "code",
      "metadata": {
        "id": "pg7numxP6SLl",
        "colab": {
          "base_uri": "https://localhost:8080/"
        },
        "outputId": "81b9488f-0de9-45ad-c4f9-778ee26e22e1"
      },
      "source": [
        "# Another slicing-by-index example:\n",
        "X[0:2, 0:2]"
      ],
      "execution_count": 60,
      "outputs": [
        {
          "output_type": "execute_result",
          "data": {
            "text/plain": [
              "array([[25,  2],\n",
              "       [ 5, 26]])"
            ]
          },
          "metadata": {},
          "execution_count": 60
        }
      ]
    },
    {
      "cell_type": "markdown",
      "metadata": {
        "id": "HGEfZiBb6SLt"
      },
      "source": [
        "### Matrices in PyTorch"
      ]
    },
    {
      "cell_type": "code",
      "metadata": {
        "id": "-bibT9ye6SLt",
        "colab": {
          "base_uri": "https://localhost:8080/"
        },
        "outputId": "6e76dfdc-1a2f-4540-c94f-3deff9938e6c"
      },
      "source": [
        "X_pt = torch.tensor([[25, 2], [5, 26], [3, 7]])\n",
        "X_pt"
      ],
      "execution_count": 61,
      "outputs": [
        {
          "output_type": "execute_result",
          "data": {
            "text/plain": [
              "tensor([[25,  2],\n",
              "        [ 5, 26],\n",
              "        [ 3,  7]])"
            ]
          },
          "metadata": {},
          "execution_count": 61
        }
      ]
    },
    {
      "cell_type": "code",
      "metadata": {
        "id": "TBPu1L7P6SLv",
        "colab": {
          "base_uri": "https://localhost:8080/"
        },
        "outputId": "f2b02fd2-2602-40b2-e4c1-088ab1f730ff"
      },
      "source": [
        "X_pt.shape # pythonic relative to TensorFlow"
      ],
      "execution_count": 62,
      "outputs": [
        {
          "output_type": "execute_result",
          "data": {
            "text/plain": [
              "torch.Size([3, 2])"
            ]
          },
          "metadata": {},
          "execution_count": 62
        }
      ]
    },
    {
      "cell_type": "code",
      "metadata": {
        "id": "4mTj56M16SLw",
        "colab": {
          "base_uri": "https://localhost:8080/"
        },
        "outputId": "43d10149-e317-497c-908f-90c7fe711843"
      },
      "source": [
        "X_pt[1,:] # N.B.: Python is zero-indexed; written algebra is one-indexed"
      ],
      "execution_count": 63,
      "outputs": [
        {
          "output_type": "execute_result",
          "data": {
            "text/plain": [
              "tensor([ 5, 26])"
            ]
          },
          "metadata": {},
          "execution_count": 63
        }
      ]
    },
    {
      "cell_type": "markdown",
      "metadata": {
        "id": "E026fQlD6SLn"
      },
      "source": [
        "### Matrices in TensorFlow"
      ]
    },
    {
      "cell_type": "code",
      "metadata": {
        "id": "1gtGH6oA6SLn",
        "colab": {
          "base_uri": "https://localhost:8080/"
        },
        "outputId": "7d5e1bd2-130c-4695-f713-a1fa67c3b190"
      },
      "source": [
        "X_tf = tf.Variable([[25, 2], [5, 26], [3, 7]])\n",
        "X_tf"
      ],
      "execution_count": 64,
      "outputs": [
        {
          "output_type": "execute_result",
          "data": {
            "text/plain": [
              "<tf.Variable 'Variable:0' shape=(3, 2) dtype=int32, numpy=\n",
              "array([[25,  2],\n",
              "       [ 5, 26],\n",
              "       [ 3,  7]], dtype=int32)>"
            ]
          },
          "metadata": {},
          "execution_count": 64
        }
      ]
    },
    {
      "cell_type": "code",
      "metadata": {
        "id": "4CV_KiTP6SLp",
        "colab": {
          "base_uri": "https://localhost:8080/"
        },
        "outputId": "c64102ed-0278-4fe9-eb39-5be2c1fef80b"
      },
      "source": [
        "tf.rank(X_tf)"
      ],
      "execution_count": 65,
      "outputs": [
        {
          "output_type": "execute_result",
          "data": {
            "text/plain": [
              "<tf.Tensor: shape=(), dtype=int32, numpy=2>"
            ]
          },
          "metadata": {},
          "execution_count": 65
        }
      ]
    },
    {
      "cell_type": "code",
      "metadata": {
        "id": "vUsce8tC6SLq",
        "colab": {
          "base_uri": "https://localhost:8080/"
        },
        "outputId": "7a2c607c-48ca-41b4-a1f7-9c73fa4297f0"
      },
      "source": [
        "tf.shape(X_tf)"
      ],
      "execution_count": 66,
      "outputs": [
        {
          "output_type": "execute_result",
          "data": {
            "text/plain": [
              "<tf.Tensor: shape=(2,), dtype=int32, numpy=array([3, 2], dtype=int32)>"
            ]
          },
          "metadata": {},
          "execution_count": 66
        }
      ]
    },
    {
      "cell_type": "code",
      "metadata": {
        "id": "QNpfvNPj6SLr",
        "colab": {
          "base_uri": "https://localhost:8080/"
        },
        "outputId": "98fe9be0-c25e-40d2-e6a1-d836951e9326"
      },
      "source": [
        "X_tf[1,:]"
      ],
      "execution_count": 67,
      "outputs": [
        {
          "output_type": "execute_result",
          "data": {
            "text/plain": [
              "<tf.Tensor: shape=(2,), dtype=int32, numpy=array([ 5, 26], dtype=int32)>"
            ]
          },
          "metadata": {},
          "execution_count": 67
        }
      ]
    },
    {
      "cell_type": "markdown",
      "metadata": {
        "id": "CodS4evY6SLy"
      },
      "source": [
        "**Return to slides here.**"
      ]
    },
    {
      "cell_type": "markdown",
      "metadata": {
        "id": "cMpfujF_6SLy"
      },
      "source": [
        "### Higher-Rank Tensors\n",
        "\n",
        "As an example, rank 4 tensors are common for images, where each dimension corresponds to:\n",
        "\n",
        "1. Number of images in training batch, e.g., 32\n",
        "2. Image height in pixels, e.g., 28 for [MNIST digits](http://yann.lecun.com/exdb/mnist/)\n",
        "3. Image width in pixels, e.g., 28\n",
        "4. Number of color channels, e.g., 3 for full-color images (RGB)"
      ]
    },
    {
      "cell_type": "code",
      "metadata": {
        "id": "KSZlICRR6SL1"
      },
      "source": [
        "images_pt = torch.zeros([32, 28, 28, 3])"
      ],
      "execution_count": 68,
      "outputs": []
    },
    {
      "cell_type": "code",
      "metadata": {
        "id": "6Dqj0vmh6SL2"
      },
      "source": [
        "# images_pt"
      ],
      "execution_count": 69,
      "outputs": []
    },
    {
      "cell_type": "code",
      "metadata": {
        "id": "7TASTVD96SLy"
      },
      "source": [
        "images_tf = tf.zeros([32, 28, 28, 3])"
      ],
      "execution_count": 70,
      "outputs": []
    },
    {
      "cell_type": "code",
      "metadata": {
        "id": "ftOliyru6SL0"
      },
      "source": [
        "# images_tf"
      ],
      "execution_count": 71,
      "outputs": []
    },
    {
      "cell_type": "markdown",
      "metadata": {
        "id": "O3sgkdXZ6SL3"
      },
      "source": [
        "**Return to slides here.**"
      ]
    },
    {
      "cell_type": "markdown",
      "metadata": {
        "id": "lmG3LEZK6SL4"
      },
      "source": [
        "## Segment 2: Common Tensor Operations"
      ]
    },
    {
      "cell_type": "markdown",
      "metadata": {
        "id": "iSHGMCxd6SL4"
      },
      "source": [
        "### Tensor Transposition"
      ]
    },
    {
      "cell_type": "code",
      "metadata": {
        "id": "1YN1narR6SL4",
        "colab": {
          "base_uri": "https://localhost:8080/"
        },
        "outputId": "a3b7c446-8919-4015-e89e-08057283ffa5"
      },
      "source": [
        "X"
      ],
      "execution_count": 72,
      "outputs": [
        {
          "output_type": "execute_result",
          "data": {
            "text/plain": [
              "array([[25,  2],\n",
              "       [ 5, 26],\n",
              "       [ 3,  7]])"
            ]
          },
          "metadata": {},
          "execution_count": 72
        }
      ]
    },
    {
      "cell_type": "code",
      "metadata": {
        "id": "5hf3M_NL6SL5",
        "colab": {
          "base_uri": "https://localhost:8080/"
        },
        "outputId": "10d69c89-aea2-455f-8732-517daaaea58b"
      },
      "source": [
        "X.T"
      ],
      "execution_count": 73,
      "outputs": [
        {
          "output_type": "execute_result",
          "data": {
            "text/plain": [
              "array([[25,  5,  3],\n",
              "       [ 2, 26,  7]])"
            ]
          },
          "metadata": {},
          "execution_count": 73
        }
      ]
    },
    {
      "cell_type": "code",
      "metadata": {
        "id": "vyBFN_4g6SL9",
        "colab": {
          "base_uri": "https://localhost:8080/"
        },
        "outputId": "416f13ce-c5ce-494f-82fa-8c3f5d565ca0"
      },
      "source": [
        "X_pt.T"
      ],
      "execution_count": 74,
      "outputs": [
        {
          "output_type": "execute_result",
          "data": {
            "text/plain": [
              "tensor([[25,  5,  3],\n",
              "        [ 2, 26,  7]])"
            ]
          },
          "metadata": {},
          "execution_count": 74
        }
      ]
    },
    {
      "cell_type": "code",
      "metadata": {
        "id": "K2DuDJc_6SL6",
        "colab": {
          "base_uri": "https://localhost:8080/"
        },
        "outputId": "d1cc7371-d713-495b-f7b0-ea74ba29265e"
      },
      "source": [
        "tf.transpose(X_tf) # less Pythonic"
      ],
      "execution_count": 75,
      "outputs": [
        {
          "output_type": "execute_result",
          "data": {
            "text/plain": [
              "<tf.Tensor: shape=(2, 3), dtype=int32, numpy=\n",
              "array([[25,  5,  3],\n",
              "       [ 2, 26,  7]], dtype=int32)>"
            ]
          },
          "metadata": {},
          "execution_count": 75
        }
      ]
    },
    {
      "cell_type": "markdown",
      "metadata": {
        "id": "Hp9P1jx76SL_"
      },
      "source": [
        "### Basic Arithmetical Properties"
      ]
    },
    {
      "cell_type": "markdown",
      "metadata": {
        "id": "WxaImEUc6SMA"
      },
      "source": [
        "Adding or multiplying with scalar applies operation to all elements and tensor shape is retained:"
      ]
    },
    {
      "cell_type": "code",
      "metadata": {
        "id": "yhXGETii6SMA",
        "colab": {
          "base_uri": "https://localhost:8080/"
        },
        "outputId": "4b9705b3-8193-4029-e613-71b7e3ad2eb4"
      },
      "source": [
        "X*2"
      ],
      "execution_count": 76,
      "outputs": [
        {
          "output_type": "execute_result",
          "data": {
            "text/plain": [
              "array([[50,  4],\n",
              "       [10, 52],\n",
              "       [ 6, 14]])"
            ]
          },
          "metadata": {},
          "execution_count": 76
        }
      ]
    },
    {
      "cell_type": "code",
      "metadata": {
        "id": "KnPULtDO6SMC",
        "colab": {
          "base_uri": "https://localhost:8080/"
        },
        "outputId": "1f6b586e-cd63-40c3-a7d0-19418d5507e3"
      },
      "source": [
        "X+2"
      ],
      "execution_count": 77,
      "outputs": [
        {
          "output_type": "execute_result",
          "data": {
            "text/plain": [
              "array([[27,  4],\n",
              "       [ 7, 28],\n",
              "       [ 5,  9]])"
            ]
          },
          "metadata": {},
          "execution_count": 77
        }
      ]
    },
    {
      "cell_type": "code",
      "metadata": {
        "id": "MkfC0Gsb6SMD",
        "colab": {
          "base_uri": "https://localhost:8080/"
        },
        "outputId": "c3b6eba7-ea53-4ceb-d7a4-45493bddda3a"
      },
      "source": [
        "X*2+2"
      ],
      "execution_count": 78,
      "outputs": [
        {
          "output_type": "execute_result",
          "data": {
            "text/plain": [
              "array([[52,  6],\n",
              "       [12, 54],\n",
              "       [ 8, 16]])"
            ]
          },
          "metadata": {},
          "execution_count": 78
        }
      ]
    },
    {
      "cell_type": "code",
      "metadata": {
        "id": "04bIDpGj6SMH",
        "colab": {
          "base_uri": "https://localhost:8080/"
        },
        "outputId": "4e74c622-dd7d-4e13-c89f-6603e46ff7dc"
      },
      "source": [
        "X_pt*2+2 # Python operators are overloaded; could alternatively use torch.mul() or torch.add()"
      ],
      "execution_count": 79,
      "outputs": [
        {
          "output_type": "execute_result",
          "data": {
            "text/plain": [
              "tensor([[52,  6],\n",
              "        [12, 54],\n",
              "        [ 8, 16]])"
            ]
          },
          "metadata": {},
          "execution_count": 79
        }
      ]
    },
    {
      "cell_type": "code",
      "metadata": {
        "id": "2oRBSmRL6SMI",
        "colab": {
          "base_uri": "https://localhost:8080/"
        },
        "outputId": "c2cf4e75-2140-4ec6-f6e1-87008d2ea403"
      },
      "source": [
        "torch.add(torch.mul(X_pt, 2), 2)"
      ],
      "execution_count": 80,
      "outputs": [
        {
          "output_type": "execute_result",
          "data": {
            "text/plain": [
              "tensor([[52,  6],\n",
              "        [12, 54],\n",
              "        [ 8, 16]])"
            ]
          },
          "metadata": {},
          "execution_count": 80
        }
      ]
    },
    {
      "cell_type": "code",
      "metadata": {
        "id": "OMSb9Otd6SMF",
        "colab": {
          "base_uri": "https://localhost:8080/"
        },
        "outputId": "7056c7eb-966e-499c-8eb8-9679b245dfbd"
      },
      "source": [
        "X_tf*2+2 # Operators likewise overloaded; could equally use tf.multiply() tf.add()"
      ],
      "execution_count": 81,
      "outputs": [
        {
          "output_type": "execute_result",
          "data": {
            "text/plain": [
              "<tf.Tensor: shape=(3, 2), dtype=int32, numpy=\n",
              "array([[52,  6],\n",
              "       [12, 54],\n",
              "       [ 8, 16]], dtype=int32)>"
            ]
          },
          "metadata": {},
          "execution_count": 81
        }
      ]
    },
    {
      "cell_type": "code",
      "metadata": {
        "id": "5ya2xZ4u6SMG",
        "colab": {
          "base_uri": "https://localhost:8080/"
        },
        "outputId": "30fe5864-29c6-4508-ec62-36a9700b7465"
      },
      "source": [
        "tf.add(tf.multiply(X_tf, 2), 2)"
      ],
      "execution_count": 82,
      "outputs": [
        {
          "output_type": "execute_result",
          "data": {
            "text/plain": [
              "<tf.Tensor: shape=(3, 2), dtype=int32, numpy=\n",
              "array([[52,  6],\n",
              "       [12, 54],\n",
              "       [ 8, 16]], dtype=int32)>"
            ]
          },
          "metadata": {},
          "execution_count": 82
        }
      ]
    },
    {
      "cell_type": "markdown",
      "metadata": {
        "id": "wt8Ls4076SMK"
      },
      "source": [
        "If two tensors have the same size, operations are often by default applied element-wise. This is **not matrix multiplication**, which we'll cover later, but is rather called the **Hadamard product** or simply the **element-wise product**.\n",
        "\n",
        "The mathematical notation is $A \\odot X$"
      ]
    },
    {
      "cell_type": "code",
      "metadata": {
        "id": "KUMyU1t46SMK",
        "colab": {
          "base_uri": "https://localhost:8080/"
        },
        "outputId": "eaced4e7-a25d-4e5f-aaff-f37abac3602d"
      },
      "source": [
        "X"
      ],
      "execution_count": 83,
      "outputs": [
        {
          "output_type": "execute_result",
          "data": {
            "text/plain": [
              "array([[25,  2],\n",
              "       [ 5, 26],\n",
              "       [ 3,  7]])"
            ]
          },
          "metadata": {},
          "execution_count": 83
        }
      ]
    },
    {
      "cell_type": "code",
      "metadata": {
        "id": "UNIbp0P36SML",
        "colab": {
          "base_uri": "https://localhost:8080/"
        },
        "outputId": "7adfa1ea-303f-43ef-e922-4ee78f642c1f"
      },
      "source": [
        "A = X+2\n",
        "A"
      ],
      "execution_count": 84,
      "outputs": [
        {
          "output_type": "execute_result",
          "data": {
            "text/plain": [
              "array([[27,  4],\n",
              "       [ 7, 28],\n",
              "       [ 5,  9]])"
            ]
          },
          "metadata": {},
          "execution_count": 84
        }
      ]
    },
    {
      "cell_type": "code",
      "metadata": {
        "id": "HE9xPWPdcgu4",
        "colab": {
          "base_uri": "https://localhost:8080/"
        },
        "outputId": "01d9e94d-c8ac-48a7-fb32-039c0b9a2a3d"
      },
      "source": [
        "A + X"
      ],
      "execution_count": 85,
      "outputs": [
        {
          "output_type": "execute_result",
          "data": {
            "text/plain": [
              "array([[52,  6],\n",
              "       [12, 54],\n",
              "       [ 8, 16]])"
            ]
          },
          "metadata": {},
          "execution_count": 85
        }
      ]
    },
    {
      "cell_type": "code",
      "metadata": {
        "id": "xKyCwGia6SMP",
        "colab": {
          "base_uri": "https://localhost:8080/"
        },
        "outputId": "7147d0f6-a1a8-4189-ee52-d44d375ea3fa"
      },
      "source": [
        "A * X"
      ],
      "execution_count": 86,
      "outputs": [
        {
          "output_type": "execute_result",
          "data": {
            "text/plain": [
              "array([[675,   8],\n",
              "       [ 35, 728],\n",
              "       [ 15,  63]])"
            ]
          },
          "metadata": {},
          "execution_count": 86
        }
      ]
    },
    {
      "cell_type": "code",
      "metadata": {
        "id": "B5jXGIBp6SMT"
      },
      "source": [
        "A_pt = X_pt + 2"
      ],
      "execution_count": 87,
      "outputs": []
    },
    {
      "cell_type": "code",
      "metadata": {
        "id": "A7k6yxu36SMU",
        "colab": {
          "base_uri": "https://localhost:8080/"
        },
        "outputId": "be98b5cd-4764-4fd8-eb49-cffd58d80407"
      },
      "source": [
        "A_pt + X_pt"
      ],
      "execution_count": 88,
      "outputs": [
        {
          "output_type": "execute_result",
          "data": {
            "text/plain": [
              "tensor([[52,  6],\n",
              "        [12, 54],\n",
              "        [ 8, 16]])"
            ]
          },
          "metadata": {},
          "execution_count": 88
        }
      ]
    },
    {
      "cell_type": "code",
      "metadata": {
        "id": "r8vOul0m6SMW",
        "colab": {
          "base_uri": "https://localhost:8080/"
        },
        "outputId": "39b481fe-434c-4131-8701-b5eac42871cd"
      },
      "source": [
        "A_pt * X_pt"
      ],
      "execution_count": 89,
      "outputs": [
        {
          "output_type": "execute_result",
          "data": {
            "text/plain": [
              "tensor([[675,   8],\n",
              "        [ 35, 728],\n",
              "        [ 15,  63]])"
            ]
          },
          "metadata": {},
          "execution_count": 89
        }
      ]
    },
    {
      "cell_type": "code",
      "metadata": {
        "id": "rQcBMSb76SMQ"
      },
      "source": [
        "A_tf = X_tf + 2"
      ],
      "execution_count": 90,
      "outputs": []
    },
    {
      "cell_type": "code",
      "metadata": {
        "id": "x6s1wtNj6SMR",
        "colab": {
          "base_uri": "https://localhost:8080/"
        },
        "outputId": "ffb218d3-9e73-4163-f5f8-b6398fca0d64"
      },
      "source": [
        "A_tf + X_tf"
      ],
      "execution_count": 91,
      "outputs": [
        {
          "output_type": "execute_result",
          "data": {
            "text/plain": [
              "<tf.Tensor: shape=(3, 2), dtype=int32, numpy=\n",
              "array([[52,  6],\n",
              "       [12, 54],\n",
              "       [ 8, 16]], dtype=int32)>"
            ]
          },
          "metadata": {},
          "execution_count": 91
        }
      ]
    },
    {
      "cell_type": "code",
      "metadata": {
        "id": "J1D7--296SMS",
        "colab": {
          "base_uri": "https://localhost:8080/"
        },
        "outputId": "6ef55c47-7ebc-4c92-847f-f430e8915d06"
      },
      "source": [
        "A_tf * X_tf"
      ],
      "execution_count": 92,
      "outputs": [
        {
          "output_type": "execute_result",
          "data": {
            "text/plain": [
              "<tf.Tensor: shape=(3, 2), dtype=int32, numpy=\n",
              "array([[675,   8],\n",
              "       [ 35, 728],\n",
              "       [ 15,  63]], dtype=int32)>"
            ]
          },
          "metadata": {},
          "execution_count": 92
        }
      ]
    },
    {
      "cell_type": "markdown",
      "metadata": {
        "id": "FE5f-FEq6SMY"
      },
      "source": [
        "### Reduction"
      ]
    },
    {
      "cell_type": "markdown",
      "metadata": {
        "id": "WPJ9FVQF6SMY"
      },
      "source": [
        "Calculating the sum across all elements of a tensor is a common operation. For example:\n",
        "\n",
        "* For vector ***x*** of length *n*, we calculate $\\sum_{i=1}^{n} x_i$\n",
        "* For matrix ***X*** with *m* by *n* dimensions, we calculate $\\sum_{i=1}^{m} \\sum_{j=1}^{n} X_{i,j}$"
      ]
    },
    {
      "cell_type": "code",
      "metadata": {
        "id": "rXi2stvz6SMZ",
        "colab": {
          "base_uri": "https://localhost:8080/"
        },
        "outputId": "df6f6f17-ec8b-4e1c-ee97-02f940997bd9"
      },
      "source": [
        "X"
      ],
      "execution_count": 93,
      "outputs": [
        {
          "output_type": "execute_result",
          "data": {
            "text/plain": [
              "array([[25,  2],\n",
              "       [ 5, 26],\n",
              "       [ 3,  7]])"
            ]
          },
          "metadata": {},
          "execution_count": 93
        }
      ]
    },
    {
      "cell_type": "code",
      "metadata": {
        "id": "W9FKaJbf6SMZ",
        "colab": {
          "base_uri": "https://localhost:8080/"
        },
        "outputId": "78dda3cb-cd1f-4b04-ce46-cd734ae72b3f"
      },
      "source": [
        "X.sum()"
      ],
      "execution_count": 94,
      "outputs": [
        {
          "output_type": "execute_result",
          "data": {
            "text/plain": [
              "68"
            ]
          },
          "metadata": {},
          "execution_count": 94
        }
      ]
    },
    {
      "cell_type": "code",
      "metadata": {
        "id": "3y9aw7t66SMc",
        "colab": {
          "base_uri": "https://localhost:8080/"
        },
        "outputId": "2417ee95-29c8-4969-b427-fa453e10f583"
      },
      "source": [
        "torch.sum(X_pt)"
      ],
      "execution_count": 95,
      "outputs": [
        {
          "output_type": "execute_result",
          "data": {
            "text/plain": [
              "tensor(68)"
            ]
          },
          "metadata": {},
          "execution_count": 95
        }
      ]
    },
    {
      "cell_type": "code",
      "metadata": {
        "id": "wcjRtFml6SMb",
        "colab": {
          "base_uri": "https://localhost:8080/"
        },
        "outputId": "17ea7337-1b98-48eb-cfa3-c00e069c83ce"
      },
      "source": [
        "tf.reduce_sum(X_tf)"
      ],
      "execution_count": 96,
      "outputs": [
        {
          "output_type": "execute_result",
          "data": {
            "text/plain": [
              "<tf.Tensor: shape=(), dtype=int32, numpy=68>"
            ]
          },
          "metadata": {},
          "execution_count": 96
        }
      ]
    },
    {
      "cell_type": "code",
      "metadata": {
        "id": "awjH9bOz6SMc",
        "colab": {
          "base_uri": "https://localhost:8080/"
        },
        "outputId": "7d42e06f-dc43-486a-c4da-a717db05aedf"
      },
      "source": [
        "# Can also be done along one specific axis alone, e.g.:\n",
        "X.sum(axis=0) # summing over all rows (i.e., along columns)"
      ],
      "execution_count": 97,
      "outputs": [
        {
          "output_type": "execute_result",
          "data": {
            "text/plain": [
              "array([33, 35])"
            ]
          },
          "metadata": {},
          "execution_count": 97
        }
      ]
    },
    {
      "cell_type": "code",
      "metadata": {
        "id": "n2SASjsn6SMd",
        "colab": {
          "base_uri": "https://localhost:8080/"
        },
        "outputId": "efdfb96a-fb53-496a-812f-e65dffd0d3f4"
      },
      "source": [
        "X.sum(axis=1) # summing over all columns (i.e., along rows)"
      ],
      "execution_count": 98,
      "outputs": [
        {
          "output_type": "execute_result",
          "data": {
            "text/plain": [
              "array([27, 31, 10])"
            ]
          },
          "metadata": {},
          "execution_count": 98
        }
      ]
    },
    {
      "cell_type": "code",
      "metadata": {
        "id": "uVnSxvSJ6SMh",
        "colab": {
          "base_uri": "https://localhost:8080/"
        },
        "outputId": "0d550f1e-6d7e-4776-da90-027fa417f273"
      },
      "source": [
        "torch.sum(X_pt, 0)"
      ],
      "execution_count": 99,
      "outputs": [
        {
          "output_type": "execute_result",
          "data": {
            "text/plain": [
              "tensor([33, 35])"
            ]
          },
          "metadata": {},
          "execution_count": 99
        }
      ]
    },
    {
      "cell_type": "code",
      "metadata": {
        "id": "IO8drxz36SMe",
        "colab": {
          "base_uri": "https://localhost:8080/"
        },
        "outputId": "6ca9b376-9562-4eb9-8c06-6efb4cc19a5d"
      },
      "source": [
        "tf.reduce_sum(X_tf, 1)"
      ],
      "execution_count": 100,
      "outputs": [
        {
          "output_type": "execute_result",
          "data": {
            "text/plain": [
              "<tf.Tensor: shape=(3,), dtype=int32, numpy=array([27, 31, 10], dtype=int32)>"
            ]
          },
          "metadata": {},
          "execution_count": 100
        }
      ]
    },
    {
      "cell_type": "markdown",
      "metadata": {
        "id": "gdAe8S4A6SMj"
      },
      "source": [
        "Many other operations can be applied with reduction along all or a selection of axes, e.g.:\n",
        "\n",
        "* maximum\n",
        "* minimum\n",
        "* mean\n",
        "* product\n",
        "\n",
        "They're fairly straightforward and used less often than summation, so you're welcome to look them up in library docs if you ever need them."
      ]
    },
    {
      "cell_type": "markdown",
      "metadata": {
        "id": "r2eW8S_46SMj"
      },
      "source": [
        "### The Dot Product"
      ]
    },
    {
      "cell_type": "markdown",
      "metadata": {
        "id": "LImETgD76SMj"
      },
      "source": [
        "If we have two vectors (say, ***x*** and ***y***) with the same length *n*, we can calculate the dot product between them. This is annotated several different ways, including the following:\n",
        "\n",
        "* $x \\cdot y$\n",
        "* $x^Ty$\n",
        "* $\\langle x,y \\rangle$\n",
        "\n",
        "Regardless which notation you use (I prefer the first), the calculation is the same; we calculate products in an element-wise fashion and then sum reductively across the products to a scalar value. That is, $x \\cdot y = \\sum_{i=1}^{n} x_i y_i$\n",
        "\n",
        "The dot product is ubiquitous in deep learning: It is performed at every artificial neuron in a deep neural network, which may be made up of millions (or orders of magnitude more) of these neurons."
      ]
    },
    {
      "cell_type": "code",
      "metadata": {
        "id": "HveIE3IDcgvP",
        "colab": {
          "base_uri": "https://localhost:8080/"
        },
        "outputId": "635df13d-9d9f-4a60-900c-feeb0092f1db"
      },
      "source": [
        "x"
      ],
      "execution_count": 101,
      "outputs": [
        {
          "output_type": "execute_result",
          "data": {
            "text/plain": [
              "array([25,  2,  5])"
            ]
          },
          "metadata": {},
          "execution_count": 101
        }
      ]
    },
    {
      "cell_type": "code",
      "metadata": {
        "id": "3ZjkZcvVcgvQ",
        "colab": {
          "base_uri": "https://localhost:8080/"
        },
        "outputId": "6b083652-59e2-425b-8e47-23a7f1bdc3fe"
      },
      "source": [
        "y = np.array([0, 1, 2])\n",
        "y"
      ],
      "execution_count": 102,
      "outputs": [
        {
          "output_type": "execute_result",
          "data": {
            "text/plain": [
              "array([0, 1, 2])"
            ]
          },
          "metadata": {},
          "execution_count": 102
        }
      ]
    },
    {
      "cell_type": "code",
      "metadata": {
        "id": "Xu8z0QB0cgvR",
        "colab": {
          "base_uri": "https://localhost:8080/"
        },
        "outputId": "7af9c3fb-4020-4d8a-e7bd-da0e62220eba"
      },
      "source": [
        "25*0 + 2*1 + 5*2"
      ],
      "execution_count": 103,
      "outputs": [
        {
          "output_type": "execute_result",
          "data": {
            "text/plain": [
              "12"
            ]
          },
          "metadata": {},
          "execution_count": 103
        }
      ]
    },
    {
      "cell_type": "code",
      "metadata": {
        "id": "ThehRrr8cgvS",
        "colab": {
          "base_uri": "https://localhost:8080/"
        },
        "outputId": "cdc88f6d-f601-4d69-dd3a-c5e21640afc4"
      },
      "source": [
        "np.dot(x, y)"
      ],
      "execution_count": 104,
      "outputs": [
        {
          "output_type": "execute_result",
          "data": {
            "text/plain": [
              "12"
            ]
          },
          "metadata": {},
          "execution_count": 104
        }
      ]
    },
    {
      "cell_type": "code",
      "metadata": {
        "id": "J5Zdua4xcgvT",
        "colab": {
          "base_uri": "https://localhost:8080/"
        },
        "outputId": "0702aec7-2034-4afb-adeb-80cc992d16ef"
      },
      "source": [
        "x_pt"
      ],
      "execution_count": 105,
      "outputs": [
        {
          "output_type": "execute_result",
          "data": {
            "text/plain": [
              "tensor([25,  2,  5])"
            ]
          },
          "metadata": {},
          "execution_count": 105
        }
      ]
    },
    {
      "cell_type": "code",
      "metadata": {
        "id": "b3vEdroXcgvU",
        "colab": {
          "base_uri": "https://localhost:8080/"
        },
        "outputId": "ec0fddaa-102b-4986-a02b-d9b52071a7e9"
      },
      "source": [
        "y_pt = torch.tensor([0, 1, 2])\n",
        "y_pt"
      ],
      "execution_count": 106,
      "outputs": [
        {
          "output_type": "execute_result",
          "data": {
            "text/plain": [
              "tensor([0, 1, 2])"
            ]
          },
          "metadata": {},
          "execution_count": 106
        }
      ]
    },
    {
      "cell_type": "code",
      "metadata": {
        "id": "F741E5imcgvV",
        "colab": {
          "base_uri": "https://localhost:8080/"
        },
        "outputId": "10f03949-5603-4f51-8f67-1899f3e4da29"
      },
      "source": [
        "np.dot(x_pt, y_pt)"
      ],
      "execution_count": 107,
      "outputs": [
        {
          "output_type": "execute_result",
          "data": {
            "text/plain": [
              "12"
            ]
          },
          "metadata": {},
          "execution_count": 107
        }
      ]
    },
    {
      "cell_type": "code",
      "metadata": {
        "id": "-W5loHc8cgvX",
        "colab": {
          "base_uri": "https://localhost:8080/"
        },
        "outputId": "da23eab1-039d-4127-cff1-261ff57cff4c"
      },
      "source": [
        "torch.dot(torch.tensor([25, 2, 5.]), torch.tensor([0, 1, 2.]))"
      ],
      "execution_count": 108,
      "outputs": [
        {
          "output_type": "execute_result",
          "data": {
            "text/plain": [
              "tensor(12.)"
            ]
          },
          "metadata": {},
          "execution_count": 108
        }
      ]
    },
    {
      "cell_type": "code",
      "metadata": {
        "id": "jUwKBiqzcgvY",
        "colab": {
          "base_uri": "https://localhost:8080/"
        },
        "outputId": "30286df4-efb5-43cf-d5ba-379262b0b473"
      },
      "source": [
        "x_tf"
      ],
      "execution_count": 109,
      "outputs": [
        {
          "output_type": "execute_result",
          "data": {
            "text/plain": [
              "<tf.Variable 'Variable:0' shape=(3,) dtype=int32, numpy=array([25,  2,  5], dtype=int32)>"
            ]
          },
          "metadata": {},
          "execution_count": 109
        }
      ]
    },
    {
      "cell_type": "code",
      "metadata": {
        "id": "Xqt3Rac7cgvZ",
        "colab": {
          "base_uri": "https://localhost:8080/"
        },
        "outputId": "9d30f676-dc45-4eb3-c06e-f666f7278231"
      },
      "source": [
        "y_tf = tf.Variable([0, 1, 2])\n",
        "y_tf"
      ],
      "execution_count": 110,
      "outputs": [
        {
          "output_type": "execute_result",
          "data": {
            "text/plain": [
              "<tf.Variable 'Variable:0' shape=(3,) dtype=int32, numpy=array([0, 1, 2], dtype=int32)>"
            ]
          },
          "metadata": {},
          "execution_count": 110
        }
      ]
    },
    {
      "cell_type": "code",
      "metadata": {
        "id": "x4pgc5JEcgvc",
        "colab": {
          "base_uri": "https://localhost:8080/"
        },
        "outputId": "fb77547b-8914-40ee-d31a-b37ec41d794d"
      },
      "source": [
        "tf.reduce_sum(tf.multiply(x_tf, y_tf))"
      ],
      "execution_count": 111,
      "outputs": [
        {
          "output_type": "execute_result",
          "data": {
            "text/plain": [
              "<tf.Tensor: shape=(), dtype=int32, numpy=12>"
            ]
          },
          "metadata": {},
          "execution_count": 111
        }
      ]
    },
    {
      "cell_type": "markdown",
      "metadata": {
        "id": "mSmvC1cc6SMj"
      },
      "source": [
        "**Return to slides here.**"
      ]
    },
    {
      "cell_type": "markdown",
      "metadata": {
        "id": "9dfTV7hQR6zn"
      },
      "source": [
        "### Solving Linear Systems"
      ]
    },
    {
      "cell_type": "markdown",
      "metadata": {
        "id": "pCoSpqtWSyFd"
      },
      "source": [
        "In the **Substitution** example, the two equations in the system are:\n",
        "$$ y = 3x $$\n",
        "$$ -5x + 2y = 2 $$\n",
        "\n",
        "The second equation can be rearranged to isolate $y$:\n",
        "$$ 2y = 2 + 5x $$\n",
        "$$ y = \\frac{2 + 5x}{2} = 1 + \\frac{5x}{2} $$"
      ]
    },
    {
      "cell_type": "code",
      "metadata": {
        "id": "1T0_m11kTh82"
      },
      "source": [
        "x = np.linspace(-10, 10, 1000) # start, finish, n points"
      ],
      "execution_count": 112,
      "outputs": []
    },
    {
      "cell_type": "code",
      "metadata": {
        "id": "_K6IyUWcTh85"
      },
      "source": [
        "y1 = 3 * x"
      ],
      "execution_count": 113,
      "outputs": []
    },
    {
      "cell_type": "code",
      "metadata": {
        "id": "DYkQdUJ5Th86"
      },
      "source": [
        "y2 = 1 + (5*x)/2"
      ],
      "execution_count": 114,
      "outputs": []
    },
    {
      "cell_type": "code",
      "metadata": {
        "colab": {
          "base_uri": "https://localhost:8080/",
          "height": 455
        },
        "id": "aBL9NDoHTh86",
        "outputId": "40ded00e-3c82-4b37-972a-6d4d569f06a0"
      },
      "source": [
        "fig, ax = plt.subplots()\n",
        "plt.xlabel('x')\n",
        "plt.ylabel('y')\n",
        "ax.set_xlim([0, 3])\n",
        "ax.set_ylim([0, 8])\n",
        "ax.plot(x, y1, c='green')\n",
        "ax.plot(x, y2, c='brown')\n",
        "plt.axvline(x=2, color='purple', linestyle='--')\n",
        "_ = plt.axhline(y=6, color='purple', linestyle='--')"
      ],
      "execution_count": 115,
      "outputs": [
        {
          "output_type": "display_data",
          "data": {
            "text/plain": [
              "<Figure size 640x480 with 1 Axes>"
            ],
            "image/png": "[encoded data removed]"
          },
          "metadata": {}
        }
      ]
    },
    {
      "cell_type": "markdown",
      "source": [
        "**Return to slides here.**"
      ],
      "metadata": {
        "id": "vACSnJgP87xA"
      }
    },
    {
      "cell_type": "markdown",
      "metadata": {
        "id": "F3X4p66XVFXH"
      },
      "source": [
        "In the **Elimination** example, the two equations in the system are:\n",
        "$$ 2x - 3y = 15 $$\n",
        "$$ 4x + 10y = 14 $$\n",
        "\n",
        "Both equations can be rearranged to isolate $y$. Starting with the first equation:\n",
        "$$ -3y = 15 - 2x $$\n",
        "$$ y = \\frac{15 - 2x}{-3} = -5 + \\frac{2x}{3} $$\n",
        "\n",
        "Then for the second equation:\n",
        "$$ 4x + 10y = 14 $$\n",
        "$$ 2x + 5y = 7 $$\n",
        "$$ 5y = 7 - 2x $$\n",
        "$$ y = \\frac{7 - 2x}{5} $$"
      ]
    },
    {
      "cell_type": "code",
      "metadata": {
        "id": "5x3kfV_WWhlR"
      },
      "source": [
        "y1 = -5 + (2*x)/3"
      ],
      "execution_count": 116,
      "outputs": []
    },
    {
      "cell_type": "code",
      "metadata": {
        "id": "dqA1lS0CWu5z"
      },
      "source": [
        "y2 = (7-2*x)/5"
      ],
      "execution_count": 117,
      "outputs": []
    },
    {
      "cell_type": "code",
      "metadata": {
        "id": "6CfRNs1DWzx5",
        "colab": {
          "base_uri": "https://localhost:8080/",
          "height": 455
        },
        "outputId": "394fbf02-e71b-46b8-c622-939f9fb4af25"
      },
      "source": [
        "fig, ax = plt.subplots()\n",
        "plt.xlabel('x')\n",
        "plt.ylabel('y')\n",
        "\n",
        "# Add x and y axes:\n",
        "plt.axvline(x=0, color='lightgray')\n",
        "plt.axhline(y=0, color='lightgray')\n",
        "\n",
        "ax.set_xlim([-2, 10])\n",
        "ax.set_ylim([-6, 4])\n",
        "ax.plot(x, y1, c='green')\n",
        "ax.plot(x, y2, c='brown')\n",
        "plt.axvline(x=6, color='purple', linestyle='--')\n",
        "_ = plt.axhline(y=-1, color='purple', linestyle='--')"
      ],
      "execution_count": 118,
      "outputs": [
        {
          "output_type": "display_data",
          "data": {
            "text/plain": [
              "<Figure size 640x480 with 1 Axes>"
            ],
            "image/png": "[encoded data removed]"
          },
          "metadata": {}
        }
      ]
    },
    {
      "cell_type": "markdown",
      "source": [
        "**Return to slides here.**"
      ],
      "metadata": {
        "id": "CezB87Tb-QGh"
      }
    },
    {
      "cell_type": "markdown",
      "metadata": {
        "id": "bYDhomCP6SMj"
      },
      "source": [
        "## Segment 3: Matrix Properties"
      ]
    },
    {
      "cell_type": "markdown",
      "metadata": {
        "id": "-HGU_an66SMk"
      },
      "source": [
        "### Frobenius Norm\n",
        "\n",
        "![image.png](data:image/png;base64,iVBORw0KGgoAAAANSUhEUgAAAlMAAAKGCAIAAADh0IkjAAAgAElEQVR4Aey9/4scy17///4H+oP+5E9vFB38gtGgn8hVV0UTwcvJerxm5YhncPWs5l7jetS4R+91PT/EMR6HNsI6Rsx61DhECbQYmOANTjQwWeFILxgmyMU9SC4T7v4waMAR9tpIlH5TX15Vr+ovM73zZXe2+7mEbE111ater0dV17Orumf7/8T4AQEQAAEQAIEqEfg/VQoWsYIACIAACIBADOXDIAABEAABEKgWAShftfob0YIACIAACED5MAZAAARAAASqRQDKV63+RrQgAAIgAAJQPowBEAABEACBahGA8lWrvxEtCIAACIAAlA9jAARAAARAoFoEoHzV6m9ECwIgAAIgMJXyHQZ1zw9PCF7oe149GM7Q2ii81wqeRzNYOMWqInzP8/z9U/JB9HU9OJzQetj0vOZJjYgJvpzc4WFQF32znjs6w+aMQ3cRsYgRNd1wGgb12c7ESYP5RCeWbLaiT/M7NLsOyy1+IpiSosUFnzuLbmIpxznrlazkeOUbButy3mX/iaE/1QDV0wSZKnzuza58B7sXa6sfHmSFv+x5ix6yJv6zOHaN86eUCP2sawJOkqdPyclxzR7XvRmVL3sw88mEp8c5PvsxMbMVnoJmb26chWws42qIY8fqu+maGO8Cd4Cnx9danqPjlY/8TIzIxEcqNf63oO81uiP9E70eX9wcnV35jKmzl5hxrike8Fkcu8WjW0zJ0M/a+eAkeXoxPsxk9bjuzTgas6vzyYSnZ4psYmUo30REEwrwwcPTE6otzeEZlG9f7cPxbS69myG2J1P7Y1L53D1SMdC97du79fPKyKh/b2vtvOd5tQtvbQcfq/1JqXz3ep3PrdY879yV7e5Lgveys33lnCczVWElrsGjbWGktrr9aCCLGu2US1jaWGD+DHrNjQs1YenSje6IzIvf0sPG/a5sqLb6ua6yGMf5rjZ3ty/XvPXgn6XSa2fOr7X2R4OkY7ylWPqjVsSantgP0T8ut9hwzthME3aagV6si30bWrjbPZxEdSog2hINyXEciN5dD4Y0GQmzZMFs1JgA2NA3xlNjQMJUAaUvt22jnhoMZIf6K44ZIspk0AwiqqgHoaNPYVNf6dvmVFDWN2PHBCeusGms02i35XkXZJIMaePEArFuUyC2MQk8UPuoMgQqbKvbgUE9ohYBxJZClqZCOk9po1ItVZOuOrJ0GNSNZRPpehCy3U7jA5m1ETg9RVOBKa/GmC5NvnnqjobrMNsDNPwtBNOe7cq8kWNC0Nu8xpraqZZA5HivB0NBW3YKG+SCVWaYHLsqYE6EiV6ZkqZFPsyoOcc3CjnZd5nAqbD4rZowXWDPPkZGt7jvG+yiFg0DZ3iYKcWZMY45zrl/p5GeWvn4FKCGo+gPzVSNYDcewTFxjSy5164GA7n+69++5NU22s+Ho9Gge+OSV9vqvtKTTu38psgf9ttXa97FXbFx+aq7Vatt3O2PotHBh3Wv1uhFamYUmcPRoPv+iudt94R6ioEu+1WOGJprjD8iUdvqvIyio4POna5zR1F72BYWH20Li0+ExTGuehf9UIqntC+dGfZ31z2vVlu90R0ox6S3Dh4xBdCcy+i5A45q7PuMc3IukO3aHqGrEHb2ZlU35yGdzGlnqH+Ze+SQ2XuhMuYASwwDX18P8WCpgDwtVaNqYrJpHey+b85D8nYYNPU9Npqn0g6QDMiGuPJZ4GKEEEbWCrnG0Dm7TI5lKmxQiAwZlLZMHsYxa4ICMbX1xZaahmRX6jlXpPU0FPp6DFvHxFEa2JakHL06X6SVJzZY3roz0qzy2cLqKtA6xnywM6mKg/cvGy1OEyZiVkA1kXKY9SkvTBZsvPoCJTlysgYes6lqET1GkmJn/UVt6t+ssM4xSCd6ZUpaIxknpjwXyDfeuqkuMnOAm/KiCbq5K9JmIFGmEEc9e9tRHTbr9XUFcxis0wlCRrkDMthjjnOyc1q/p1Y+RUReTyhkzvjIIKXoq8tSPR2Lcay1JI77fs1bvWvWVN0tz9t6NFK6ZfM/aqi6wwcbXo18EHZq/jOlfA39oIUYDfVALBAnKN/g3ppUXGexp/tDetj4SH2Sdu4PCroq49XOyDQNHQqBdbkZdjrPTNDZk4WtmcOZThXRblaaDNjqiXGsLwD1qpdxXg8CWjaREfHbVDcJfjSVtmeXOcQrZqVdROzKVFugHF5XHnLaMmB5MU5JjhaKV5l2BrZUJjtxuCVVe+ypFt4KCd6kQPjknpfWMYsBL3uK5midTyHz6s7UZicp09FkSpog5XPJZDfnVBS13QDl2FDSmCpJbWVd81k7Dn87YnWsbOzxcZhIU2Ei4zjp0HNCFoMqSE/6ZM25iFGZpsdNIuGJyTcJp0Vt2oTp+GbbdaLOBW7KO03QqHAylXyKucJYC317sou0syRwHLCnv2hR95exI72g09O4dOqJ2ZVPhC1GtlAa5ydxJShA8/t8tJeoi4n+8EhjxGihhZpJEEF56SqvMpLNySZoMpL+SOPGgugMRwn0KTfovr92zvNqn9jYTTwCKr2iQIQdUb2Yq9wZnpagSAV1/5uBbj7rh+iyJws5Oin4hCkp/1lqJ3zQ+ZKDrp8xCZpzUnhD54nyTGAn49pX+YtV0cbNlMqKSYC6XeomOswsOCcS5XOfpQl1KvJR50ZHDpjJTrSUq3xEU/52kSZPWmPQJCgG+Zsc1s2RG0YycwIxNjjwnLQcTtpjaT/hCX3k1W3sdjLlrjojjSmf9V9MikZoHV7ukDjmYOZO8rRxmHexbJbOR42MR5GTTg880QtkxwIxG4PUG6IYJ0D59rfuCxIG44BJHEf5+NhQg9DxzbbqCE8ucFOenftqahVnH/UmlUp0+r4vAqf/3S4WVfICFDOGoMFjkd1GiKi9U/49V+XLmhNNfHKIuPOdGOhm/GWs+eTWotQtsdISP9GTbc/b6AiudW+l1TfWZcJpIk/5buo1Yf/2CtvviuNoKDZIa75j0/GQlC9reWpdpWsj7gxP5yif4SAiMRN0cnSKg/ykTQ76xKkr2qVOoXR29XHjmF+Sr/u+nTIsfV5dd0WyGD+HaWq2BnJPJLKcESldXUorSX0yYTptGbBkVtTNgsw8c9YcRsDsDMKKiiS3zNNsRnCVNVGfz/5ZaepHUY0852zZxQqvbgeVLczdI1PSGzYJmvHDQnOQJtx3x6c4aJg7TZhq3EmeNhWTPWtq6gSPIitt42ULejM8VD/aHuF4xQBr+nYnPNmy/WxqGQdMgnET5U2+SVBd7pIZ7dx52xy3Mwa4qUBNqAzdfW6mXLqouUL2fqjuTeh0na4SjEkbiOuMOUFMCLbKUqXmp3xylZYGZKIVoM0cqnLFQLczfvLm2UW/T3fpvIuN7svR6GW3cdGrXZcPoYi6tbVbvcFoNBoedO6L+3NOExnKF4fNmlfbCD4eDZ+3N8/XlD/9Dxvdl1EUjcKd1WLKl7rPx1w1V4jcGZ7OUj7Xc3b+Z00W7GQQJe1Jq6CKtpJqJ45QfnZ1cx5mjGPda3RmJpRAtsqrKzeSOSwoScC9BmIzQsIBY0f47142UkSiwfRilCqS2/p2iB5vdFQ6m4VRRSH/l9dedEHDKmYLACvgzA6kfLIj3EBYW0y3EgtuAsjsi9DUeOPhy+0QiZeqKPukQHYAMFNmk0qOlHX6kiInI9IZzTnOyw+iX8yZznzIGsz58RrlmzSx8Cgy0swBNvDYqBD27UnEBpXOZznpWCmHTgrjgEnkjWdTgOwzNyx2lklNqd+muj61s4CbGtSErqqfSZYdSjN2Egi/w0dpY08kuAM8XXScO8ZO4cMclU8NYtoGSZ3bgr7pHhWpgz6O41G4s3lJPdv5TisUj7cIwmLb88OgJR7jrF14Z7d/pPLj0bPdzYvi2U7v/KXND4VKOk1kKV/8qucrO+8Gvbvan8F91ah37spWu8hup2g/31WaIrkzPJ2pfDR8FT2rCtmThdn/ESswe9IqLqKtccrH9qV5ddkXqoOS41j2WnJupSZUo1RFnD/6xy3gBCiuo22MrgXxiaxlpMm6EjDbnN9Uz6TZHANBApf1miHN/k4TohmDVD8fqJwy/8vlvrRhrmzYAsIUk4kxJOmkkOKkQ6Gph4yI6gQnO22cqftN89VyG7i/T5LMqztCQmOGuaqWDjrEffZspyHjPNtpm1P33cl7/VsOeBUgxSJPT0bP1lA0xKFshydMLGNGi2rOOsMHnopL9IijLnT6iADJW502g8e4bi1TlxlnTCJvPJsC1CIbhPbEdHwz7YqE03dq6ksCN+VtEyKLhoc1IirycchPdlGXxq0xmHDAxKLzqfy4ce7YOoUPxZTvFBxDkyAAAlMRoL3KqSqjUh6BYaAfdMwrgPyzRADKd5Z6C76CwCQCfLEyqSyOFydwGNRT2xjFa6PkshGA8i1bj8AfEDg2Ab6tZLd5j20GFUCgKgSgfFXpacQJAiAAAiCgCED5MBJAAARAAASqRQDKV63+RrQgAAIgAAJQPowBEAABEACBahGA8lWrvxEtCIAACIAAlA9jAARAAARAoFoEoHzV6m9ECwIgAAIgAOXDGAABEAABEKgWAShftfob0YIACET7rcajxPvmQKVaBBapfObvz4oE/ZFcjnfS+0d4WaRnJOD+1doZjc2tOv/buMczOvPg0X/3BH+SKp/79L2Tb3OOR6Z1r9+66K3cdl5HNtGrIqNlWn8mNr4MBcTfSed/1Vr5tJyzShFeE5WP/1F2endJEcOJd6xkVpl58sq0ikxDgP8N9WUfo/SeF+P8hMSMg8dclk1oZh6H59DWDKfhPCI4TRtzoOe4P7hbr9WyX7DslOMf5u0Dt33m0mdpVsmHW0T5spZr+RbtkYnDZcbJy7aEVDaBszRGT1756F0q2ezmmDvxRJjc1rK/53NyBFOXmAM91varbuNOXyzOrnaOsd25nK+/OBoO6ZVtJsJoOBRvNV3kz1maVfI5TKN8zkvjnDFh3hwm18VmyJqE8MOU8UOmfGJFon7M7pOopX/0KlvZoReG0duzbHBqWaP3Jfj+KjNlasn+C3xPLGT/WbzTLtDvlhMTIl1iZ02OtqJ+lxtFZDyX70JTrvPmdDDGpvVKvsPMIWlmOvmCLummMjUWlH0XGnvdmnj3VqheXihfUKfcsBsXCTcsTtVZ9UC2rt/gRfBNdesPvaKMv4qvHoSBfoOgDGSf+pRYqbOIGaGRYyiJvjDXXoTamzR4eBQ2QHrjGkWReC2ZepVaspu0KTEkTNTm9Zv0mjQNWZe19qWf2iK1nvZHv5JQj8asGZlDsLHRUGetC+N+IDFbb2UNW9iytaZsIOw9fHqOcy9KzGvqbK85vRnSOxr5aFQN2cFcdDhZkpKeG512T2TSCBHl0+2aMKNe0w8j8XbG7HfOua+s0ycv8yEPqSqp/bFTnD7VQpe/mROMW/GrsL2z2/k4il8Pw2C3tdPuvozieHTwcLe1sxs8G9mSTmrQeb8VMvGL9v3tYOAU0R8iYepeOIrj0Ytue6e1G/RTRvkYEycaBave56feFEgTo4hs7KyS5cRS5c1R+RiswyDYZ29bluNVdj+fPuQsps4ZdmrR6ImHgR8cSlZmNAs7tE3BhzsRVaei6jCR1mc4c0xKmiogJwJ9ksiK6uRRXWvT6WHKKsoQ9JlmWxHW9Fxg4g19liNtqpFErqtTzk5JZhQySuoFqlSGQKXsMJNURmTlw2GzBhknG6x1df6b/tJRD4OmfhWvwGKOkh0GVprS+ZaV9ZCNAasrynGtfAYmXT+lmrPWKAB1pUXnMLPgXGeY0uluMockQN2JIp3sROO/Ga6CeSCGvR3/2vO0P2xQ2RZZyowHmyfYEmfxZl2VludIetAKDtp5ASFVgI0iZoF4sqPmvaamRfYmYRmFHk52PFiXpxpOnB7zTV2mqEDojGP9axtlqee7jUdiwhfla37WjT47MkUpc62TNVqoUWufcJkca4EVtplUbtTZCYYvg3ptdWOnO3wdxy/aqytb2zvtg1EcR71tbyN3ffp6EHzOV+KXL3tx/Lzd2o/Cm96lK9vtL0ij73sbD5KXWDSqxYj11+mlx3p9YscAD1PERRop0mZAUmxL+7uI8tElq3j7soBlAfH5mi3gdLRmyJoEO1tEGV3FHQppO+ZkM3ZEZbeWbJINLzvdOJm2Ueet3LxMXloHxc5zfu6xtB0iSVbkpMSY8t85u8xMx625VTLpGS9lIjlGaeI2czEP1nlZs7bDW89LU5PZ/mQGYuFbD/nYyETBC9h+zGRCLqk5zkRta8nhMfYsdQa5sme90kFl0jNLIusEG7duFXMKWCC2lpMSYdofERHvDnU6SMlhbTkG2Id0aAmvTAHTOzaozF6mc9aUF60l+ktkcZ/z0uQo2TRjVRxwo2PNyR4JfLriJCPO70H7hr5KE/FmLQ0THGiCyhktqQCZP6JhZo0H686fcRy/6u4+HEZPtr03dw+Uwy/aq95WVy3mxitfHMdS/LqP81Z7wmL/w91+PAje9rYeq63QqPd++urHdtkwqIt9A3mCiPS+03c8TBZjsncc9sv3oYjy0ZqAvDcnhsig6cDJVCXNMDUJM5pVAXYW2bNabj/KqxF5hagPyMWZsSOr27NRWXOGmuoqvR53rnDJ4bz+433J09SIM0lxI5Tmbkvv5cwrTNEP+aNL6hUAOSYbyhQMd/pLgaKVhPHUcdWNRe1gyJOTvJK/E33Nz9icNNsLkvOO8Vy5YT7y6vbkJ2j2rBPVMlEcb/BoCMlhaSybhKUlUlndZEpQLOQJL0z0qIyp5M7Xef5YDryiTafN6h40RfTp4J4j5uj40BJemY/WK3uqqhGSPRRt+WQnKkf4GMhJJ4eTO5+60TnNsaU2j9qkhw82V99cq1/b3Hx3c/OtC+IyXm0pmRKy9+nclLlmkJgEK2yR0iWU449TJXtO4Mb6t1fM46bDBxve9a7ejdz3a2+2M3cwTfXRk8aly3rlZzKTiVF3y9sio6FfW2k9Txaha1/19nnzvwJl+4uHmTmrpO0uYc48lS95wWWGqUm4V0lELX1WO5cY1B/uOSDXXom5ngwqzmxyz7rqz+s/boSnTefxilnp5JTkXv3ZSZ8M0pByThXDhI6K0iaTqjq/eUl9gLvnxmLhOKe6YzDdC2ayoLZ4h9rJ0dwh4Baoimwie26lGSRX+UwBe5UznolUsqzed5vQYXNExkOORGWaS66sMu4aVFU249+6TVZJRHlP0TH+Ox2mw9OODdaWW9/swKdHYJKSccYk9Dloh2jaH9EaK5+4fFG+cJ+z0hnDyT3r3ehYc8Ifv2lj5LGL9FHPvxXaRz+ETNaDl8lSfACIY9Q7maPFVDa1Ev4wZc2YE0x1mRi03/QaH6k8uSC7r8UubNZW7w7i11H02q1Bn0YfqdWe3fakI85vsaZ8m+4BkppG7B6hKi3Htt4Y12l90tn+YmEmRs7EMB2XTvfDNMrH9jHkpZ9CIwYlTXm59/nEtQ/JlbwOMushNqkJInyIm6s5nllY+aQp06idmPL6z4zjhGKZfuIVM9PpOxysmHDAFRvjkh1bwgd9TWoztT8JUMatrO1f1m7OGBVIjZ5ZW5TirWekOSsTtcgkJ8cEoiBYD/msx7bFXAumH8cOHvJe/ObDkiOyk7gtbZ2RJd1uksVELd9f17eHpfEkPemwuX+cus+X4w9r2l3+au8ylEYAJ872lHTPERMbs58egYoSBSI9TPaOOt2avmHCezmrFWnTuKdLZAwheUTnC5t0mWKGkzMVuNGZoKgit2+ciuM4Cm9ud16xHKcX8vLNiZkZC6tFQ5f7Y0CpcjYcVs8mnQVZv7ViFmShX1ttv4hHD3cd/6kmyZ76PE78+JpSq+mrzu7D5GMu4mKO3eGzaXZKmjBTM2TZlI9vh6lTWowJvb2zr7eDBXs5nmjbR32U5fl4tWWcx/PEyKAfJY1yBpFZTd9Xm/LcTnHlcxwzU6dzfUpnjggiL02DzanIBwFLGz4eEzAVnrgylWeF3QAxJ4kJOflIJNuWSYHKsGNcpR4RvcDjsstodWFL5M28Qxb4VJKZtpH6TXuXxTiZF4hZLaWhJXqfWeADbMLgIf/lbzvkbO8LMsl5Wa1QE93kWJJLK3qQRx1J784p1MoMNaGA6I7O8odxKKp8ao2lu44acnTC8d2MEzMCncNCO8nnUD+/4wx1WYDUUVY1vWyecXCiyCCcOYT4xsC44STopWYAkWmujPVg1pcdKrzhU3/z4jnPO7d2o6ue6BA5ly/UPO/cxc3tR6l9xKzeyRwt5mw1twx1+MyCJJqYM82cwPiTdoqsF+21mgnhYPdivfWw3XqY8lOUDBoPEvmDzk7m0zDDYL1GS4744M6l+u3O7k4nUVm0Lpw3vSzGDNVifacDHDursOCWMzlxzbecbsOrs0LgLF0GnhWmi/bTbOcuuiHYJwJRZLdiY3cTMhql9iSp1nF+H7EG4jgaOR+PY6gkZaF8JenI5QxDLAto/2o5PYRXSQJ8CZU8hs8gUBICUL6SdOTyhMF2gdiNqOXxD56kCTgbdGazK10OOSBQEgJQvpJ0JMIAARAAARAoSADKVxAUioEACIAACJSEAJSvJB2JMEAABEAABAoSgPIVBIViIAACIAACJSEA5StJRyIMEAABEACBggSgfAVBoRgIgAAIgEBJCED5StKRCAMEQAAEQKAgAShfQVAoBgIgAAIgUBICUL6SdCTCAAEQAAEQKEgAylcQFIqBAAiAAAiUhMBUyif+1pH5a+IlAZEOw/nD8+nDc8yZmeeS/3nM47uX8VIezlv/gbT14J/ZG5F4geJp89aI4lXGlHRfiDGmYAUP6ZdF0N/+TxNgbwNIHzz9nBPzfyYOJzdrnX6PCA/MVKBexFHcqeVWvpkloTgIVZKPG54ubMe8C0a+n6TgH2s+8TALh3NaBccr30xTQyKkOSgfe8VMlZRPvFEoX8YSmBMvyaKjzsifZ7dSA3P7nd2zC/F/Jg6TZq3j9drc8C3K0PSsoHxOn/Bxw9NOoXEfpnopj3P+jLNemWMTlW9uWw5QvmkH1fHm0GzOzsiffhabNoRj1DtB/2fiMGnWOl6vHQPQ6RSdar6VrhZRPrOOoT/izserSKsfPRnJi6NAv7pWvDBTsBY/5uWZZonq2VfYyA4L6YW30pR5VaZ4u6tYy5o3Yeo3fCZYjwbde63WvXD4ajhMvmo4UTTzI/kpfBUOuC5R7FnOM3PpnpDjOBCv/UxEYV5oqd+3aeJlK0W9lregpLV9Yk4lzXB3zk/2atA8dOpKlo7aGKVLqlvtG+RlKzKS9WAox0CgHREVyVVmhLgY9+QbcZXZjGJkwXPeRiteBs2q2PEmHFP+i3bUmCSGbIS41ZVLxsh6YN7CSs6K3wSEDVpTxd3nNz6rt7Mqf0x1uyTKqa4atUZYh6qY/X0zokxCe6iNW8u0AhM5vuoaWSaLAEXr9Kn7DmfGkAHR4RubDBHZtOHQO04NEDvm3Vciy7bcsc2mC1Odu0StGU/kiGJjXpyp62qY2XNQv0SXxontIDJnN9BEB+hRahxYpP/mRMvj4Eaa01nmXMuaCowF02smJ+N8ZJMAXWiawcZOHOdtjvvm9dTGshsXmwntOKFhn85h3WIN6hefGWdoamWFJycnKh+7RpBnVGhmGWFcdpJ6Yzjt+UjvFUelJTatBy6VVFOMypRji40zxcK0qPSGAKXDip636teCwes4HnY2PW/jAdv1PXJfwpj46Noy44amv5RLWc4zG870JPNlh5HnAo45pY0p1YW6jICWD0pa0xZEWp26xu2s4Z6z0SSdU0NNGWG+Wcty+rCt2DNf+qz8VEZs2gRIXMg9NpbokP1taOhrCzts9PRkB4OFLJq2Q4UupETJ8dV1t6pzW9O2roR+si/YOLfFKJX0XONyeVKLrLCun8qxQWkNVvOOjVoNTuo1PzAnoJIl1jW8+/TFAXmtfsvzjuY1eZGhacsLVmoia9CyAo5JISpk0HaZGIQpznS9outnj21GIz1+Ujm5ykdjQ2me6l/uqomBZy7c/zje99nwVoOEc5DXHMLbVKQ5nUXnmgvcYuF2WJpFSiTSY57lsDGWrXx5cekzSwRuZkLtM8shH8xv4aoZPyZGKUA02EzZYolJyud4Q9dQhIkNSqWCwgmemZVmuNV1n2TBgmFQqCERi+OJG9xRb7u20nquMvu+TcdxfNB+p9G1S8Bh93NbHTVTuDbUJ+4GT1Pr2c4zS3LU6jWK6io2XPiFgqiT5Knt6Egz2+LW1KpUr4aN8JjxIWY6JUL56HgHmZnRyczrI941eWniYkiaBB0xv91gDRnHc8IlMOrhbl3lPphpIqu6rSIbz56RyS86mnCPDqvfrBXHOLnkZDLntRUqRkadLmbnto2aKx/Vsieg6UdxiPlmxxuv07QTiuunrCvOzYQ/phcymSQzzbRIJFnbzjW08p+uD/SOyzDRetpIckSZMS/aMa7yEPLSyrGT9p/hyPTWXhwkIs3pLDsnOKwsFhbghLHBSkovEy0a+6aLRSm75jORZcblGle1kieCsZAYxpKJvfpfnPLRPE7bL7YzBAvnRwxcDigrLWJ2fmQMTr+afnJZ6OZSSwqRv9LqK1Av2qu1KVmoCcUoR5ZL2c6zLnKmJ5mfONMc3/SgccMkxcpsi1uzl3XGVTMcRdMGo7occTeclc+8g8wk6xhhdkwr2jjJjzPVJmJRCOz0qoMykJUbbJIiv9Q+lbpCZ8NFXiBbyNZ/t10NNqt6IrrER2reDmxyVV/T0JKIHHfVxfojjms/RabzY+d3bUX7qcaGjU4eNR9NQppu0t6maMX8SAscRRYB3aiybrvGDiddQI8fp111jkgIoitTNMw0p20YvCbBW3dGjiuxVJ5HJ8M0iwbTgpxPdDexMc8GFT9r8tLK3Kn5L2Mzaz4+Qgx/59whPoSTAjcnqVOAjunQ7tIAACAASURBVEom1GuTxoYcwMIv1cuOQTmlKOY5ysenr3Rc/KgM3VyjywbFziL/SQqqYWISvHShdIE1X3KoOcpH84JtjJ/8Wenk2FI1TYeJj6af+DlMLXCbpq73fi+SH4YPNrzr3VEcRVEcvwrbtxqNh7Tz+bIX3PMbH/ZVSbLn/OZu8DS5lO08M5HuiTFnGllLhKm7mY4y63mXwMZVZ3QajGQhjc7N0c67mfY6zrQi7HGf89LUrlNRZKYnzUQOQUuOeGXRQrauch/kikGcrlnVbRVpLOVb8tLNHeHkGIUmfrNrZ9e45eka4ZVZWttxm7Bx2aiZ/PDCVMBWySbAmrRLBH1/i5/smh5vgi+kEl2mrCYzzbTojEzjAXc1V/mci0VT1U1Qu86YN2cQDyEvfSr+k9ui8Uxv2WSoA9ZV3JFmO9qMZwe4xcJazDo7XKrqkyaWaNE0ZLpYlNY2WSvZcZlgsxpkJ5Q+nMix4dCYzzIzPm+S8skryuSVnRmvIsEvT0RbHFBmWmSm1m2GozBhAjMN8SASFOJ4cHdV3+yJB2I7+P4geurvPo/Dh93R89bajloNDrqPBvGou3W1Q0rIjeo0d4OnjUuZzjND6Z7gZ5rctTexm0BEmGbTSVzkmousFCjHmhnc1lVjU6pLsro9ql3mHWTWKFLV6MKQqZRtZVblcyZc5QoHK9J6XFkamZCt/+5QobMxqzoftA553QILU5zArmjxU5o8YlStP+IgDQbeIlXK+E0hiHtvpEDsPhxrWl6ti0FCVYQ1kZla82Wev6xtFqyylt3vdiDZYJk/zKDsO9Iq5p4Zq6ys63+28slThmg4dd0PFIg9QdxRZKYpWyBxHansnaz/zBk7SOQyV4ecHoF07ojy2Z2lR6zbU9SDvNeyzg6XqvxEVayHeqiohtiYN57nxWV6QcqEmQkTjbJhQ0eEZXMmUl+zU4zKFf89Ufl0kHJFSk8Ecc/4kln2FgORq4LyfNYm1SzPgpEtEhRVUj/FRzWSa+Gj0H+nETzt7N5sd+5uXHq/vXtLy1t/Z43u/0km+/6l23pblCZHl5UcT2oGGe+S8iV5TWAmO2uVDQKZaWOnGNX8Rc9J2g5Wl/Y6aD3KHWtmNmGuimEqf+rBvr7PJ09m7W8CHe8sO1NrYdMtmxhZK+6cxccDTxMEqmh8szM7FRG/DRnn2U7dI9IZTYwUhV9mue3azs2orkRCG8x6tlOewOJ43W+q5zJMjtM75LyOy993BrzDM3WaUF3mjL2ItKDYs52sZDM0AdrObfr69qeLQl3H6L40Q46ap66hzwyX6XfeNTSByvIqqJRN65LZD5c9ZWYuakz8Nid4QofM2JaLIe0+XQ8ZAxaUuVYwrbNRxM+avLSxKTtRN0gSvij/WZ+u+37Wk6gUV0akvGdNZ7EONVXsVCCC5L3GutvpWdkzZhfddpwZxuzZTtlxipcfmnWkLenGxZ6xMOd74oHbVC+rrsk8B+1UYPuvWKqA8hUzdOqlInqEMxpRKg79K+3Bq36fVnmDu2s0RIbBuh3Wp+48HACBHALTn9s5BpENAnMgwC5N5mDt5E2UR/ky2I26WzeD3v0uCd8wWN/Sz3keBvUCWygZNpEFAidKAMp3orjRWEECUL6CoE6pmHjQRfxER3Ec9bZTOzOn5BaaBYGCBKB8BUGh2IkSgPKdKO4pG3vWOne13bm14e+Pea5zStuoBgIgAAIgcLYIlHq3k3VFNLJ3/1g2kiAAAiAAApUjUBXlq1zHImAQAAEQAIEcAlC+HDDIBgEQAAEQKCkBKF9JOxZhgQAIgAAI5BCA8uWAQTYIgAAIgEBJCUD5StqxCAsEQAAEQCCHAJQvBwyyQQAEQAAESkoAylfSjkVYIAACIAACOQQmKp/4O6H0ty5zbBTIZn9HtUBpFAEBEAABEACBhRGYqHysZfvaC5ZZLHliyndiDRWLG6VAAARAAASWjgCUb+m6BA6BAAiAAAgslMBE5dOvszJvvaKX05u3JdmXDRpHbWF6HwJfipnXMtFrn2QTgX4blNhZpXc7sV3WVHPqJWRUUpoy76MSPooX0dm3T8mPM6xZTWhIgAAIgAAInHUCRZVPxGmVQ2gMkyUXgi1Grw+W759UOidEkb1uWBqRqqYylZLZtHqFHmtOCZ5RNVVSZGoBZhLLX0EpPWSOuR7jEwiAAAiAQIUITKd8VtJSqJhKKbGU4kSC5KgRveeCZ2alHcUaBurNxUYChQe2UWrIyUw5iQwQAAEQAIHqEphS+ZTYeOK98fTaV81QiJDzI1+JR4JkNi2piNDFLLUT1iiftjSpjlxuOsonlFitQakh5Y1uLnd5Wt1+R+QgAAIgUF0CUyufQmYXW4SQ1mT0Wf0mQcp8zSYpnCiald73aYOUGS2kfLpxn/ZCWX0kQQAEQAAEKkpgRuXL2PYUd/JSrz4n5RPlUzKWpXaiO0y+WLol123HUD6SZ2fXtKL9jbBBAARAAASOo3zydpp8tpNtaapnTFyQ5ulNehCUCySrq5diRuG42rlpoXP0o2Q1R/noeU4/FMKpf/SWLJTP7SZ8AgEQAIFqEpiofNXEgqhBAARAAARKSwDKV9quRWAgAAIgAAKZBKB8mViQCQIgAAIgUFoCUL7Sdi0CAwEQAAEQyCQA5cvEgkwQAAEQAIHSEoDylbZrERgIgAAIgEAmAShfJhZkggAIgAAIlJYAlK+0XYvAQAAEQAAEMglA+TKxIBMEQAAEQKC0BKB8pe1aBAYCIAACIJBJAMqXiQWZIAACIAACpSUA5Stt1yIwEAABEACBTAJQvkwsyAQBEAABECgtAShfabsWgYEACIAACGQSgPJlYkEmCIAACIBAaQlA+UrbtQgMBEAABEAgkwCULxMLMkEABEAABEpLAMpX2q5FYCAAAiAAApkEoHyZWJAJAiAAAiBQWgJQvtJ2LQIDARAAARDIJADly8SCTBCYnsDe3t4b+JEEpoeImiCwSAJQvkXShe1KEtjb2/vggw8qGTqCBoGzQQDKdzb6CV6eIQJQvjPUWXC1mgSgfNXsd0S9QAJQvgXChWkQmAcBKN88KMIGCDACBZUvehb4Nxqdj3rBvXbrRit80e+IRKN7yGwdIzno3m1s3+6FD9vtDxuNB4NjVEVREKgYAShfxToc4S6eQDHlG3Yf9Qd31zYCIVGD+/X6fZEYBnV/fyoX97vdw972RT88iuM4bKwHw6nMoBIIVIEAlK8KvYwYT5RAMeUTMte5utUdxXE86l7f6Ailinrv14Mp13xx/Ly1drsvQjWJE40bjYHAmSEA5TszXQVHzwqBosoX9bbfliu+OPSvtMWKb9TdWg+Gh2E41XptcHe18ZGA1N9Zaz0f9Z9hw/OsDBn4edIEoHwnTRztlZ5AUeV75l9KLNFetNduBL0HPbEOPPbPqHudVpDvbbUfBt2XxzaBCiBQEQJQvop0NMI8OQJFlS/To9eZucUyeV2eLlYbpUCgOgSgfNXpa0R6QgRmUr4T8hHNgEClCUD5Kt39CH4RBKB8i6AKmyAwRwJQvjnChCkQEASgfBgHILDkBKB8S95BcO/sEchUvmg0zU+UdbtujqbOHlx4DALzIADlmwdF2AABRiBL+aKwueKJnwvb93q9p1n/HrZbO63WTmv72uql87Ks563syO/nMeNxPEdTjl18AIHqEIDyVaevEekJEchSvjg+Cv2LQs9qV9V3+CY4E73s7V675NW2uq9SJedoKmUbGSBQBQJQvir08lmKMYq0tyZR1HtTwSSK1pxzuWzlk39a5ZJcy+mv8RVodnB/o34v6wvpz1tzM1XAjeJFosN++PGI+rB4PZQEgRMlAOU7UdxobBKBMNB/b9IksmtE+63GI+cvnZgKJpFdc/G5e3t76+vrme0M7teV9vn7BdUhCnfa6R1P9ac+52Jq9usEY+HgwW7v5WjwuLF6udUvGF8mJmSCwIIJQPkWDBjmj0eAZGvY8cf9yeV+66K3ov4ACtm3NW+Nq0nFF/h7b2/vp37qp3IaGARXa0KxVhryT0vnlCqUPRdTwyAIC7WWW8hY6LfO1/xn6s+QeluPpvpDNLmt4AAIzJMAlG+eNGFrZgKkX4fBGOUb3K3Xap7XdKZsqjkMmqevfD/90z+di+JVd0tqX+2q/CPVueUKHJiDKaNbBZrLLmItRCO1zzkM1mtTvnEiuwnkgsCcCUD55gwU5mYjQPo1RvledRt3+mHT81zloJpLr3xxHO378i5dTb2iaBZiM5uyujWtG0kL0b5fb4bY7JyWJ+qdBAEo30lQRhuFCZB+5Spf1Gv6YRQL5XNfQUc1l0L53nnnnbEhR2FTPaGy1n4xtuDkgzOaSurW6EW3vdNqfzQcHQ6L7Ve6Fl52tnfCYhUnx4YSILAgAlC+BYGF2ekIkH7lKd/z3Ya8gTQM6l7N549+UM2plO+wtyu/S6e+UZf4f/ep8yjNxMD29vY2NjYmFRu0r8gnVPS7ZCcVH3d8FlNct6L+7fqmekHug03PU68MHNewPMYsHPU7Dw7Eam/U7cj3JU2sjAIgcCoEoHyngh2N5hEg/cpWvkH7hr6HJ5TP8/mNPqqZUL5o+CzxtfH+cME7cXt7ez/zMz+TF6HNfxlsyBt+l2bfG5zelNWt6Ml2baWlLyae+TYtPY7cryqwj8bCsKMe3hGCXg/wjiTb00gtHQEo39J1SbUdIv3KUr7hg83VN9fq1zY3393cfOuCmF7Z68upZkL5xItaWyumZNS/s81rLYL23t7ez/7szxaxPHokH3a56M/+HYBpTVndCtbt47KDu6s1/gDRUa+x3j4wIQ2729fN4znGgjmMBAgsOwEo37L3UMX8I/1KK99Rz7/FnpvY9xMLC6qZUr6XQf1N+cZziTJ7nh5Oudv59OnTL33pS4k+2tvbu3r1aiIz++NRr7GyMZ/l0ZSmDI/Q97ztJ2o5POxclV9LiMxX9bLdl7nGwpgyOAQCy0UAyrdc/VF5b0i/ksoXhTe3O/zveB3K7c59C4xqJpVPLIZuiT284YOgF8VxkcncWp2Q+pmf+ZkPPvggUWhvb+/Tn/50IjPr4yC4ulr4K+1ZBmze1KaMbg3ab3r6qwgvg7rYrox6t3b7cRy96LZvbree6T3iwdOgfaux+9xsGRsL1hukQGDJCUD5lryDquYe6RdTvuFTf/PiOc87t3ajqx41ETmXL9Q879zFze1H+o97Uc2k8oU3vbXrrdZOY+P6nL/n90//9E8ffPDB13/91yc6aW9v7zOf+UwiM/UxCpv1OcneLKasbkX7/sbNoPdwt3G30756afvurv9gGMfD7sP+6NHW5kP5wOaLbvdFPHq0tSEOqR9rgXLwGwSWnQCUb9l7qGL+kX4x5StIgGomlM/c5BuGH2X9AcyC1rOKfeYzn9nb2/M8r9/nD5mK9/P93M/9XFYNmzcINjcL/eVqWyUvNZspV7deR6Mj1Q59K118GnWubfIFd9i81Hpu3HEtmGwkQGCJCUD5lrhzquga6de8lO9Fe5Xd5Jsj0S9+8Yt//dd/HcfxJz/5ycSG597e3rVr18a0NXi0dYzveo+92TazqQK6dRjU3+9FH/fl9xXEXwxtX+FP1RawMIYFDoHAaRCA8p0GdbSZS4CULzaJ3KKJA6ZCeF/vao72263ra96VrdZOd87LPdb2b//2byc2PPf29n7+53+eFXGS0b6/dq1T2J9Rt2kfz3EMyb8FM7OpArr1hd2tO93OQ3r+9DCoX++y76oXsJDwGx9B4LQJQPlOuwfQvkPgoPtY3UDqdx+z2dUpk/3h4LG+C9h/zOfl7MJzzFUbnk+ePDE2xynfy2DzWvFdzlH/9lr2W4riOJ6PqWK6pR4Leh1Fr+PoyXbduWFazIKhgwQILAEBKN8SdAJcOOMEvu/7vm9ra8sEsbe3t7m5aT7axFHor/uFXtHwOhrst7cv1xLfWVyAqVHvqf2enrWflervnNu42/HfSYRwDAtZVpEHAqdAAMp3CtDRZMkI/OZv/ubXf/3Xf/nLX1Zx7e3t/cIv/EIyRvki9dV3/cSfRnM+3tyqv7m6Kh5kpZ9rnYyV7xxNJb0c+/l1NNJvYxhbDAdBYOkJQPmWvovg4NITUBuef/VXf6U83dvbe/fdd12vo15zbfXN1eP+a2Rs+c7RlOsjPoFAZQhA+SrT1Qh0kQS+4zu+w/zdlr29vV/8xV9cZGuwDQIgMBMBKN9M+FAZBBSBz372s1/3dV/3X//1X3Esvs/3S7/0SyADAiCwtASgfEvbNXDsLBH4u7/7O8/zPv/5zyvl++Vf/uWz5D18BYGKEYDyVazDEe7CCJw/f1494bm3t3f9+vWFtQPDIAACsxKA8s1KEPVBQBF47733vvmbv1mt+X7lV35lDBb2crv8Uq+HQ/4XuvMKRqPodd4xmz8auq/Xs0eQAoEqEoDyVbHXEfMiCDx+/NjzvH/4h3/Y29vjX+9LtpV4113ycBwfHXQ/bG1doTcnpAuwnP6dunmLAsu2yeFH7dbN+qV158vn9jBSIFBJAlC+SnY7gl4MgfPnz//Gb/zGBOUr1nTYLKR8hYwdBnUoXyFSKFQVAlC+qvQ04jwBAu+9996FCxf29vbee++9zOYS77rLLKMyJyvfUb9zb9dv6r/ZNsZUDOUbRwfHqkgAylfFXkfMCyKgNjz39vZ+9Vd/NasJ/q67aPis13ua/HdA9/YmKV8UPupFcb910RdvSHp1kDbV2x/ot8dC+bI6A3lVJgDlq3LvI/b5Ezh//vzNmzd/7dd+Lcd08l13OcXiScon6yVfm5BjDMqXAwbZlSUA5ats1yPwhRB47733vud7vuezn/1stnX7rruof7/l/NHOHfGx8wVdr4jy2dcmvOymTbU+7On3pkP5sjsDudUlAOWrbt8j8kUQUBuen/vc57KNJ951l11o0N0Rz3auXW+1Ho17kZ/7bvRsW+IlhTc2VlY2GjvtMOOvX2fXQi4IlJsAlK/c/YvoToHA+fPnc5UvjmP1rrvZ/IqOotS70WeziNogUCUCUL4q9TZiPREC77333q//+q8vsKlXnc3/3w/ub24+GLciXKADMA0CZ5wAlO+MdyDcXz4Cv//7v7+9vb1Qv8SL8o4W2gKMg0CZCUD5yty7iA0EQAAEQCBNAMqXZoIcEAABEACBMhOA8pW5dxEbCIAACIBAmgCUL80EOSAAAiAAAmUmAOUrc+8iNhAAARAAgTQBKF+aCXJAAARAAATKTADKV+beRWwgAAIgAAJpAlC+NBPkgAAIgAAIlJkAlK/MvYvYQAAEQAAE0gSgfGkmyAEBEAABECgzAShfmXsXsYEACIAACKQJQPnSTJADAiAAAiBQZgJQvjL3LmIDARAAARBIE4DypZkgBwRAAARAoMwEoHxl7l3EBgIgAAIgkCYA5UszQQ4IgAAIgECZCUD5yty7iA0EQAAEQCBNAMqXZoIcEAABEACBMhOA8pW5dxEbCIAACIBAmgCUL80EOSAAAiAAAmUmAOUrc+8iNhAAARAAgTQBKF+aCXJAAARAAATKTGAq5TsM6p4fJrGEvuf5+8ncE/qc7VKhxsOmVw+GhYpOUUg4Vg8Op6iJKiAAAiAAAgshMF75hsG6l/gRIjGDzCwkiDiexaXFKp8NWMC0Vwb7vre+OL21rSIFAiAAAiCQIDBe+ahwQuoSH6nUaf6ewSUo32l2HNoGARAAgRMnMIPy7ft6OdhUG5+hb7b1hA6pn/SmqF1Hqj3GoSlLO6gipxmGTWUha6vQ2qdVFFM+qmj3ME2OR01wzlL5QlrdsuZsK8kowia1G4twaLN0GKyL6tJgIOisB0PtmNgK1j/rwT/bkLUdC0HDVEaMV0kH4ji2VWxQphUZBWPC40UaBEAABCpOYGrl8zw1R4vpVamFUT6TSLPlOhEGYrdvGDT1pp/QJ2lTzelqY1CkU7uCw8DXd86E+kpVoFlelCfxUM07FrL2GKUukuAZgzGLIl1r36dWQn+9XjcopKvSIGkVOSYizdvtZPbNApR7ZcgwoGlurv3ZdoBZQ0iCAAiAQNkITK18NLPbCd1IRWoKNtAOg3pKxszBmOTEUS+rHLYgS4W+q3zCiNOE8UpV0ssyZkGtrswTLtp5xwehgiZeWdV4te/Xg0AfFWlhx6iXKGpKWlDSgvXTxUUQHCO2MHec0plV6CB+gwAIgAAIJAjMrnxiopfrM64xetvNPtChmqU52nHC7Jp6bM1n120p1RGVzbael1jz2W1ArX/J6uStdcHRGKlb/j7fS8zcdDUbm2p7U/2vty4dg8WUj3ZC5W9aONImqpRPR86l8ylualnpeWb31caIFAiAAAiAgCGwIOVT9rkWypz02oXnkC5OWG/xfUizGrMCo0MjIwkfiqz5hIwNg7oVHkOLJWSBUG3V6vS6XhceX/lor5XZTxpJKF8WN6rtLiIpF79BAARAAAQUgYUqX3oKFms1UhRxn4/0SThj7mbxTLm8y9lpjGOxt5nY7TQdS9ogzBrZoExTSrdLm5miaVVYSGmGINmKwhS/w0fpY+92yvWl8ZAaGK98HJHhRlVpuzV1NWAKIAECIAACVSawCOWzW5EkcpywPSr3QoU6qh+/qR8b4dN6hvLxxxqbfuI+n6hL9sx37YU2qJ+UwNBtOfkopijDVDZjOzEZCG3niihMsEnRMjaVQe2DDlxZsB7SXwNIGkl6nuZmc9jDRywc7jvSIAACIFBhAsWUr8KAEDoIgAAIgEDJCED5StahCAcEQAAEQGACASjfBEA4DAIgAAIgUDICUL6SdSjCAQEQAAEQmEAAyjcBEA6DAAiAAAiUjACUr2QdinBAAARAAAQmEIDyTQCEwyAAAiAAAiUjAOUrWYciHBAAARAAgQkEoHwTAOEwCIAACIBAyQhA+UrWoQgHBEAABEBgAgEo3wRAOAwCIAACIFAyAlC+knUowgEBEAABEJhAAMo3ARAOgwAIgAAIlIwAlK9kHYpwQAAEQAAEJhCA8k0AhMMgAAIgAAIlIwDlK1mHIhwQAAEQAIEJBKB8EwDhMAiAAAiAQMkIQPlK1qEIBwRAAARAYAIBKN8EQDgMAiAAAiBQMgJQvpJ1KMIBARAAARCYQADKNwEQDoPAXAjcuXPnjcr8zIUYjIDA4ghA+RbHFpZBwBL4tm/7NvsBKRAAgVMlAOU7VfxovBoEXr9+/T3f8z3ViBVRgsAZIADlOwOdBBfPOoEPPvjgt37rt856FPAfBEpDAMpXmq5EIMtL4Cu/8iu//OUvL69/8AwEKkYAylexDke4J07g3//937/xG7/xxJtFgyAAArkEoHy5aHAABOZC4Ld/+7ffe++9uZiCERAAgbkQgPLNBSOMzJ9AFGmbJlG0DVPBJIrWXEi5r/7qr+73+wsxPdHoEUGcVDI67Pee9tx/4WA0qZo6/jqKXhcriVIgsBwEoHzL0Q/wIkkgDIKhzDOJZAn1OdpvNR6pkrqAqWAS2TVPKvdrvuZrTqopp51ov7X9YOBk8Q8vO1t3jB6Purda4as4jgfB26vtF3EcR/07jY7DlVcedK7vmspxPOg0d/tHvADSILDUBKB8S909FXaOZGvY8bUEZsLoty56K7fZJBzHtuatcTUzzc0984//+I9/4Rd+wTH7+kSWoke97atjwh91r9e86129qBt1O0/l6nDU3ar5iubwQcfBymIYPdqqeVtUWR44DDbe7xVdYDJTSILAqRCA8p0KdjQ6kQDp12EwRvkGd+u1muc1Q26Oag6D5pipn9dYYPrbv/3bu90ub2D0qBUc8oyFpPs7a63nuZajJ41zNc9bJz5GjD9qeEbA8jYwj3qN8zXPqyeiCJuXxrSY6woOgMBpEIDynQZ1tDmZAOnXGOV71W3c6YdNz7vqbMtRzaVQvq/92q91Y416NzYSmuEWmMenqNe42MpbscVxf/dGtx/UPVremSb7t1c2HuRucapi/TuN7nNZ+ZmpJxP7/rkbWPa5TPBpWQlA+Za1Z6ruF+lXrvJFvaYfRrFQPrN2kdCo5ukr3+c//3lnqzMahnc2z3mrjQe93tP+MIrjaBgGu62ddvhx2N7ZDZ7J3cfXw9693daNrUaz3X3p7CCOXnTbN7a2bvq7Dw/o6ZNRP2g1Ptfw7/WGZpX2zK+ZpVtqIA3uNoLDeBjUPc93Fsv2Jl+qjsl40W4Ew/hQVt43uTLBdkrdA/gEAktHAMq3dF0ChyQB0q885Xu+23gkJn8xg7trF6o5jfINn+62dlo5/3Z7x9ylfOONNx49esQ6NBqNug2v3v7CaDQaSU2LRs93617tUjMcPNjwLu4exPHwwYaO6ChsrNgtxGjfv7TeHryO42Fnw/N8ITyD4OqlxkfCUvRk+xzdtxsG9cS9T+uDXCiLj/u+5204i+XJ0jXq3lAPtoSicnJ12PdrrkHbKlIgsFwEoHzL1R/whgiQfmUr36B9Q9+jSq9dqGZC+aLhs8RT+3LVRe3N+PsHf/AH//Ef/zFh5Du+4zv+53/+x80M/eQdstD3VuQdskg/+nI0CL+gV3ThTa+uA+23VrwtKfZxHA32xZovetqoWdUPG6Rkg7urVMttPNYLZZErlM/cqxv27rRa19e8lY3GnY5ZTiYrP/H9fbUGFcqXamIYrBuDiar4CALLRQDKt1z9AW+IAOlXlvINH2yuvrlWv7a5+e7m5lsX2AwualPNhPLFcdxvrZipOerf2Z7X/bbPfvaznuf9zu/8Djkvfr948eLq1as8R6Yzlc94pYqPDh62tq5tNXZaW1dIYLI2GIXqr2w07CK1HUrF7N+qpWRJWI6etdYur9avSm7rqzW9cEz5mJkR9Vtvra6+vSGYv1sXld0Hi8TyG8qXiQ6Zy0cAyrd8fQKPBAHSr7TyHfX8W6G9/aXWLi8tNaqZUr6XQf3NtvmC2zAI3LtcwsKE3c6shz/29vY2NzffeOONH/qhH7JOxPHtzETTGQAAIABJREFU27eDIOA5Mk3KN+zu6q8hUo4uGvVvXVq52VOLvrAplS+K4lF3y/MaHzn2xL7oSsaTLMOgnqV8dqEsrEgpTRh0rLsf1N1ByhsG6553M8FvELydkHAqjt8gsGQEoHxL1iFwRxMg/UoqXxTe3O6I71zTT2oxRDWTyie+hXZLPPA4fBCIZxDn+rW63/3d3/U87z//8z/Jrfjy5cujkd60NJlxHPqe/Kr4YeDr+2QJ5ev7NW/rsVL2QfC2UD4ZUdS7UVu5SZL/qtN+NIpfdbdqa/KL56KF0cO2+o7d6NFWakEWD+5vud86yNyxZJ7y5Mtga8d5VjT9YJEMbRsPd3JsSC8tASjf0nZNxR0j/WLKN3zqb14853nn1m501epL5Fy+UPO8cxc3tx/p5RzVTCpfeNNbu95q7TQ2rtP32ObH+NmzZ57n/dVf/ZUy+aUvfeknfuInssxH/Z3V1RtBZ6fVfRXHo3D3+to5r3bhra0G+T94sHnu4lb7cbdzZ7d9e+vcW5vbH/aFEh4dtN+9VL8RdB8HfrOjoo0+bm9e3vCDbvee7z+mBe2L9trbAX2Io+ftrbcu1LzahXfaB1JSRc76pXOeV/vE2taHaos0y1n5t1za19dE5U9stL+gKvfb1+uXznte7cLa9V1b+WVQdx+yzbGIbBA4fQJQvtPvA3iQRYD0iylfVrGMPKqZUD5zk28YfmREIaP61Fnf+q3feu3aNVX9T//0T//sz/4s19TRaMIfunwd6Wc/0yaORqPU3wkTpc1XGkSVQfvKprMyTtuZd87o4ebmw/Qad97NwB4IzIMAlG8eFGFj/gRIv+alfC/aq+wm3/z9jeP33nvvm77pm5TlH/uxH/vSl760iFYK2oyebNfvLUTgcxwYtK+Kr1fiBwTOBAEo35nopgo6ScpnHnUpzMDWvK93NUf7bfHI/pWt1k53cWrwt3/7t57nHRwc/Nu//dunPvWpwv4uqGAU3truHPMLiFO7Mgi26QsPU9tARRA4OQJQvpNjjZaOQ+Cg+1jdy+t3Hx9vD+3gsb4L2H/s/FHl47Q+Tdn//u///oqv+Io/+IM/uHfv3h/8wR9MY2LOdQbd2/p24JwNJ8y96LToJmXiCD6CwHISgPItZ7/AqzNJ4K233vrhH/7hn/zJn/yXf/mXMxkAnAaBahCA8lWjnxHliRD4kz/5E8/zPvnJT55Ia2gEBEBgSgJQvinBoRoIpAl86Utf8jzP9/30IeSAAAgsDwEo3/L0BTwpA4Fv+IZv+Kd/+qcyRIIYQKC8BKB85e1bRHYaBPb29k6jWbQJAiBwDAJQvmPAQlEQAAEQAIESEIDylaATEQIIgAAIgMAxCED5jgELRUEABEAABEpAAMpXgk5ECCAAAiAAAscgAOU7BiwUBQEQAAEQKAEBKF8JOhEhgAAIgAAIHIMAlO8YsFAUBEAABECgBASgfCXoRIQAAiAAAiBwDAJQvmPAQlEQAAEQAIESEIDylaATEQIIgAAIgMAxCED5jgELRUEABEAABEpAAMpXgk5ECCAAAiAAAscgAOU7BiwUBQEQAAEQKAEBKF8JOhEhgAAIgAAIHIMAlO8YsFAUBEAABECgBASgfCXoRIQAAiAAAiBwDAJQvmPAQlEQAAEQAIESEIDylaATEQIIgAAIgMAxCJxJ5YsO+72nPfdfOBgdI2wUBQEQAAEQqCyBs6h8o+6tVvgqjuNB8PZq+0Ucx1H/TqMzrGwnInAQAAEQAIFjEDiDyjfqdp5GIsRRd6vm92WwwwcdlThG6CgKAiAAAiBQSQJnRPledrbukLS9jqTuxfFHDe/9nk6/rmTvVSRo3vsVCRlhggAILJLATMoXNr16cAKbjKPu9Zp3vZu4kde/vbLxIL/1w6Du1YPD4vBC/3jli1s+AyWHQd3zPG99gd0pmpjGfnbvnwGmcBEEQGBZCZwB5YueNM7V0pOyuck3C9phsO75+8rCVMon9NUPZ3FhKepOFXu25xxpdolj5eb0/rFsoDAIgAAIOASWX/n6uze6/aDu0S097T67yecEdLwPfJqeavYvj/LNS7850uN1RlbpnN7PKoo8EAABEChIYILyhU2zJBIzGu1tDoN1sZEodzvDYF3sk3lsq1BvnXme19TLIVky8M1+mhAM9TNhwh3cbQSHsTRoSg57d1qt62veykbjTucgsQdq4maaFDZ1Y+S/KhQKf9SP2IWTyrdPjrF9uZzqcbxvDQjLssVAGhDrSBsjMVQuUS3jTAKX+NgMTaO0JI1j4SH9EFiWabZ2TTGTY6BkGWF+GpdkBQlEdprnyRDIc+sSqyszTdNqjW4t1IOhiks5rC2I6plOaoezep/HgjQIgAAITENggvKJyV1PsqG/Xq+r9GFQl8IgZ2c9c4m0Orrvm9s55kagLGmki62uWOEM9191G+rBFjHnbhzvewtKZmKpmlYnEo3wBYqctbXgibSanWm+joUluzVKdqgV8VnKgBGPYeDru4zCeRm7LKApibRElyKghDClDfzKQ11zDLNcYk5y37S/mUaUHJreodCU0Jo+NdcxJhzRfCpGh5JESvAtSQrZDA/TpJOYpfcdQ/gAAiAAAg6BScpnZs99vx4EvprBRVo8WuLMXHo6YzNvLFdFcuLjJe0MKDwJtU3HK/Uh6jX9UD27KWbbcYuDjNrMc6PEqWLcW6bHNjQncxjUjbBpU6YVrXxp/WAx8sJGIZxMYdXlQ5BJLWy7dPHhuOQU00tzG7VzVEq1Vfq05zz2vLSxbfoxFymPS+wlBPr6yZhwE7P1vmsLn0AABECAE5ikfGKCFpITNvn/ej3E9UyseMQ0KiY+5yc1QYsZ0PnJlrToWWvt8mr96ubmu5ub66s1WoRx78elmaLoFvUszyuNm6alorDtO+UzrWC0FdaK2u1kT7vwumbNZwXG7iQLXRcbiqouVwglhMITu/hWLTtKI/ea5WOu2pTlq9eOqlKuEWONw8lTu0S+aUv5Pw4p7R+o9XF2vysPZu19HgfSIAACIOASmKh8YglSD8KgKVZ5Or2u5+gc5cuY0XjJjJWT65P8NGjfYE/YC4HxGh9llMvN4pokCyUURefZDUw+oatIh2OXpNIAb4Wn1V1D/Z0K0hWngFjMJWVJanPCT10sd7mmAJDeJLVNHaX/c42Qh1RQ/uZAMtOJzGMonwiqaXfFnWbFh5l7P2URGSAAAiBgCExWPrHacO7w0d0+uyUordHNPzFxp1ZXXPnk2ihDHY1PYua7v9V6zjPE+snZ1uMHM9OuzIgiiXlfZJFgiDSfx43yCX2yK5V0Q7yVvLS5McYLSHqO8tFRAdBs7Zq68q6bIeDwlF5RjgDlmHV8djBSFbYfmyxsuonDoTQ5LCpZP8chde8E85JOw+N7n7nt1MIHEAABEChIoIDyyTmXJlMxW2XPv6R8Yh6lZyn1M4EJjdQTJe2SufuH0fP21lsXal7twjvtA3mTT+SsXzrnebVPrG19GOY9y5kMmOZlKSSqLb1UdUqq7UEh1TShy8NsYSpCph+jBNaGClYwoRbVMdtu09f3Mt0CdjGnrWvjomIzoEZ5i3b7lLqA+WYwilboJ3UJoh6tVIfJyLTKp25JKlsmRtO5WUiF8gn3KCieltSK9D6Uzw4+pEAABKYiUET5pjKMStMSkMrHbhdOawf1QAAEQAAEMglA+TKxnGYmlO806aNtEACBChCA8i1dJ0P5lq5L4BAIgEC5CED5ytWfiAYEQAAEQGASASjfJEI4DgIgAAIgUC4CUL5y9SeiAQEQAAEQmEQAyjeJEI6DAAiAAAiUiwCUr1z9iWhAAARAAAQmEYDyTSKE4yAAAiAAAuUiAOUrV38iGhAAARAAgUkEoHyTCOE4CIAACIBAuQhA+crVn4gGBEAABEBgEgEo3yRCOA4CIAACIFAuAlC+cvUnogEBEAABEJhEAMo3iRCOgwAIgAAIlIsAlK9c/YloQAAEQAAEJhGA8k0ihOMgAAIgAALlIgDlK1d/IhoQAAEQAIFJBKB8kwjhOAiAAAiAQLkIQPnK1Z+IBgRAAARAYBIBKN8kQjgOAiAAAiBQLgJQvnL1J6IBARAAARCYRADKN4kQjoMACIAACJSLAJSvXP2JaEAABEAABCYRgPJNIoTjIAACIAAC5SIA5StXfyIaEAABEACBSQTOoPLt+57n1YPhpNBwHARAAARAAAQyCExWvrDpJX5OWXWgfBn9iCwQAAEQAIGiBAoq38rGjVZrR/9r74+Kml9EOSjfIqjCJgiAAAhUhkBB5asHh0uDBMq3NF0BR0AABEDgLBKYVvledbdqnrfS6qug5cfa1WAgPo76gb958ZzYI61dWHs/ODhShUJxg249OHi+u/GJmjj2bvvgKB591NIf39nt65LDYN3zPD8c9XffuVDzPO/82nZwECkzSeUbHQTba8Kgd+7iZusjtR6N+jurtdpGZ3kEWzmP/0EABEAABE6bwLTKF8ejR0L75D2/KGyuiORLFU3oX95sBd3e017n1pqQuBs9KVpS+VYura77naed1rqQxpWrG/XL2+3H3fZ7l4RQ6pJK+dbW3l5rBN3ew93Ny8LM1iOpao7yRWHzkldb3b7X7T1VRi75z6I4Vsq31n5x2oDRPgiAAAiAwJIRKKh8/BkXs/M57FytebVG73l7zfPq9+V6LxneoP2mWRpK5fO2umphF/W2hVUjTqFvF5FK+VZaz8ncq86m53nXu0L6uPK9EE1vPqT7jsrm+0poqS5+gwAIgAAIgAAjUFD5+BMu7ZCEJn4Z1D2vVqt562qfUxse7ge7N7fqb65eOq8k0w/FEb3bSV9HkB/fbJNg0g6nKMnTyuYgeNvzar7YXGXKN3ywwTVZp9fxjQfdEfgFAiAAAiCQJlBQ+cw6z7Vw2NkQ99e82tUO6Vk8fLBR82prN4Lu0/BgeNB+W96xE/WylM+qFFc7nlYt9lsrnqdkkiufUF6v8Xjk/ugbgqom/gcBEAABEAABTmAW5RsEV2veit99uF3zahsPlPYlREvuYXr5a75xymc2QuNY7mrqu4BM+eLnQhBXbobQOt6pSIMACIAACIwhUFD5+G5nq/VI7FAOArG2234SxfGoe11on3yQctS9Lp6y3LzT7T3ttN5Zu7Qy9ZqvVru8ufuw1w38utg1JSHkyhfLe41ebfXd3c7TXu9x0Lq+Ld3As51jOh2HQAAEQKDSBAoqn3s3rRmqO3yeWbGpNZna83zV898SX0WofWJj9/mB/n6CgHzs3c7ux8H2FfEI6Lkr28EX6O6io3xx/HrQbW7qG4rnL9Wvt/tiAYhnOys9rBE8CIAACIwhMFn5xlRe2KHElunC2oFhEAABEACB6hGA8lWvzxExCIAACFSbAJSv2v2P6EEABECgegSgfNXrc0QMAiAAAtUmsJzKV+0+QfQgAAIgAAKLJADlWyRd2AYBEAABEFg+AlC+5esTeAQCIAACILBIAlC+RdKFbRAAARAAgeUjAOVbvj6BRyAAAiAAAoskAOVbJF3YBgEQAAEQWD4CUL7l6xN4BAIgAAIgsEgCUL5F0oVtEAABEACB5SMA5Vu+PoFHIAACIAACiyQA5VskXdgGARAAARBYPgJQvuXrE3gEAiAAAiCwSAJQvkXShW0QAAEQAIHlIwDlW74+gUcgAAIgAAKLJADlWyRd2AYBEAABEFg+AlC+5esTeAQCIAACILBIAqejfGHT85phKq7Q9/x0bqpYfsZhUJ/KgvDHy3RJtmXMmkS+C7lHRN16cJh7/IQPDIO6tx4MT7hVNAcCIAACS0CgoPKFvpQG+d9s4jQu5qmUj6sRT49ryD02sZYpYBKugSX+NAzWPX9/iR2EayAAAiBw4gQKKN++UD07ex4G/qKWCqenfONXP0bwTOLE+2naBqF805JDPRAAgfISmKh8oZ+7R8cWgrR1KfbQmqHePGQVKcerS9UMmzoRx7E55O8z5RMao370ElNaDoJ1ocJ2R1SqsionLCtlMpnkVRwbV1P7jaYwqbvxxzZkBM8kxIAwNmmb9DCoGwUVZsnPfV9s7Zq6rpMKiBxgxqAfqirOsJMdEei1t7gQIc/NRYlA5EAzBj25sWkt1IOh6ikVhbYgHBN8eO84LuADCIAACJSCwCTl2/dz7gaJxYSZtc1cqSZfNZOKtFQCmmQtMKc86ZOUHKUWTG7JAWk5pVtxbBVFp5kOaell6x4jP9YXaYEUy/gsjlPTtglbPTP8YbCuPRwGfp3SYVOumE1dkRjrpNJUwkKeShlTmUrzbFpBGwZNvRgXJHV1Frtr1nYKhWk6xSSoafwGARAAgVIRKKB8ySlYxk/TpYZByx07n3JNShSW6zypmkzhhCG95nOMZGeyPjCKwlsUx2nSd1q34mRNkPPSAS6uVNg0YRKOTaudpBnDYN0PgrqMUaTFItXUNYlcJ6XoJrFzVnlpiskuGQmCOMJrxRyy0OaALVjJDH6DAAiAQCkJFFA+Wg858du5VWWPEy2pQnIjjkyRQrDtTWGGGaFtO/lbqBGfqR1PuJDwtNRXvitoTJrtQW3HUT7aopTHspZrskBO+GKZqDY2+f8qauObSfAmEgYTH0VJrls5adr/FJFmr/msrjs8hUv2kMaCXyAAAiBQUgKTlM+ZcBmDnEWPM5+Skplq5ihTPjbhkiQM9WrJ1BMJU9fJ5WupRJorX3L95NpwlI/5I1aN8iM5ZtdtOeFr8d73pbhKId/39Z5w2oj0QourazAr2By1Mx3ELVjhLLzma+Zta7us8AkEQAAEzj6BiconJYcvCPSzneK2U/Z9PisziSWdvXNGyicfb6Hy9j5f1hIkSwwkfqMoecontIE9m5ruM6t80h9amI69z5cdvtxirbM7fDZtVZM7bOTZcZLd0rPeTlA+zif/Pp/VdVteS6bVSNM7tnGkQAAEQKBEBCYrnwiWb6MZYZCTtdpCNBJo51NRLb17qfcS2dwqJlz14zzbyVuU0uhadnpASqaU4WxRUffYdCsZD+ww5RNOq2+1e+p5SNmQMWsSOjpt04Sv16YGkYiCtk9NXZOQtvWaT8u2JpH7bKf+InymCjKSTbnpqiApksIlXovW0MIZkkNKs95RJvA/CIAACJSKQDHlK1XIZyCYzP3eM+A3XAQBEACBs0AAyrd8vURrr+XzDB6BAAiAQBkIQPmWpBflvT3akU0+fbokPsINEAABECgFAShfKboRQYAACIAACBQmAOUrjAoFQQAEQAAESkEAyleKbkQQIAACIAAChQlA+QqjQkEQAAEQAIFSEIDylaIbEQQIgAAIgEBhAlC+wqhQEARAAARAoBQEoHyl6EYEAQIgAAIgUJgAlK8wKhQEARAAARAoBQEoXym6EUGAAAiAAAgUJgDlK4wKBUEABEAABEpBAMpXim5EECAAAiAAAoUJQPkKo0JBEAABEACBUhCA8pWiGxEECIAACIBAYQJQvsKoUBAEQAAEQKAUBKB8pehGBAECIAACIFCYAJSvMCoUBAEQAAEQKAUBKF8puhFBgAAIgAAIFCYA5SuMCgVBYHYCR2Hrdi+a3c44C8PO7c7g9bgSOAYCFScA5av4AED4J0jgKPQ/FwxOoMETa+gEYkETILAAAlC+BUCFSRDIIDAIrm12DvmBaPRx13/LD3neMdPRx0Hjan318qVLb20HH7PF5Iv2ZjNkn49pF8VBoNQEoHyl7l4EtzQE+rdXtx6NrDsvuq2d3eD2pufNoHyvutvvd5XRQbBRq21wZR3crW88GNoWkQIBECACUD4igd8gsDgCL9pr60GGCu37Mynf04bn1fxn0u+ot+15dd5IFPoXt7qvFhcVLIPAWSUA5TurPQe/zw6BUefair+ftfU4o/IdHXTudQ6OJIm08sXx6OHmCvY8z85AgacnRgDKd2Ko0VBVCTxvrVxpZz/YMqPyMaLRk+3Ebqc4GPUatc0Oln0MFJIgEMcxlA/DAAQWSiDq3ag5m5C8tXkp31HoX17NXFaGzdravWzZ5Y4gDQKVIgDlq1R3I9gTJzDqbnn1wHmkk/kwH+UTT422+YOdrIV436+ttPo8B2kQqDwBKF/lhwAALJJA9GTbezNnqzOO4zkoXxTubHdeyhiiMHiUeoxG3P9bbb9YZJCwDQJnjQCU76z1GPw9UwTCZs27mf+FvVmVLwqbG9tBr/dU/ru75X+UpjMI3naf+UwXQQ4IVIwAlK9iHY5wcwhE+61GesGUU7hw9qD9ppf9pbpR2N7Z3rx4zvPOXbq23boXsu/6FTa/79c8/lMP1OLPNdC/VfPeX/SfTHObxCcQWG4CUL7l7h94d0IE+q2L3srted8OEzf5PH//hGLIa2b4YMPDrb48OsivJAEoXyW7HUG7BAZ367Wa5zXztyXd8kU/vWivjnm8paiVmcuJPdUt/bdeZjYGAyBQAgJQvhJ0IkKYjcCrbuNOP2x63tVO6vmQ2SwLydk+/X3GJRHg2ViiNgjMkQCUb44wYeosEoh6TT+MYqF8mX9gbIaYhkF9pj9ONkPTTtVD6cdpb7o6LuEDCJwqASjfqeJH46dO4PluQ/4haaFSNT/7Rt9hb3en1cr5t/s0d6EI5Tv17oUDIJBJAMqXiQWZFSEwaN/Qf+N5ESq1CJvTdMxyPGgzjeeoAwKLIQDlWwxXWD0LBIYPNlffXKtf29x8d3PzrQviVQd5f2xlqnCWRfmGnY0leMR0KoSoBAILIQDlWwhWGD0DBI56/i327lbxNEr29+HiIXY7z0B/wkUQKE4AylecFUqWiUAU3tx2XmKwgMdATnbNF0VZ70ESfbaA0Mo0FBBLBQlA+SrY6VUPefjUV388Ze1GVz2dInIuX6h53rmLm9uP5vZmA/FHO3NfuR4dBI2t9xuN6/X6+4F+x94MPTO4u5b7RgihfCut5zNYR1UQKBcBKF+5+hPRLBWBZ34t595h9LSxst7ui1Va1Hvfq12f7YvmL9priReycw5qI3eutzC5eaRB4MwRgPKduS6Dw2eHQP5iK3raqHlr6hUK4quEM/11sUH7Vqu1nvtnqccuPc8OTHgKAvMjAOWbH0tYAoEkgb5f87af5N1/U6X7rRXv0gx/MnRwr9E5HAb5yje4uzr3L+knA8VnEDhTBKB8Z6q74OwZIzDqXh/zh7BH/WB3e/3S5r2DaV7UoFC8aDceDON4jPLJ3dRb2d/RP2M44S4IzIkAlG9OIGEGBLIIiPXW+D8H+qrnX16d9rGaQXBL/a3RMcon1pST1p1ZriMPBMpLAMpX3r5FZMtAQPy16Al/tHpwv+7RPb9juTwMGrvPR/LnoP22V797MBqldlaFA3hRw7G4onD5CUD5yt/HiPBUCQzaV2qNpwlBivq366vX9ash5Nf+pnmN3+CR+WuijY0Vb+VqI/2GW2Ecr6U91RGAxpeQAJRvCTsFLpWKwODeWu1G4lVFw85Vr3Z590AGKnZEa1vdV7NEnbfbmam7szSEuiBQBgJQvjL0ImJYagJRr1HbdP5eTBxHL4Kta63O017v8e7G+VV/P7EoPE5AL7qN62sXal7tE2tbH4bOwzLPWytX2nP7Zv5xnEJZEFhmAlC+Ze4d+FYSAsOgnvG9hdfR8OMw/HgYvV5QmFHv/XN4tmVBcGH2TBOA8p3p7oPzZ4VAv3Vxzi+CmBz589bqjH8aZnIbKAECZ5IAlO9MdhucPnsEXgYbJ6pDg/bbM947PHuM4TEIFCQA5SsICsVAYFYCgwebm8HJ3HSLwmZ9pnuHs8aK+iCw1ASgfEvdPXCuZAQGD7ZbszzMUgzHINj2P3KedClWD6VAoCoEoHxV6WnEuSQEoqMZHuMsFkN0VKwcSoFAVQlA+ara84gbBEAABKpKAMpX1Z5H3CAAAiBQVQJQvqr2POIGARAAgaoSgPJVtecRNwiAAAhUlQCUr6o9j7hBAARAoKoEoHxV7XnEDQIgAAJVJQDlq2rPI24QAAEQqCoBKF9Vex5xgwAIgEBVCUD5qtrziBsEQAAEqkoAylfVnkfcIAACIFBVAlC+qvY84gYBEACBqhKA8lW15xE3CIAACFSVAJSvqj2PuEEABECgqgSgfFXtecQNAiAAAlUlAOWras8jbhAAARCoKgEoX1V7HnGDAAiAQFUJQPmq2vOIGwRAAASqSgDKV9WeR9wgAAIgUFUCUL6q9jziBgEQAIGqEoDyVbXnETcIgAAIVJUAlK+qPY+4QQAEQKCqBKZSvsOg7vnhiSAbBnWvOUtToe95/v6J+HqajYS+Vw8OUx7s+yl6OSVTVZEBAiAAAmUlMF75hsG6l/ipB8N4KuUTGmZ/sqbpLMYzK1+W0RLm5egZlK+EfY2QQAAEZiUwXvnIekLqEh+p1Pjfw6AuVPOYP1C+YsCgfMU4oRQIgAAIxPEMyrfv6yWc3Y0UW4vyJ2NJl1Y+qWqBXFaqvVNT3TN7dEr5wqa2y/YtTWFqS+kxeUUqayQh9NkObdikLVBRS/0k92/DplcPQlr12qPCJf1DTceylUBEXw+GsqL84KlAyFULSg8960Ysltfk8zBY15ZN4J5x/jCor5srCFPShBnHwhmKKG/Nt08xWFOxjUv7KVxiwHG6gAAIgEBJCEytfCROQjnUNM0myqxFYbby2btTfOqPpXiIBaKajvX8O74tpWFq1rYljSRkKp85mtGdUnWYAinLQllJBW2YUmxI2GRFruU2nRQSq0yhv16vG+elIInYjTLt+zo9QflYLygJJK8oQukqmRWumrhYptRgbopq4zcIgAAInH0CUysfzf5ysSImdDM1CyhmLWIJ2SWFWJCI6iLHzMtO9VjcSjSzvykTkyI6haktq0PKAbVeMdqWqXzjJnejviIG3WKyPC3aTCuiLK+Yl9ZcjM/7fj0I9KpUpIdy6WbWlAwpkZEWKHa16Dw0fmrzwm1GT+Y6rtItWzeujFpkEL9BAARA4OwTmF35xESvlU9vstFem/t5uzvAAAAgAElEQVREZfaaz8zLydlWC5WjjlIshSrQlqZpUDhgVET2SkqTMpXP7g0mV2OugJESG6XRPU9BOXKSp3Y8n0aONhg2hcjR/0azzeWFKK4jmqh8BqkSbP5RmnGfAlVYhPI5P7T+Iz/xGwRAAATKQ2CuypecZB1MJBI201E1Zxk3bs2nVTbd1pTKp/xxpEtnift89EiO1ht3bWTUyCy5ZE2ucHlpQ0FiCYOmaEmn183u6KxrPoewbtKN1MbF2zLeIQECIAACJSQwP+WTd5XSKyfDbILyyepGaYxgiLnb3Au099jEzapkWxOUj4mWXDK61dlR8tj4IDJopSX9oaWYbdGRE14xL02NqP1JfoeP0lJWM+7zMZVlcIwDnIxz95Fa5JkiasVcmEqu8zKYkBH8BgEQAIEzTGCOyqf2G2nPLDmNqgUNLaEkMTHbOks3OSlLA0YCZRn1/Kd8cNJ8WVuoDv2otqwOCeup3U6pMapGM2RHtRHToulMLlpG+cxDN7IaSSBTo+Pd55OeMhW3UqTcsM92Mp5S8ET78tFTtVYzysd7wQ+Te8hqd1feUiQUPF7NQl9VQPkMGyRAAARKRaCY8pUqZAQDAiAAAiBQaQJQvkp3P4IHARAAgQoSgPJVsNMRMgiAAAhUmgCUr9Ldj+BBAARAoIIEoHwV7HSEDAIgAAKVJgDlq3T3I3gQAAEQqCABKF8FOx0hgwAIgEClCUD5Kt39CB4EQAAEKkgAylfBTkfIIAACIFBpAlC+Snc/ggcBEACBChKA8lWw0xEyCIAACFSaAJSv0t2P4EEABECgggSgfBXsdIQMAiAAApUmAOWrdPcjeBAAARCoIAEoXwU7HSGDAAiAQKUJQPkq3f0IHgRAAAQqSADKV8FOR8ggAAIgUGkCUL5Kdz+CBwEQAIEKEoDyVbDTETIIgAAIVJoAlK/S3Y/gQQAEQKCCBKB8Fez0aUJ+8eLFG/iZN4FpegJ1QAAEZiYA5ZsZYTUMXLly5e///u+rESuiBAEQKDkBKF/JO3gu4b18+fL//t//OxdTMHLCBH70R3/UW7Kf/2+Zfk6gO47bBSfgEpqA8mEMTCZw5cqVP//zP59cDiWWjMBoNPqqr/qqJXOqWu6gC5azv6F8C+uXKNKmTaJoU1H0WhU1iaI1F1Huv/7rv77lW75louXosB9+PKKYJxafpsAJNDH6OOy/XGgQ8Qk0YeB+8pOfDILAfETi5AmgC06eeZEWoXxFKE1TJgyCoaxnEtlWXna27vSdQ4dBsC8zTMI5fNIf3njjjd/7vd8b3+rBg93ey9HgcWP1cqu/GOFYfBOj3r1Ofzjs3924cK2j+m581EWPRubaZ2FN5LjyXd/1XTlH5pdto5ufzRJZOokuKBGuEwsFyrco1CR4w84tLYFZLY2612ve9e6IHzOC98z3lQTyoyee/s7v/M5Em9Grg+6tNeZbv3W+5j+L43jUve5tPXKiSdQt8jH6OGhcra9evnTpre3gYyWk820iOggaW+83Gtfr9feDgyPp1KvOprchFa/fWllpPS/iaZEyg/aVenC40Cay3Xj77bc/+OADe+xoEN7b2hozGG3R4ikWXfFKGSVVj/iN6/XNO3O6dsqJd/SsvfXuVmOnsX2zO8jwZJ5ZThe8ClvXtxo725tvbrY+YufIq7D17mZjp7H1bqPzcp6tw9YYAlC+MXBmOmSUL2jmTjbRk8a5muetuwWM8u2fvvJ953d+51/+5V8yEIPuTms3aG16HlO+OBqpfc5hsF7j+awiJUfd4DE77Snb/n7V3X5fXwoMgo1abaMjZaN4E6PHgXspYW2rVPS0sbLelvNr1Hvfq9GVR6Q3a0O/RlqVrKo/T2zC1BvcXfM8a614E8bC1IlPfepTVHcU3mu17rUbb3p1d6xRAef31NE5VtiHg/vBAfuYTg4fbNTe6+prnJ1Lky6eDoL74+3lxhvt+6tXAyF4L4J6TV2upd2ZWw7rgkH7yur2E7mV8KK96l2iS6tB+8pa+4Vs8ai3fb7RW8yWydxCKoshKN+ierKA8vV3b3T7Qd2r+c525zIp3/d///dnAQp9V/lUmWjfrzfDCWfuYeCPn3yfNjyPpqSoty10w249FmliGPh6jZXlehzH0dNGzdPTTdj0vJUW5z8INjfl3JhTW2RPbELXfdH2b7fqTPlUfpEmxrRe5NDq6urf/M3fuCWHwboD0z1qP80YnTVEqbDph5TO+t1vrXj1+3oBNnyw4V1pj12NhX5zrD3dRjpetpqPBt17Hb3cz/Jp9jy3CwbtK17thtS1w6Du0dbI89aKZ+AIhyep/ux+wYIgAOVb1DiYqHyDu43gMB6Ks8AMfenMaSjfP/zDP/zHf/xHgsWP/MiPPHjwIJEpP2Yp38vO9k44djWno5ugfEcHHTMlJZSvWBNFJ27hjphzL922whftt7YnyV5h5Ru0b3aGYpqzaz6hu8WayMKem/cv//IviWNstWGOpJXAHHISxQBmR+cYog+TlE8MJ3t9s+973vbYpc+0yrfv17yt7nDYf9rr7Q8mj1Xyv8jvYl0gLI0ebnq1re4rkRanv93ykTsQt+xoLNIuykxHAMo3HbfJtSYo36tuQz3YIs5zdXuJbOYp36uD3tOe8+/j1Mkb9YOdVivvX5B9B+Vzn/vcd33Xd/3RH/0ReaB//8AP/EAihz6mlO+o33lwIFZ7o27nIyqV+Xvimo/Vip5sm93OuHATxSbuUT/Y3V6/tHnvwEJ82Q2eyk/PO+PvuBRpYnCvIfZpE8o3vonD3m5e3+20dp/atS+DFDcajR//8R/nOZ/61Kc6nQ7Pkel5Kl92dKkmVcYk5XPXfOJa0LlWSFmdUvnkVWZ9K+iNXsejp7TtmbC+yC6IDnvtm5urVxo96snBfa58sdiBKLScTTiNj8cmAOU7NrKCFcYqX9Rr+npbUCife57nKV8cjx5t1cyJ8aqzZdIFfcoq9q//+q8PHz783d/93e/93u/lx69evXrv3j2ew9IJ5Rt2rtbo29L1YPxd+uLKdxT6l1f9fbV7eowmisiSjuVVz7+8uv1Ibq1Fff8iBeE1xu+mTW7iZeA/kNMbV77jNMFoj0u+8cYbf/qnf+p53pMnT0y5rAWfXGDMa7czMzrTfCoxSflicZ/vWkdedAwCMZbcMyJpcBblW9U31eRyfy5bi8fpArHmH9zfuLC+25fPVfVvr7A1H5Qv2dOL+wzlWxTbMcoXPWutXV6tX93cfHdzc321lrhnlq984U1v+4lUAvGFP2phHhF88Ytf9Dzvz/7sz4yx7/u+7zPpVCKhfKnjTkbUD9gy9MbG2tUGW5XmrEPjQXBts60f7HTMZXxwV7qNq2sbN1iLeS1IQ+Kim+75ZVg2WcdrYhjc2O2P5M8X2nWv3v6CfgTI2Jtj4n//93+/8Ru/cX19Xdn8/Oc//xd/8RdZ9vPXfHOPzl05bV1Z22Jr2czF6+Cxv3V1c/tmED7Y9lJXHsOnu2zMbK1d2WIfd3vq0dlkzMl45ZrPXNOIo/NaYBXuAuViKG5ly3t+7m5nHN6cm0tJGPjsEoDyuTzm94l0aZh6tnPQvsGe2ZC3uxt8hzBX+fqtFbkv+rrflveizNfErNevDzpsimGzg1SCB+OeiHvrrbfMsu83fuM37t69a80mU8dSPrdyoTVfFO5s6/3GKAwe0d6Qaynv06QFWdS/XV+9rr+xJ2dD5znVPLM8f1IT4glYDf/Gxoq3snGj1d63u6rclJMeTrPbGcfxH/7hH3qe94//+I9xHP/ET/yEY9N+SCqBPeKm5h7dxDVf/Doaqe+WxLG4FqGnbV2/zKcp13zxM79mNVXQqKVvqi2oCw47W2/WW8/UBoY4ffRS76MGe8BNdhA96WOiRWIRBKB8i6AqbOYp3+D+Fj3QrJoWp4G9vR+LO0P6m+yJbzW8DOorG42dVus6/y7d3Pz/y7/8S7Ps++7v/u7/+Z//yTe9UOWLwubGdkB3NO9u+fyyIN8nc2TSxD3sXPVql3fVVcDg7qp53MBYmJiY1AQzwHc7WfZ8k0dHR57nffrTnw7DkC/c3VbmpXzMarHoJipf/1bNu6h6ZNC+Yp74Zw05yWmVT+xwmt3OsOGt0F66Y326DxO6QIjuuW31fR753JZ+rirqNWpb9CWcfmuFvuEwnROo9f/ae3sWN5Znf/wVdHpfwYQLTgwONlsll+vlBBY4OIKFs+DACP9g0Qm+CAdGHC7L4GCvcGBhuEYY/oYJDsjBghYM2sSgDQ7a4MA6MMiwwVzwhQl8mcDB/Knqru7qeViN9unIqxLG25rprq76VHV9+mF2pzYCwny1oVqyYpH50tNh5/H9QAX3fxvi0yAZXNlpbCgVPGh23tCDkRXM5w75/pou+tWBJXWl6pubm//+7/9+eHj46tUrupb7Cb8p1X0KOm9stbsHQ1I6V63668I1HzyAxz+LDg4LXS2kpfRL1HnaHx1PJkeD3Xv2KLEgqPrCwi500/lhz3j8cWdQZ81X3ePCO//617+UUk+fPv3+nVZPrM38sN/ba0LwPWh2/uiP9S+QsQq8eO3WLWS+5KjTfB5NjsfD31sdfezKFcqXFzNflb3pSdh8OhgfT0YvW61X5Q985Xur/f1CFyST/Xb33XhyPIleNDaejuyvbcRHndbv0SyeT17utv+0l2v3KhUvhYAw36Vgq9GoyHw1GmGVcuaDJ57NIV9dQUvX++///m+l1KNHj4q/4bC0rKoGC5mvqmHt67US9480/jydfo7pT6TWlo4Va3WxnMir1v7f//1fpdR//dd/XVVQ/d9WrN3TQuYDSd/ns5Ozen/4dTHzXaRampydzOYl04OLGtW5t9AFaTKfHc/mRSO/xzekUh2117OOMN9N+f06mS+dj1/3djdrHxddwaZ/+7d/8/7k1RVEVTS9+b/zePM9ZLfQRQV8F1z+j//4j//5n/+5oELdW9du3Xd9vlW3/4X10hvgrYWdSoW7hIAw3015k5gvm75nz7PU6c2u+b7SgV+dVtdU5z//8z//7//+75qEiRhBQBAQBFYRAWG+m/LK2dFYP5I4O6ID7JpdJeMx/PXnLIvH479rtpFqgoAgIAgIAnUREOari5TUEwQEAUFAELgbCAjz3Q0/ihWCgCAgCAgCdREQ5quLlNQTBAQBQUAQuBsICPPdDT+KFYKAICAICAJ1ERDmq4uU1BMEBAFBQBC4GwgI890NP4oVgoAgIAgIAnUREOari5TUEwQEAUFAELgbCAjz3Q0/ihWCgCAgCAgCdREQ5quLlNQTBAQBQUAQuBsICPPdDT+KFYKAICAICAJ1ERDmq4uU1BMEBAFBQBC4GwgI890NP4oVgoAgIAgIAnUREOari5TUEwQEAUFAELgbCAjz3Q0/ihWCgCAgCAgCdREQ5quLlNQTBAQBQUAQuBsICPPdDT+KFYKAICAICAJ1ERDmq4uU1BMEBAFBQBC4GwgI890NP4oVgoAgIAgIAnUREOari5TUEwQEAUFAELgbCAjz3Q0/ihWCgCAgCAgCdREQ5quLlNQTBAQBQUAQuBsICPMt8mM6C7dU8Gs0X1RR7gsCgoAgIAj8FAgsZr7pvlKqFZ2TOd+nvU2lgt3oK125/M842lHuc6/R3h+dJZcXdyMt01n/YbDxdBTfiHQRKggIAoKAIHDbCCzLfPPoSaBUIzxJr0NTzXzNzkG/f9DvPdsOlFJb/dl1iL68jC/j7tPt9p/CdJeHUFoKAoKAILDKCCzFfOl0v4HLveva+dPMF04JofnbplKq+/FaaJWELvvzJMRFrjDfssBJfUFAEBAEfg4ElmC+ebQLy739qc9LyVnUbT6A1drGVrv/CTYr0+NeoNT2W0eQ83dNpTb7pzlQ8syXOdbRt3rRYbd5T6mdCIkoOfsQtrc2YIM0uN/cG0y/kUDTcD7/gPVVcP+3vrubZfFxXzcMHjS70ZkxQbd6Mxr8dj9QKjzJcGvX7b+2oNspMKFRIMuyEntBie9no/124x603dhqR18AhtnBdhDsjuxGMSkrPwUBQUAQEAT+QQTqMt8gChtKbTwdOTYDrXEVGGx3340nx+Ph7w3YCP0rzdIJUN8vQ6o8Hz5S6pH9au3NM1/6sauU6hwmWaZvqeBJNP+h65sV5/azweh4Mnrdhr3RrXD6He8ih20/am4/HYyOx9F+C+iRNk6RszdaB6PJ8WT0shmoYFdvZmIr0BkJG2jt82Typq2U2v4DKs/OU5/5KuzNkvFeoIJmLwIcohfN8MQyX3MILCgfQUAQEAQEgVVBoCbzNbYfBkpt9j75670vw6ZS7Q/0UEo6AeJ6PkmzbHawqdS2Sfpfhtu8mrPdY770fNzbUirojGElp2+RhCzLsK8AhWsByQegKFyWZXqxqJ6OSBWtAK4ykYY3D+zp4Xz4C7GyZj4mEyTrhaBeZMJ3tuartHcWAtMPzgxJOwulJAgIAoKAILBqCNRkvlZ0MoK9Tv+RzvjPXbczaEt6YxBJQm94zt8C8Y3szqTDwCzsbFMVbNOzMx4pAhNiX71PrnF2HrWUUvt4Spinqyz71FNKwdruL2ClwgcPF4utLmS+C+w9e9eEXuDx1GgqR4TMS1IUBAQBQWDVEKjNfOdZegIbnm6DEdZlQD29o8T/6HVhMnqql1awxgpewEKw8NH0hs92vo7Gx7PYVboq8yWHHfOwjKa3t2clSi7LfBfZm6Xn02h/Fw4Mr+3Z1wJgckEQEAQEAUHgyggswXxZlumHXODsTXd82t9UavOP3DMvRinknubwz/5mybMtuk6e3pg5hVuFvtIj4Daz14ocxvZC08nzQCk8Y0vGUG+HdGZ9FDY28V6eDtluZ0EHJ8zuc8Yj2ITdG9t9V1dHSoKAICAICAIrgMByzGceaXFPeMYj+PW+QD91MjmK+ntd9ygjHrAFQaA2q35Fr0BvDpHirWT8+4btSz/hEjwcmOM7zXzBRvNFND4eDfBXA4kI09lLWKxu7ITR0WRyPBo+3+3/hT3lSQ4v4qmk2uoMj6LhUe7Zzip7p+HD9uDDhJ6gUY3XZ/Jsp3OmlAQBQUAQWCUElmW+LPs+Dbfgtwp29SLqx3xMT/Ore43W3nDmdiz1Yyaq+Y6e8cxbXqQ3W6P0VjJ93dG/QYEnaqMz/WCnPZx7P5se4H5jcH/3YBLbdViWzN5Rw+D+9tNwon/ToJT5snT22gjpHiXeEy5ZlpXbOx/tNXGfUwUPmp3XU1zw6d9qkGc7rU+lIAgIAoLASiCwmPmuoiY+4Vn6bMtVpJa1LeewsppyTRAQBAQBQWC9EbhJ5kun4aYKbufES5hvveNYrBcEBAFBoD4CN8N88WQUReHOBvy63TX8Yesa5gjz1QBJqggCgoAgIAhkWXYzzIe/aRc82B2cskO/G8VbmO9G4RXhgoAgIAjcIQRuhvnuEEBiiiAgCAgCgsAdQ0CY7445VMwRBAQBQUAQWICAMN8CgOS2ICAICAKCwB1DQJjvjjlUzBEEBAFBQBBYgIAw3wKA5LYgIAgIAoLAHUNAmO+OOVTMEQQEAUFAEFiAgDDfAoDktiAgCAgCgsAdQ0CY7445VMwRBAQBQUAQWICAMN8CgOS2ICAICAKCwB1DQJjvjjlUzBEEBAFBQBBYgIAw3wKA5LYgIAgIAoLAHUNAmO+OOVTMEQQEAUFAEFiAgDDfAoDktiAgCAgCgsAdQ0CY7445VMwRBASBG0QgpdfP2ML1dmbF2sL1yhdpGgFhPomEnwWB+WhvMLsdZb8nhQ8lvNtRQHpZUQSmURSjarZQrmh60u8d6pqsQpoUP35gWbG2wJpL8foQWFnmm4bwWttC6FyX5fgGwfCkIC6dj18PJhe8TZc1TE6G/fczP3ALAqsuLOyoquEqXwdwWtH5jaiYHHYC1Rkn1yh8GqpwWiYvPp2MX7WUavWPJpPjyeR4PPy9ETzsTb6V1S5ci6OW2i8VXKh61QvT8GqAg6o7NzfMrmre0u0vjMDpvoLP/hQKl3QQEVI8Ci+CbdbfUpuv8vO05Mt08r67qTa773VcTUYvm8G9dvTFZpGa8pcEJpmPT+ZLtrnj1a/GfEgDS/FT8mnQeXw/gAAM7u+Nq5nt9phv/men+WxkNEnGnWCje1SdXxnznb1uBA8HZ/Uj5Muo87g90sSwsKNaYgEl97nkYK7VE6803b/JSQnvyZa/T3r3ApgLXSetVjJflmXzt9vq14hli2lPqeBlPpdZBTkml2K+y7nyqsxn9f+JCzAky2cwnlE1q3ltil+Imc6jC5hv/rYVBOXkmn7sKtVj06J59KtSTyj/ZLXkF9WqvBJPh390eu+m8Y/KKut54/LMB/OmnShaKgme9hsqaL4cn8VJ/HkyfLMSzKcNqeZgPzAY8/k3anyDF8ffXu6uodAlq/Asf0kRSzabve6NT6OWCsK/lmx5UfULmC8Z7/lz9nTSVar5jlGhL5ljclnmq5G+/U6zTJgvy2pS2nnUuobVbQ1m+jbuvZ5BVnF85tw2e7Wp9vjOxXz4iwpeTGjRV0O+E3ZRKT2fDH7vhB9miXBeGU6XZz4tjQ/4MvneNcgI3nwH73p8YJd6WHg3Gf1rO1Bq41F3XL4DidXejAa/3Q9UcP/ZaJ7MsKw2dgaz71mWxdGOm3yhAphfiMAgQOkDi1e6jjlFtd6Mo5wCrkLGKTP51G9vbcBK9kEX4vp8Ej5twHe10Xw+hnwJZtJnJ4pJTnLYUao9Mtto6eS5Uk9HSZbNP3Sb93Tz6IwMKWzPluZutnqgVSDm4gig8GfH6L7IaAaVqS011IBovbF3xNPYAUg6CcYom75JlFJGbTQZmxbrXDgh+DLsea7xggq/uL5oBwIp4QQCDj7WHFRYXwtPStHTwmGF1/tkO0qm+42Np6MK3stjopnPhpbzWgkCtouiMmgCOkcbhdGrdbdw+WayzO4qk+3oqSnGgAsDrSqOkxZBh1xCoqwV7q5WGWwJpxTV7K7zhYUde7Hh5+wCPU7c0HBAWVRsQNKU0dmlI5kUUPpwRGuFzV3N/SkffeGJDloz1/WqFRs6TXRpITOlk/1wmnrJgcmAFV7rvYuj+fvdjYfhFAa4/iyUTxWrfyZfxv29Tv9oXr1zVd14be7cKvNl56PdQG3s9CfnNMUxlMBHst5Jg/ET3GsPT+Mkng2fBGqrdF8Rh9lWb/w1mR92N6lJfDpomRn6AubLvifjF0r9OjxLkiTV80edqQsKPBpCwGLy0kPUMl96EjZUsPt6Ok+S+dFwfJ5lf4+HJ/Pke5p87G0q1TlMsh9pctRTqjX8G3uycpJxR1fIsgwXFt2PKZxpBbvD0yRNzgY7ekoIhhRSQzFdQjWbhuy8BIe3BdlFN+Y1zUM6Ybmy7iuOQrPBCCnGMJYVmxkiISZzeQekGW3PowjOUzHf6b3KkxDPlkotcrpRKRm/0A+2gMzdP8sW5yeh7YsOGtEck76dMoADYwJrEfVFP0/7m2pz90W/f9DvH3R3H7R6H122okreT46JTqYEoD1IKyLAJRRdiSaQtpi7y3G2B3XgTV3fIAzyrWLoaxMDtqYFJI5KmM/e5YqaMgaw6Q7KWnKd8GN2ad6yOlOAUXfFCImjfXrCxBrroo6t/xgCTmFG52aMsGoGKHaF1OA/FzHT6aB3CIwD0AVhfnMcB3tzT8dVr/Oo0X438/lpkXyuS7H8ZRw+a/ePY5Zei5XkCiBwu8wHETHp72zAId9vA+NziH6blGFUYFBCYfstpZtPwBmQgvV4g4mvboL1zRwKyoHJFLh7DmUYPDbZYUrC9IFydG6CLEBDghEbl5xlvgJ+Q9gZU7+PK6IN5ejRyi11CuA67zlsd6THvSDoTdJ49MQaUjGETPSCcPsB3HLjlnZ4qlKYTYs8RebKNFBcaq5qheghvCehxVw39xUworgc6iX/M/0YhicaWoZkvpb9Hkc7NjBsUNnsz7gHWjiLbHtdmL9veYd830adoNE99nOU34bb4hlLedm7WNJ1wZV8roBhbNgd+53u2/mZM5Pw9wmDfME1tHFitSplPlvNtxW/kV34hXqsFX7cC1Vl06Gnc04Jsous9rXy1KNbNMxJLKmtJWuBxYZevxcz03z4whAzAJsncp1G2CHf91n/UdB8xx8VqJKfnMGTVvzfWVk4JvOjfmevP/5SdtMzZN2/3DrzIeDJadR9GKitPsyJOB/AaHfMZ9cufh3uM1tfJzK73LGEZwvQyoUjxLdZlFzEfPbxLatkScNZGHg7GNBTcjY66LR+2W7AjiVpZYX4a0c89O5O0nTyIsAdfy8JIrHRZJ+bDuVC7rbpwNQ0FWyCywmgFICy2JEtu86VMWqwu5ZUUDBlDS+N4h1E3nK0nbigdyw+OeVgETzrP97e/nW3/azdftaCjW8zs8lVNXKwgxLmI31ycOW+WpmFQ74sHf/Opke2IitwTHy0mQs4AG62p6UUleGsYBnddMksYsxn4oGjgV1ixucaAlvgRasqCUT5dJeGTJnt5GujvWbiWuHH7aoqGzPNzJVHCAwi+uhg4JrwsqlJY4cZRVCUA4XZxm0IW1WwUMVMcDP+s739S7P1tA3h+vg+aO0/kFU45MvO3jR8gqyWD8/EkS0/ktHvVPb1w29pfDzoPu+PToX/StDRl/4Z5oO+Pw8a+oEFzQf6GA93A+yaz26IIzfs2uefmDX1mO8P8ywVRJ6eiMEIqcF8tCPvFChpiOMHF22k2Hz4SG0+H89h/5RpWMF8WTrpBUH4aRoGAc7rQeDmQX6nhITzn4V0WWvS7SRQCoArZeVcYlqC+XIU5SVW178ugb18QWPvz9/2WO5AnMmVto5OjtTcMgTXHGY8FFQsGfEsycTZPWd27WzgPYbA7lCRo2fpBG865nMzOWrFfhZcCZFjtc1DVLnmAz6zIDDxvn/rM58W4VuE13z0jD61wo/bVVX2NHcu5vIty3JNeFnLsE3Kmc8inOsRZ6JDMWsAACAASURBVOS0RmT3qpnp+yR8OXUbPzytmfbwMIvbx4KLOKPSxyimTrX8Tz2lkww+sUL1mGqFYnI6Cn/vDGTzs4DMNe928sFf1lcWfwjDaDz7miRfp8PfGyrAX8+CYFWN/UmczMd/wLSekpRSeICXfB33tlTgPRBlxTNe4RzDNjmn+4EKdqPPSXw6bMOT8Zi+sVOdLoEOg+44BprCnRO7j1SmAGtoF4vxn7uBanSiWZzEZx+G43NYBW7+MYnh2K/XsDNWOD0KuofYE5MD53svgs1Hzc1NXATrtWnQDI/nSZLEn0fRUewGvzUdCqXpkpaYLNmVZC6Uw11WUgYlaWoJI7ku8zEYAVI45wNRlVmGd+3s+xp1fPq3gLs6BgSS7HrhKdUyH7C7pWQok0WeQHAT/8XB5OztbrDVqXjGyjTlJvhok4+cbl5v9IWq0Xd0LtmlQ8Jq6/yCK3KzDgZ21OQKChSyNtewyHxsYxNnGLnmlj+sek4HuMSYeGH4cddUlW03pqCV58A6V3JNeFk3tVdKmA83gXKW2p5tQ3sFCsQ4+d9qSKd/dOk5NWwAzf35HEzrN/unTlx81GsEzf6po8tq+dns1aY+5J69w1+2qf0nXswDLyey/nPI3zbzJSf99kP9y3wbjZ1u9Fm7PJ2/b8PVe83weOTtdr6J+o/oUNA9/sQNWMx82bdJqIU8iyZvafOdx+XXUfsB/IYhBJa7jpKLCrgKmEbNsEnPIv0oZnD/t/40yeaH+DXY7h5GeESpn8uYj56h+U9G9tlObQyc8Cm+zktmr9t6p3Rjqz2AsZGf9WPDYrrUdGi2g+wig6cMD77yHU63/oOG+rMfut/7RhA0beTzqZeddUtK38Cd9LFHsPpCbg8znQ33mvC07oPd4d8YJHClBYAE95t7g2luFFvJO2FYds5Haz7cvYMHXOFT8mxnOov+6DQhGDaaez14vOV5e/vhdnt/5B2q2NUGh5Jh4qPNfGT19B83rXAlZwWo4nxhQdbrQno415K6piJjJ+XfvKcwdJmqSHjQphWdsL1QI4UmQNZksNddJOarE37crqqy7saqZOcr7kq4786ScRKDjGu1clBT+JUxXwlQxYbWZCiUMF98HOJz3RvNF+bXtOAKJrqNrXb3cA5PN7zuYp3g/m9diKs/Oq2H2829wST/wFaJfOx/Hv2qH7nqNHODxVOv+ov8boOPzVV3O31pd+kb59S7ZJfYclUE4qhFm6tXFSXtfzYEqpjpuuyokO8O+WbTT3yNeF39rp0cYb4qlwvzVSGz5tfjaMetddYci/Uzv4KZrg2IcvnwnIH3JEFFf+eTAfweTsm/wXF+dVkhYl0uC/NVeVqYrwoZuS4IrC0CxEx22/OakSjKT+eHg96Tzc0nvf67/Db/NXe+TuKE+dbJ22KrICAIXAmBszE8bpZl2Wx8wV/3vXwXNy3/8prdsZbCfHfMoWKOICAICAKCwAIEhPkWACS3BQFBQBAQBO4YAsJ8d8yhYo4gIAgIAoLAAgSE+RYAJLcFAUFAEBAE7hgCwnx3zKFijiAgCAgCgsACBIT5FgAktwUBQUAQEATuGALCfHfMoWKOICAICAKCwAIEbp/50tT8BTlbWKCivW3/Rqst2FtVBVvTFqpqlly3bWyhpJJcEgQEAUFAEPjJELh15jNv6KY/4V8JVzo96Jm//2rqFP+6QWVjunFBkzQpfvy/h3dBY5IvPwUBQUAQEAR+PgT+Oeb7K7zoz/6e9hv+Gz3cX0mPR6F9YewCwIm8ik2S+fQ46m6qzeeRedPxh7AZbLTfzy39ucYv6/a3QB25LQgIAoKAILACCPxzzHdyAfPNh78G8Ca9E44QMVH+zVi8Tq58YZN00lWq98k1mb9vKeXef0uN42hfmM+hJCVBQBAQBH52BFaR+ZLD3uAU/mC0fhMjQUxMdF3Ml38BaTZ/u62C3oQWfdSfMB95QH4KAoKAIHAnEFg95vs+CV9OU+8F6xppYqJrYj5Y4f2KbzfW4r9Gu/e2wxPiPba7Kmu+OxHqYoQgIAgIAgaBlWO+2eve+Jt5d3bwcsYcVcV8ydnxxJzVmYJ9gXZVkyzLkvGeUo86+l1Wvb1m49lwBv26DzXOrfnS+K9cd7PY0aVrLiVBQBAQBASB1URgxZjvy7BnztTiaEep/SlDjZiouOZzLyzOsh/J6Hf74tDqJtm05x3ypbNXzeDx8KykvxzzwQtK+put6FxXTWevu1RmjaUoCAgCgoAgsKoIrBTzxaNn29uPW+1n7fazdvOBUjv80ZJqGvvUMy8sxt8UpHqZ27AskmXhkC/7PGj4z9SQnALzfY1avwzn5NE4ijg/02X5KQgIAoKAILCiCKwQ86UfQ++YbV9553D2JcgFGpu92tTPwsze4bmd+8VzIq9CE3iYhbFXlmXpUUep5vCL8xM1zjNfctjR27DxnxE8DuO6c22lJAgIAoKAILCyCKwM832f9v41ShhOcdRSyu5bXrCAm0e/bu6+6PcPOk1vd/SCJnDIt/mKHSLG495W0Hw14wd2Vcw3/UM19/r9g97uHl+Swvas/2sYzBgpCgKCgCAgCKwMAqvAfPFkv924p9S9Zu8oRmTgyvaDQKmNxtPu2KzDiIlyCzh3yDebfuLMVc588fGg+7SxoVTwYLd7AATW2dneftwZHOuunWeov9yazx7yxdNPdsvTPJIjzOfgk5IgIAgIAquKwCowX01siIl85ks/ds0hX4mY8iYlFcsuUWOf+b4Mt/1t0rKmck0QEAQEAUFgdRH4qZkvnR8Oek82N5/0+u+mfKeU8Cby8smS7i74SY0d8yUnw/5eE38XYsyXewsEyW1BQBAQBASBVULgn2O+r1Hk/XGyhagQE9lHXRa2cDVt28VtbA3bZvqen+fZ+1IQBAQBQUAQ+CkRuHXmS8bjvxCpeDz+eynIzsbmFHA2Pipb4JUIu0QTJ+XsyLwrYnY0rtmfaywlQUAQEAQEgVVF4NaZb1WBEL0EAUFAEBAE1gQBYb41cbSYKQgIAoKAIGAQEOaTUBAEBAFBQBBYLwSE+dbL32KtICAICAKCgDCfxIAgIAgIAoLAeiEgzLde/hZrBQFBQBAQBIT5JAYEAUFAEBAE1gsBYb718rdYKwgIAoKAICDMJzEgCAgCgoAgsF4ICPOtl7/FWkFAEBAEBAFhPokBQUAQEAQEgfVCQJhvvfwt1goCgoAgIAgI80kMCAKCgCAgCKwXAsJ86+VvsVYQEAQEAUFAmE9iQBAQBAQBQWC9EFgB5kvn49eDyddauMNb0d/P0izLzqOWUmG9d9umX8aD1xN5i3otiK9WabqvWrf0Ht9pqFrR+eXVjaOW2rklXS+v5dVago370yvJgIEWXk1Eef/XEyqYB9TVIoHpd9WgYqJqFS0I031V5qlpeDPg11Lu+itNQwWf6rx9e/hfnvnAVfqzTPpIPg06j+8H0DC4v4evfk3GnWCjW+9ls2evG8HDwdmSzJccdYJ7XXy9bDJ91W4c1BvIybT/tNGvSa7HvUBt9k9ZsHwbtZVqf6j3Utsvo87j9uiSeRzjKehOvrvewTvL+MW1rFsyQUxBAD/Dk8yO5LpioJ4vqm6mvr1Bsowtq1X3ksx3ErrguWXmW7K7S8VbzkdxtGNz8aWC6kTnczMUqtN6rl/4ukj/O8V85dHoefxS+JfguvjSZZnvPAppulwxWynr+7TfUEHz5fgsTuLPk+Eb89LzsqqLruFcb6kgQ4kQ5WVzq7LulutiGgZq89XMCko+tJXq1H2bOwyeS69gDHMEzyewGsbPzTMf9cSz5OKRTK28n5cb3rc3SDxlf6ov5blmoQncp15iWthyiQrlSX/J7qb7lrSW6Nqveh3MV3e65ve8eLxcbmjke1mR73HUKtkQ8jx+e4P6sszHseTjhF8vlGEcql5+weUIBjJ4681o8Nv9QAX3n43myQzLamNnMMMFjUvorlU6e9dpPoBlZPBgd3CKyR/vdl8NWveA57DfcJoh7dEiJfz/+psqsNwJdTb7jrhQgq0LOiez4V5zAxerzefRGVtgaUNnB5tMQjJ6qhRS0fxDt3lPKbXBWqVnUVfrvPFoeMbnjHqhVtYXWtHtv2lt5LcLELc/ei212ftkuM8BlWXzo3AX8dnYavc/mTUoVggH/9oOgHEXIs+zg+9X3/uYzqYwvYCP43JUHq+V5Iji8MYBEMFUWg8V19zJxDonEFLwYQtcV5n68rUye3dQDSt4A/I8apEogAg/+eEKsRFOyWvsrpmCQCPqGnuJEJBwCqvbVoR2mT0fEmLj0AOX7iq95cVi0tSv1MSI0TZaQ3gv9iLTH1o59HSY+V1Yu7yVOjPWSWNI6rMJgGUnmlL6852CoeLsLdkztwobNPhwJpcZs4tAIceUeZO5DIRUBpXt3RloXXUSMlj0VS+kOT07eFFnS/+2oBeCWtXwhMuxqtphZa9YuHz9yS9WU3TEbYSuM5MGrAWQ3IdK5T3u68/capuX4O/MW6J0DcznJY6Luz4f7QZqY6c/ObeLE35ih47c6o2/JvPD7qZSwb328DSOTwctpZrv4JwO7NdwYHDjSI4nf47P4jT9fjbcUYZ78G7wJJr/AIXQDZDv0uRs+KtSL8ZJkqQ/5sNHKjDBAZl9+y0/CkyTv4dA1EdQN8tm/S0VPBnO4iT5Ou5tqWCvsJw77QP16Q1P2OoMesdpctgJgt3haZImZ4MdFbyAZdk82g1Uo/cBlr6zt6PZjzQ56inVGv59UV9oRbD7niup4QbcWtF8/h64b+pPEUAB1egdzRPoC/rVGmIkNUJDhAuRX4L5LOFBFxpexo58hFOw8OHtLHLZBIYHHTXpRAy1UGcaGxf3hcaafGFrAp6onhfAlK/tXVKS/dSJVZsGZS0ZILLD0pqJXvNTlcXEEiQ30PbDLsZRNIUwDs25pr1VrokVYWiM0aTRhFlX5lnmL0NatY21CEBD4x1MZ3onHxXWdUqdYlKzs8CUQGHydcbU46RiGxWBYvbaWrbAEeBBBWUNHWvOK5OE2szHrZhGsGlm48QWWF+Y7kzks34BQxwOJ2HBs+X6k6Im2ZqRdSuhyx3qDTSrkzUHrpTrzzBhOFgJlypcmfnsIKzZfTzp72zAId9vg5lefuBgQBeC2S2T2aFMtDSPfjU5FEZLnvlcxwAQmx13Pxp+ddf1PFEP4yybv2sapgSiag6/OFFQcopl2V9hoLZtheSwU7aTOetvGvqEHgNYZY6eWCswDQXhLMNqb+Cw0n0ARsqPFX2hFV23oekaI24wjoDLN/+Ypm6KAAropSdWh671liwg+cuQWHQx8q63XImlIT01cbnP3PKDtTxN6Dku/I/NWa5El5kRjl1TsuN1tLPMst5Vpr5sWgEBpDDgiZHgDUibr6lazlz46o1Vsi5Xn+TYXrTu7Kkcrj8vmw7JzJL+MUFg7ivVhLXwe7d51uvOM1+35baUdsEraEBwVHqiyhGAUWCZrxAqOWytJZ7CMAfYMYPlQpR0JjUk4YjTSjUF8iB89TqisPEuWv2dGBi89qOnaN5kjpR0atu21EW5a5yjPcCLcuwVT1Ur3HZ3K6HL8URMaUe6BLr8aCrV37tYLsRZWLd0Jeaz0+e6vVG95DTqPgzUFu4uOoKxGdyQPw0MgFInqVLmi4+H3afb2w/1gzM2I7gDAOQMHZFOFOgChAd8Bkz2yNIAaekU03Nntk/LiYqqZ1k2f7uNdAK9bB7MzBTGDgoohNN4tKtU7xNrptMxMR9qW9IXs8JvixMlg9WXYVM1wpOUgOKUhqvfIpIgbDHyuS7dV29M2gGM903uQ8w5CHbybqR4aQKv8Vi3o9rUptDndWyOK+/LSwGFjEwCuc5QRsBppmU6pzp2DYqTDOBaYlmqaIwCITTT8hMr15+XtYC81XgV3EQfG+c6sOE+ZVhSQZvgeresw+WgPFYHGnOfesxHXVQbS2MWOaxIh6iSrlPqFD81W0PyEWIttQVbFQvcQINPpTe9qZXnCAoMLq0CrhyAMKCKfvEuaoUtCFTI1aGvHrmCDji949GupwKl+jNslvTmtYQuwWjDj+lzIfNRw0X4+/Jqfrs881XEXM1+s+zzoKGC8C89y9OOBAtp5PAyOhhjixK6a5XCQ5WtwWmcpDpV2YxQg/kyOI3bfjsd75U9hMmYr2zNV7b8AuLZHn7EM0PY9gTNkQI5LGCav7OKuYaYr6qvWswH7NtUW2H4XKfskjWf7tohCapxtHnZIc8N8Mo8S7LdG6jjmI+Ws15L+4WGt70A+tgmoINbxrn8zuss6IvSCnZQm/m0Oj51kYRiXvNxINsxJl1a5DpXlalb3+oCa9o4L2ZYLQH+zylPY7YIuGsCJW5LVa7k0xcGKY1f65ESHS7FfDYe9LAyX8kirn8OWIdPERBsxgOMtwXNUdUacDkXa028JqSkJ9zUo98CohD161jw81MNk1toXNh5ktec9GfgWIF4zSjG3e2Gbc5xXHJVWXfE8YQrZL7Fk+lTl/k8J/rtL/ntssxX4gl/vl+mT/whDKPx7GuSfJ0Of2+oAB99dATDcy4vu/zr8jW1iv/chROyz3CMNXwS8N1OCgt0oUlVyXhPqUeDGRzdwSf92FWPmk3VHn0raJyMO0o138wSODnLn/M1XuKvFeYb4X7j5qbdSITUEzTD43mSJPHnUXQUZ1k6ewmPuOLF+fT1CB6rgTPCoHsI/F3VV03m03ueMC3E3JQ/5wt29e9OOCTBBI42L1vk89Hs7PaHDQ1gvM8SYvVek+49F9l8aHH36RmPrgx60pwU1NP5FFDiSRkVqdRKJyxnAtqba+7uktGl6cPD0I0Fn3u4XVVl0wt3N5zz8U5hBYAg8IssxZCiGjriDNsKaxJ0ti4rcJPLu+BB4oxllMmQBAmkA5SNp0qdUrHmgy6cW5l6Nqs67bnCzGRTgbWlJjy2uVNcpobe89xGrfVEIX+XycTlms5F3Iqqcz7eF5RN4gLAbULDvpmqDmF2kS2vna4cHBcw5d68ltDlDi1h4lrMh97PI+xsulzpksyHwxIX/uY/iGwvlMvUSU76bbMnudHY6UafkX5wMKBTuQN4GUcRWu5Cx7b67p7/HL3xzvlsoPAkkp708UlLXG4C9U16gVLFx1VA/3R6oB/mDIGcvsGv9+lnO3cPplW/pqeR0c/jIAbJ7HW7Ac92qo2ttnn0NEumB7u4ObvR3BvhYdt89AwvPBnFFX1xK3x0OVZ4B357xGYK/hwpYa5zn0vxXAIvW+TZSPb7ZskObngxQMynr9twsX4hSd4EGS96A9hM1U17y5FYh56T5IkJ8wXVxl/HLNUK8DTDCc2EFq3oxDyXof2IUmyPpG95+jATCN2xXfqwXnQF4gBvXZu3V/fkdEBPua/7odlMq9TEqIq96ydLvUdt9W6EwcjSEtln74KnKruAOMkZaxtyJEEqZn+onH+2E4IdPoVQsQCaCjpidX8ubiHeCuGk+R6rElAOOrZYt5KNeiDWcwTL1DZCcjCiDGsd9mk0txf3p1xJF5yU0HR9FqKuL+/ZTsx4GgAzCbBd7IShOfis0p9sXcabGDz2SXwuuapMvSDpGlUZ4AxPV9MmB8SBS3YzDxZXZfh7wup+uSTz1RW/+vWA+eAhzNXXVDQUBO4AApwG7oA5YsJPisBaM1+azMcvGuZBm5/UgaK2IPATIQDLlMIa+ifSX1S9KwisMfPh7sHGo+643p8MvSseFzsEgdtFgG/Tleys3q4y0psggAisMfNJBAgCgoAgIAisJQLCfGvpdjFaEBAEBIE1RkCYb42dL6YLAoKAILCWCAjzraXbxWhBQBAQBNYYAWG+NXa+mC4ICAKCwFoiIMy3lm4XowUBQUAQWGMEhPnW2PliuiAgCAgCa4mAMN9aul2MFgQEAUFgjREQ5ltj54vpgoAgIAisJQI/NfPB38wt/r3anB/h767Sn7g1f7iWvuZq/hxf/b85+4/ozCG9HQX8P557O33eTC8r4L6bMaxcKvyB5qv8lX2Ay/6N7/IufvKr3t9o/slt+ZnU/xmYr+TFIpeD+IaD7OpJrUoCR6CqzuUguahV9fsZLmp1I/dWjfnYX9Zf0t7bc9+SivEYW7JprvrlwckJ8r6uUDR6el31yw0npauqd2fbrxvz3eRfy716UquSwLNSVZ3rD9EVyjXCfNfv3pxEHmO5W0t+FeZbBjBhvmXQur66t8t8mLUjeDmlec0SZDQqa6Pc+6twT5IqQKXwBN+8ta/fNxZO6WVaUIc2MIu7KyZpQtfmw1/95Y9SF4VODfun5dkrxPB9Uf4mjH1Xln7xJrNU78dagbZ3ZhrycU4C+ZhVw61dzXy2sttKsu9L8xVDOWgmvcsOmlBl25zhgwpTBfOeP0QGBbSi2ECKQsxuMzTP98s0txMOKzZf2alEby4lAOAn9Uhl68lzXQvVOyEXW6PYS928V53pRn6ut2/PcWozOe7izps3OxRJFBvurgPBQ0x3CP+Xuq+giQ0Sauje2Ua3LJJuO1GjRJHGEXaVc9GoBw7T3xwfuCsEAobQNDK2Fx2q3zfr9NTvZLDjq0o321ErmkbmJXNktIXLhiu9ddK2Kmyl5mF3Nck11tH6rW+EJ73W3A0Ea6PTh7C1L4w1DtU5zYwFVt2+wlDfKiqDYW88xRTDNxoi8tDEZDz9xk1CmDIeVoBXAOLHOZ2umPcAO6WkhAjcPvOxd2dTjgPnGUdOQzPSwMEmKFlewNCx3sUoh9wHlSG2dFrxXasjA68V34CKEUYxBC+otNHGL+ryxcznRil2heOHBhVP3KRqFkf7kX4vJ8SotrpMfxDHEEAbeX2NhhVbDgIOAz2SdRJ0ZRqTYaRZxL1HhsnUqce4hplDitkEx7AvGsgFsoq6eBKaxAEgWBebas6JTj1uKRplQ4hOf10rQ4G5XGbjR78zFu+SRfqFmdqDIIfiIfcqbdDvApUIMWctBgblawAEuyjTxLWx1UCpCKKGX3FvAwY9ue0FQLLzKIJX9S4YZTzerGcxhIxfXMSWec02yWNY1I2hjcrn/c5GNAse1sqBZEoYCRb2UtfQMAccdlotO/QALu6IvGweBg4if6SzNqCJDWmAvVQZ1mMl85nhAAhAyqSM54KTOrIaQsGCwHSSokXg9pmPsg/P8rxMqrkX+LJA9z3KwhRpKap6QbMJgjLmg8gzKlHkMbGgDJsMUvpzF0lb+Mmt4GUW3Hr5YhnRtLZD0WvFRDMEvF4s5fMKVmEmoDQZ8cTE6xIgLNcUTLDjCkCLzHvMmRC/SAZyNfwa/BsBzq6R37lKcLvUZdRLzo/O0VYwNcesBEHiyzdql+hDXbBZFwklmbne6XbOxeQ4amU1ofo6rlzg4XVqZSrRnIxQwsu2IwKfSXTFslFWCoLjV2icUwAuOZQYOK5VmW5+R0yC089awV3jLrqKVOKw5+RTtNjmJ2Eriky0Q9lMKQxdkUT6ySUze600qmd+5mGvUIaNLBcDGmHMWhy30jK/6JJDiYNy+q3715VjPnAkfQxDMC96bmZBo5OgTcfcq6xJSe7zs6emwHw1E5GUX1C4G+euLz4GeBn09D+aiWEOSB99xWvlBHuJxq9jdOOiUGRu9JYmI5/5uJIaBz5WvWHPINV8X5iqa925VtpAzF84cdXLXWYj3UL18wKpxzzslLjz6mHk5PyY+4pd57kNTPY+Zh1A0zXSl+FZSyVq50+POKtRovTSn25Gt5yQ/BVjGqGkK7qL+ZkW0NQFo6wUBMdhIN2NBV7ZeI2B41qV6ZaDLvcVrXDRzqNRr5/YlqODhkdCXiBFi7k+3QeF6X9an9FozY0g3Jb0wsClBZo6Oy0QYR/2KmWcwp7rycUct9Iyv8iVhOu0OcwVk7JGYLWYj3uRwtSbYPIK6GZKkTAUw1Dvefq+ZU3Kcp8exvtTYBeTnV0soiQKWTfa2YyP9+VGaS7BlfXL6Nx1zSVwybyyX8cxn1GeN3Pl0mTEmI+bbLXluYZXYLudetW1H9rNQNcl19lhq+9zycUrBLiTZXvMN6RkkVePmI/CQ3u5JEOhsc6zJV17YUYqMTxrqUTtcoHBV3hxtKOPrr30Cg05klpQ7grpz0IdfKtXM/5FaM+vlI2yUhAch4EI0yO33bVi4LhWvFPSjTfXCjN/aUtdtOcq4+0cDnCNR0K+CUULIADHinjcYMoAPv9wOfp67grZ6zTkzT2Q8UaVMk6sVQ/q05DhuJWW+UUC1mni33XXpbRazMfGDASKmTSx+PYdaYOGoorVtK5lTWxOtzd1AZJOiBNA/R2OMez+kpNpu8OwLpxFua2GQp515yLUM9MKsoMh3YpR5OU+vw6NFnaoQF3wnwxYl4wc83GZ7jSCUAVBznYvdRpweE3TbbmBpBPXB68x+aBMPgNaaVCwBObUZs3ZdNsBW37Oh4btq3Bf73TBV5BvXc+0tReL53x1VCJJmvkosHF5YdcWcdTimrgmWI0WEKb/kM7InRN9SnNJEFCiBQ2e8zHwq0dZGQikg2U+BjvzGpPvgs16EO1irEwdIYx5v7MxVRJj7K5Fi6mkASmJFj2Z4Cd8VLZi+OYqXSxPCy4IqZ7+WYB9YZwwiHADBuey7KLHpva6LWC3hRSnR2iVkr7Ka/VttZgPh6vebWqF+y0aaRD07NlOOzkzUZ5PcP7qh0VGISzI1VCHRqC+BjL1h12Havgpfw7NpFfMa/lQMyaY1nRGraWF+3a5iSzIkppTkBDIjXZiPpNStcCcLTw5VpWtaWo/pHM+TBD82U79CIzNsGAjpSpeNko7k8lAd4WW12SfnuRq7WHtTmLpPnOinnYY5CgU8vkuFzkYPBXeB6b3unOut4RBnoVedXSBvW63zaFn86w/VyA7tJvgYFQbQHri/RIMbTu3F01M6a5YIRwlx3xmHkYdghNt2/JRpoNEN9DjLhc2EIR6XNgNbe41Bo5lwSrdLNrlH+38CQAAEWJJREFUYwpE0WpM97UTxbZT33EIlhcJZipjLCE5UA8QICQhLAlDi4y9Yl2AzYppgWvo1eVD0gTYojixvYfTq6358h1doGRO57X5ervMt6qwuj2fVdVQ9LoqAjZZX1XQjbVffQ1vzHQUXDE1udlORfqaIiDMpyeAfD64pqFwp83m8/oVNdQt31dUwZtVi+/c3GxPIl0QyLJ1Zz692UL7HhIRdwoBu5MG213+Hvhq2am371ZZw5vBi23KsZP1m+lLpAoCHIF1Zz6OhZQFAUFAEBAE1gEBYb518LLYKAgIAoKAIOAQEOZzWEhJEBAEBAFBYB0QEOZbBy+LjYKAICAICAIOAWE+h4WUBAFBQBAQBNYBAWG+dfCy2CgICAKCgCDgEBDmc1hISRAQBAQBQWAdEBDmWwcvi42CgCAgCAgCDgFhPoeFlAQBQUAQEATWAQFhvnXwstgoCAgCgoAg4BAQ5nNYSEkQEAQEAUFgHRAQ5lsHL4uNgoAgIAgIAg4BYT6HhZQEAUFAEBAE1gEBYb518LLYKAgIAoKAIOAQEOZzWEhJEBAEBIF/BIE0Nd3awnWqYYXawnVKL5NlO7KFslol12x9WyipdA2XhPmuAUQRIQjURCD5PB296/cPhqPTuGYTqbYGCEyjSMeDLeSNXiJyvo46r2e8fRxFU/xuC/zuTZStGbZQ3ss/p+pdYL70y3jwejIvh3Z1r8J7U3dMvP9zWk5DpVq3q8X8sNu8p5QK9Wi8DdvT+fj1YPL1xrsy78Itfcfs11H38W7/6Cz5kWVpPHnZvP90VAxaeFnrPx8VANR0/7YDI++e86h100ECXbSi83zPdb5fKz5EEPEoLA7GepFDOifjvUDtjRP6nmWZJbzZy1sadM6el0V7rGb/pKqXZz73wuslBuqN5NnkqBPc63qutthWF+Z/dprPRiUT7y+jzuP2aJnBkHwadB7fD+DN3xuNp+HoM+1c5HtPpq/ajQOT8FeV+cBH+c8SLs7bnP8ej3aVar07S5IqlPItLvfd828y7gQb3SOeDS4ntdgqjnYodVZn6vQk3H7Ym3zjzefDR6r5rsh9vM4tl+NoR4UnptNrzeyXMqQazyXFeXYt2darzjHhZa/SZb4QU5xHOeZbNnLSj72NID+ltsw33b9t5ov2K5nvn1X10sxHrsogqmovGm6E+S4TaTilLZ9cn+AqqDbzzaPdQAXb/xqOjyeT41F/Z0OpRvhXaVoHrBQtCFaV+bI0wc9RT6nW8G/9pdScSwEP6cyl10uJqNXotuD1ma90inA+2g02e5/yGIKGT8rmXrXsu4lKHkNca2a/lLbCfEtHzmzwYjyLWioI+XbnSjLfP6zqpZnPhXIctS7BfLCro3qR3vgKtruH8yyb9TfV5gG57MtwW232T7P0dGhWVMH93dczyB+YPbuvBq17QCQoSs9l0tm7TvMBrL6CB7uDU6hb1hHs5NiPpzzQHn10Fvs6Dn/D9dy9Rvtgml81pJNeoBr7U5bV5kBvj4Zz03W3/6a1AbkeaY9khyeow85g/K4N0u81+ycko7zHdPZ6V9cM3/UZeSRgMmweBvcfdyO93ER8eu/H3UcbClh5rFcWJUhm1XMRPgPwAc/OJ+HTxgbYstF8boQj0wxGRsmWBj/L5pN9VFttNF6Mk3rwoqhw8K/tAHaiUMM3owF4Ibj/bDRPZlhWGzuD2XeIw6Jdef+i/mY1k8yGe01QPrjffB6doQQdUQXEMJwMtsOzLMtOwsJsiZiPmWaXTThI0snzoNAK7oCS9/oU7mZAQbjyuREGjBeiWNEZSFyLRDWF2INP6dSereapC+wuwlb/7//ppsqsGHyBtK41Ua2ruosZBpLp+iS0JuDoy1WehqoVncD4hw9pol2grxkAwWt5Q1CryIxSaEtGVcqhCp5dKGEniqkLwNNIqJrK8/ELWi3Gh1Tya+Yt0v4053zemm+5yMmybP62F53rjOf1soLM94+renXmo5FvRu7FPzCL4fIXh0Sw+3YWJ/Px802lupM0m73aVJsmF8zfbqtfkD+OR+PPcfo9PXvXUsiFepAET6L5D+gORWlPx5M/x2dxmn4/G+5A3Zm5m+8o+56MXyj16/As8XfdfqSJW+uk2bdxJ1CNF+N5ksSnw91ANV75mUrTg3+AlH7sKrU7irViwe57s6OVJmfDX5V6MYY+f2j2DXbfnyXxbEDaVvWYHIIivaN5kszHLxqQ23BXavaqoYLd4Wlsrged8TczMwieDAHcwy6A+xEnAUUkl2E+C3j293h4Mk++p8nH3qZSnUOYD2AuRg21Odp3MP3sjL6CR0avx/GPNPl7CFOeI8S9Al4tKvykpxmYubZ646/GluBee3gax6eDljK7hXHRrpx/HfPN+ltKI5N8Hfe2VKBPRLBCHrGTMFDN/kmSfk+mr4bg+AuYT0/IiIfcMPg2apefpCbjvfyulAlmzJjISVUnodOwkKYRNENFLI9bRbyEjrkYdvpx7FgCgzqWtssFQsBTViXaADGuIfpLq1deGSsYoKCse4yj0Jy32VZOvrVCh5lWAOUYZS6U46nHJeiRYqUhDiUu9nq3s5BKfCgGLMjlNZ1UGD0lzLdk5GTfxj39YAsACPnHfqqYLz2fTWCnyv2bndP82zY+nwwO+v2Kf4Nj1o1t4uyJy3c7b0hVpsDC4uWZD8eMgkFde2NQT9B06GDznhnZ4KpW9DXLYJ23PfwC05eSUxCbv7CgszmNXhqNZDHKh4vlHdXb7Yz/3NWUrKVyYtZXbC/ULf7U5pjJFzA6fXDayGaCmtrJBECjosd49ESp5yTpq90wnIWB2n5LZ0XJuKN5CPHpfdLdQlJoEfsaTSySyzCfBZzMgRFrH5CB4f1rpFWxmM/fNZGY2VLZdV1lLOYmJE7siOsP5cAAOI9+tfN00ogJB30oB+mpEmTYvwAwDDBokhwCYHBCXIZYegzr+d5R7BxI/bCfbOZ3HrVsj7YGBIPr0V7O0klXqc3cREqHq6WNojTX3pTsjovNs3CjmL5zV0hV8BQFpE9g4AWb5UkgZzjoZ7qPvJUTbtZ8FZUhZlzS8HoxNk1DzWfglPy45vWrykYMdKSbe5rwVuh36gLUjtypLUnhP3lbXi7Hh9a+ZTW51ArmWy5y0sl+aLaeKP/YPqqYL8tgsWG9nJ4OupWnclZYrQIxeSnzrYSql2c+AsDL5nSx6qdLlB5ngKv01G8+/AVT+ZdhUzVNhoonw+ft7V+29TMkkL9YgiPaMOEbHw+7T7e3H5q6xHwsuGmO6WVGri+LG57Ncx2ZFp/gMAw4m31wzQf51LMRKnhYcQWwJqSDih6B4Rx7WfO9fM14yFaATgFzk92KSDLqYhZgkeGQAzxLzkYHndYv2w3YCTT5sdScLJuPn8PWot185qIqjEUQXNJ3McOJ1gOzxC5fCAGCONN8SzOEzsJUAS23iLkdZtyNzyOE3xcx3zFGSGF2CIv4YLf4IBVoSFSE2jL+Zv2bW7g5qDOXl16J2FwLysJ0xbAC7+4i5jMCmbHGeDzpyAk3Xysq+8xnmdsEqt7uvBLzofu4nMKaz+Z6j/mwmrtFSPGfHGReBjkQsTjATdf4A8O4rCaXWsF8y0RO+le/+XC79aTdftZu72wHlOV0N9XMN49+pWnZD8irET3flNNv2a8XMN+KqHp15kMecnnqYohcFsOhW0JIsErYiab22W48SGu9mcVJ6pKml6ccweAkvTU4hbpWvi2AZo5i/czItWYZv2QF5tYi2AYeGlQNezYJ1/Cc7+kogUQC53Fsx2ox81X0iOubP0gSrIz1RKFkzQcrMw8fyuOlSF6G+WA5vvl8PIeHM51DK5gPUUpj2NDWp+5Mtwpjc65xXfDuHPOV2+ULsZ2WrPlwUW4rgL6EGOqe/Uhmb1q57SN9B/9n+b3IN1mWnfY37dzo23yuH+9MZ+FWsGtWyEyYjhliPn0Doqj6imWOBek1tywjVX3hEJ98t9PRAMvstgIgVbbmI5meNFe5nPn4QpDWauAUPnwAD25mWblMTk3mA8IO+XrUcwx+KesRbzh83HLWNuetiCPtTV0gpuDnfEtEznz4gi3WMJhpywfkVzIfpC98FiYeRXAgkqZ4fuQpF1/vbudNqurpveDLZZnvJLKbnJDycGR6Di7v12UxjxUYIWW42ms+Uu0PuEXmHoKPZ293zVzGy1OOYDCTtoafkySeDZ9A3QvWfLB1GXTHwJL+BwIu6B7ijfxBVLD7Z35fWz/b2XwRuWc7g129CvRshE7waOfRYIZ9llNFRY9nrxsKzpxiMs1kqPw531YIjwB5+FAeL0WSUZePgp4l0DD2BALdbv4xgaPFo17jwjXf7E1v/DVN02R6sF1kvsKhpoGXI+OznYsfx3zlduGZsfWv0z9/ztd46Z6ZopxuEIs/9IenSZqm86htmC/HHwDZIubDfftWFKd/DfpH8/nhYPRlPv59u/kK+82DjsHs8xztpLmqbKABu9Ra8/mOthKIpbRwj6tsHbjHmdKyEaCqmQkQy6GX3yPxKlNcIdOD/u6uDjwUyy+S9VyrkjJvAllFq3ehXc4E0MoHhHqlnyU96lscn8IygLeySJJI/bOM+WpHzvx9p3/K5fFhAtcrme9TTz3q9A/6vScdm8+5oEuXyZ78bue1q+phu4y6l2U+iDD60ECtoYRziccKnPnQ30q1R+aXn+yOU2vwAR5qgAGGvdNIc8yXfXdP/Y1gnn4R82VfR218CrRAZvPRM9wsxSfO089RV/+u3r1mNzrL0yRiHR/T7/MF97ef9idEjp6NWDM96evnMMO/vEUJ1jTpoKJHu23YHh4RDiAzmR60cdcxuP9bf6pB8/AxeTzLypD0E6IXOWztmwPc/Co6PJEb4V4eGMzpypozf691UxuPOkN81DYnqtRYLmox85XblXn+5YB8m/b1g6nB/V37sC6vgJio/WlyHNrnhMOPeIJ5GebLsm+T3sPtxlY7+jqfve9uP+pGf7ODTw90l3kRQz3EdPrm9dCncLMV7psnq73RR4mYtzFrWRRpF3PQC41fqIwjUZ+PVgksVwwBRNnhlG1+llXmyzKwVyvjasLC67LMh1SqUcMFHEF3gV3Ql5tA4FQGJxPMCgejMRPEVuED0UsfnaOqajqxpU+4ZIsjh55qDu7/NtS5Ca7swHPXwYNm5415Fr2K+ewhX/xpSg8LMKWuUCwy3w2p6mG7jMKXZb5l+pC614wArErh9z3k8xMhkMZn05Oz+O9hW++NJ5PRcSX//UR2FVW1ZFa89RNdiaOWnVvfvNrEFHy3k3q9euRUMN98+Asd8lFf1/WT7Mmv+RbKvzVVhfkW+mIlKsQfwv7RWZwk8edx+DjQvy+4EpqJEkshAIuGjcYv2/cf4r70Um1/ispgoNvM/ClULlMyjnZovVh2+7qvEVOUMZ/p6wqRU0In36bDg05TNTsH/TE8S3/NH7LnOpjvZlQV5rtml9+QuOSk397C3x0P7jf3hrO7uVq4IfBWSmw8etZoPO6O/eeBV0rF5ZWxu6+wzXeLS6XlNV3RFsQUdtuzRM/LR45lvvl786erS8Rf6yVnz3v26E2NLm5NVWG+Gt6QKoKAICAI3CACZ+Mj/XTAbHwDf102ORrrP8ARH43hTxHd/OfsaGzsOVruDyrfmqrCfDcfBdKDICAICAKCwCohIMy3St4QXQQBQUAQEARuHgFhvpvHWHoQBAQBQUAQWCUEhPlWyRuiiyAgCAgCgsDNIyDMd/MYSw+CgCAgCAgCq4SAMN8qeUN0EQQEAUFAELh5BIT5bh5j6UEQEAQEAUFglRAQ5lslb4gugoAgIAgIAjePgDDfzWMsPQgCgoAgIAisEgLCfKvkDdFFEBAEBAFB4OYREOa7eYylB0FAEBAEBIFVQkCYb5W8IboIAoKAICAI3DwCwnw3j7H0IAgIAoKAILBKCPz/Er9whAiwgscAAAAASUVORK5CYII=)"
      ]
    },
    {
      "cell_type": "code",
      "metadata": {
        "id": "pNQHvAqN6SMk",
        "colab": {
          "base_uri": "https://localhost:8080/"
        },
        "outputId": "9aac8345-072d-4bdf-d2b6-eae465a48b1c"
      },
      "source": [
        "X = np.array([[1, 2], [3, 4]])\n",
        "X"
      ],
      "execution_count": 119,
      "outputs": [
        {
          "output_type": "execute_result",
          "data": {
            "text/plain": [
              "array([[1, 2],\n",
              "       [3, 4]])"
            ]
          },
          "metadata": {},
          "execution_count": 119
        }
      ]
    },
    {
      "cell_type": "code",
      "metadata": {
        "id": "T-q-Tzn26SMm",
        "colab": {
          "base_uri": "https://localhost:8080/"
        },
        "outputId": "d1b856c8-b8f4-4e0a-fdac-d231c8d71518"
      },
      "source": [
        "(1**2 + 2**2 + 3**2 + 4**2)**(1/2)"
      ],
      "execution_count": 120,
      "outputs": [
        {
          "output_type": "execute_result",
          "data": {
            "text/plain": [
              "5.477225575051661"
            ]
          },
          "metadata": {},
          "execution_count": 120
        }
      ]
    },
    {
      "cell_type": "code",
      "metadata": {
        "id": "YVG8qiFw6SMn",
        "colab": {
          "base_uri": "https://localhost:8080/"
        },
        "outputId": "cc4b5b5d-9585-4817-a033-9afe45b9b455"
      },
      "source": [
        "np.linalg.norm(X) # same function as for vector L2 norm"
      ],
      "execution_count": 121,
      "outputs": [
        {
          "output_type": "execute_result",
          "data": {
            "text/plain": [
              "5.477225575051661"
            ]
          },
          "metadata": {},
          "execution_count": 121
        }
      ]
    },
    {
      "cell_type": "code",
      "metadata": {
        "id": "FPnBflKVxyik"
      },
      "source": [
        "X_pt = torch.tensor([[1, 2], [3, 4.]]) # torch.norm() supports floats only"
      ],
      "execution_count": 122,
      "outputs": []
    },
    {
      "cell_type": "code",
      "metadata": {
        "id": "NCdTShVyx8z0",
        "colab": {
          "base_uri": "https://localhost:8080/"
        },
        "outputId": "dc77a577-8e6f-49b6-d34c-fa9db57d5d65"
      },
      "source": [
        "torch.norm(X_pt)"
      ],
      "execution_count": 123,
      "outputs": [
        {
          "output_type": "execute_result",
          "data": {
            "text/plain": [
              "tensor(5.4772)"
            ]
          },
          "metadata": {},
          "execution_count": 123
        }
      ]
    },
    {
      "cell_type": "code",
      "metadata": {
        "id": "blezf9fLx_nD"
      },
      "source": [
        "X_tf = tf.Variable([[1, 2], [3, 4.]]) # tf.norm() also supports floats only"
      ],
      "execution_count": 124,
      "outputs": []
    },
    {
      "cell_type": "code",
      "metadata": {
        "id": "LiCQzyf6ySCZ",
        "colab": {
          "base_uri": "https://localhost:8080/"
        },
        "outputId": "30c8c3ba-1790-4fb0-8413-7c1190d74e36"
      },
      "source": [
        "tf.norm(X_tf)"
      ],
      "execution_count": 125,
      "outputs": [
        {
          "output_type": "execute_result",
          "data": {
            "text/plain": [
              "<tf.Tensor: shape=(), dtype=float32, numpy=5.477226>"
            ]
          },
          "metadata": {},
          "execution_count": 125
        }
      ]
    },
    {
      "cell_type": "markdown",
      "metadata": {
        "id": "4c6rjVAf6SMo"
      },
      "source": [
        "**Return to slides here.**"
      ]
    },
    {
      "cell_type": "markdown",
      "metadata": {
        "id": "OLN-MMIe6SMo"
      },
      "source": [
        "### Matrix Multiplication (with a Vector)"
      ]
    },
    {
      "cell_type": "code",
      "metadata": {
        "id": "XJw0j8cr6SMo",
        "colab": {
          "base_uri": "https://localhost:8080/"
        },
        "outputId": "46a6e7f8-9295-46ac-ae69-6d88703bec96"
      },
      "source": [
        "A = np.array([[3, 4], [5, 6], [7, 8]])\n",
        "A"
      ],
      "execution_count": 126,
      "outputs": [
        {
          "output_type": "execute_result",
          "data": {
            "text/plain": [
              "array([[3, 4],\n",
              "       [5, 6],\n",
              "       [7, 8]])"
            ]
          },
          "metadata": {},
          "execution_count": 126
        }
      ]
    },
    {
      "cell_type": "code",
      "metadata": {
        "id": "zZQ1Aupc6SMq",
        "colab": {
          "base_uri": "https://localhost:8080/"
        },
        "outputId": "a6ddd438-0783-479a-de18-674bb2e487bd"
      },
      "source": [
        "b = np.array([1, 2])\n",
        "b"
      ],
      "execution_count": 127,
      "outputs": [
        {
          "output_type": "execute_result",
          "data": {
            "text/plain": [
              "array([1, 2])"
            ]
          },
          "metadata": {},
          "execution_count": 127
        }
      ]
    },
    {
      "cell_type": "code",
      "metadata": {
        "id": "ZbeVtNyW6SMq",
        "colab": {
          "base_uri": "https://localhost:8080/"
        },
        "outputId": "1b674da7-fb56-4d0c-a8d8-012f7450382d"
      },
      "source": [
        "np.dot(A, b) # even though technically dot products are between vectors only"
      ],
      "execution_count": 128,
      "outputs": [
        {
          "output_type": "execute_result",
          "data": {
            "text/plain": [
              "array([11, 17, 23])"
            ]
          },
          "metadata": {},
          "execution_count": 128
        }
      ]
    },
    {
      "cell_type": "code",
      "metadata": {
        "id": "srVI55X96SMu",
        "colab": {
          "base_uri": "https://localhost:8080/"
        },
        "outputId": "0c8ab290-f778-469e-e7d7-b3eab7b14516"
      },
      "source": [
        "A_pt = torch.tensor([[3, 4], [5, 6], [7, 8]])\n",
        "A_pt"
      ],
      "execution_count": 129,
      "outputs": [
        {
          "output_type": "execute_result",
          "data": {
            "text/plain": [
              "tensor([[3, 4],\n",
              "        [5, 6],\n",
              "        [7, 8]])"
            ]
          },
          "metadata": {},
          "execution_count": 129
        }
      ]
    },
    {
      "cell_type": "code",
      "metadata": {
        "id": "5SDn71Xc6SMv",
        "colab": {
          "base_uri": "https://localhost:8080/"
        },
        "outputId": "fdd20e21-d24d-4051-e753-2f45d0eccb05"
      },
      "source": [
        "b_pt = torch.tensor([1, 2])\n",
        "b_pt"
      ],
      "execution_count": 130,
      "outputs": [
        {
          "output_type": "execute_result",
          "data": {
            "text/plain": [
              "tensor([1, 2])"
            ]
          },
          "metadata": {},
          "execution_count": 130
        }
      ]
    },
    {
      "cell_type": "code",
      "metadata": {
        "id": "OIeoJlsh6SMx",
        "colab": {
          "base_uri": "https://localhost:8080/"
        },
        "outputId": "afef9e72-5365-4b36-ca80-3d0bcf414400"
      },
      "source": [
        "torch.matmul(A_pt, b_pt) # like np.dot(), automatically infers dims in order to perform dot product, matvec, or matrix multiplication"
      ],
      "execution_count": 131,
      "outputs": [
        {
          "output_type": "execute_result",
          "data": {
            "text/plain": [
              "tensor([11, 17, 23])"
            ]
          },
          "metadata": {},
          "execution_count": 131
        }
      ]
    },
    {
      "cell_type": "code",
      "metadata": {
        "id": "pnob9GkB6SMs",
        "colab": {
          "base_uri": "https://localhost:8080/"
        },
        "outputId": "6c27ddfd-cf69-43fa-e16b-3b266eab02f4"
      },
      "source": [
        "A_tf = tf.Variable([[3, 4], [5, 6], [7, 8]])\n",
        "A_tf"
      ],
      "execution_count": 132,
      "outputs": [
        {
          "output_type": "execute_result",
          "data": {
            "text/plain": [
              "<tf.Variable 'Variable:0' shape=(3, 2) dtype=int32, numpy=\n",
              "array([[3, 4],\n",
              "       [5, 6],\n",
              "       [7, 8]], dtype=int32)>"
            ]
          },
          "metadata": {},
          "execution_count": 132
        }
      ]
    },
    {
      "cell_type": "code",
      "metadata": {
        "id": "vYtWxf8K6SMt",
        "colab": {
          "base_uri": "https://localhost:8080/"
        },
        "outputId": "8c29142a-7389-4f67-c5f2-76d5142ce757"
      },
      "source": [
        "b_tf = tf.Variable([1, 2])\n",
        "b_tf"
      ],
      "execution_count": 133,
      "outputs": [
        {
          "output_type": "execute_result",
          "data": {
            "text/plain": [
              "<tf.Variable 'Variable:0' shape=(2,) dtype=int32, numpy=array([1, 2], dtype=int32)>"
            ]
          },
          "metadata": {},
          "execution_count": 133
        }
      ]
    },
    {
      "cell_type": "code",
      "metadata": {
        "id": "NGBImWRH6SMt",
        "colab": {
          "base_uri": "https://localhost:8080/"
        },
        "outputId": "734869db-555c-490c-c139-48c72345c88b"
      },
      "source": [
        "tf.linalg.matvec(A_tf, b_tf)"
      ],
      "execution_count": 134,
      "outputs": [
        {
          "output_type": "execute_result",
          "data": {
            "text/plain": [
              "<tf.Tensor: shape=(3,), dtype=int32, numpy=array([11, 17, 23], dtype=int32)>"
            ]
          },
          "metadata": {},
          "execution_count": 134
        }
      ]
    },
    {
      "cell_type": "markdown",
      "metadata": {
        "id": "kzjZmdRR6SMy"
      },
      "source": [
        "**Return to slides here.**"
      ]
    },
    {
      "cell_type": "markdown",
      "metadata": {
        "id": "21ySqay36SM5"
      },
      "source": [
        "### Matrix Multiplication (with Two Matrices)"
      ]
    },
    {
      "cell_type": "code",
      "metadata": {
        "id": "0YRG1Ig2cgvo",
        "colab": {
          "base_uri": "https://localhost:8080/"
        },
        "outputId": "383af0c3-9950-4bbd-9d2f-766dbe7b50b5"
      },
      "source": [
        "A"
      ],
      "execution_count": 135,
      "outputs": [
        {
          "output_type": "execute_result",
          "data": {
            "text/plain": [
              "array([[3, 4],\n",
              "       [5, 6],\n",
              "       [7, 8]])"
            ]
          },
          "metadata": {},
          "execution_count": 135
        }
      ]
    },
    {
      "cell_type": "code",
      "metadata": {
        "id": "DyOEZk_c6SM5",
        "colab": {
          "base_uri": "https://localhost:8080/"
        },
        "outputId": "0c7c174c-3589-4e8b-92e6-758c0d0a3ac0"
      },
      "source": [
        "B = np.array([[1, 9], [2, 0]])\n",
        "B"
      ],
      "execution_count": 136,
      "outputs": [
        {
          "output_type": "execute_result",
          "data": {
            "text/plain": [
              "array([[1, 9],\n",
              "       [2, 0]])"
            ]
          },
          "metadata": {},
          "execution_count": 136
        }
      ]
    },
    {
      "cell_type": "code",
      "metadata": {
        "id": "SfKuNxH-6SM6",
        "colab": {
          "base_uri": "https://localhost:8080/"
        },
        "outputId": "cd8caa9b-eaf7-44ce-f004-d2dd444a2c4e"
      },
      "source": [
        "np.dot(A, B)"
      ],
      "execution_count": 137,
      "outputs": [
        {
          "output_type": "execute_result",
          "data": {
            "text/plain": [
              "array([[11, 27],\n",
              "       [17, 45],\n",
              "       [23, 63]])"
            ]
          },
          "metadata": {},
          "execution_count": 137
        }
      ]
    },
    {
      "cell_type": "markdown",
      "metadata": {
        "id": "WcnQMF0s6SNB"
      },
      "source": [
        "Note that matrix multiplication is not \"commutative\" (i.e., $AB \\neq BA$) so uncommenting the following line will throw a size mismatch error:"
      ]
    },
    {
      "cell_type": "code",
      "metadata": {
        "id": "_mwBGOXO6SNB"
      },
      "source": [
        "# np.dot(B, A)"
      ],
      "execution_count": 138,
      "outputs": []
    },
    {
      "cell_type": "code",
      "metadata": {
        "id": "JrrvPoNE6SM9",
        "colab": {
          "base_uri": "https://localhost:8080/"
        },
        "outputId": "24fc5803-4a0a-4c7f-93a6-fb26ed4aaf24"
      },
      "source": [
        "B_pt = torch.from_numpy(B) # much cleaner than TF conversion\n",
        "B_pt"
      ],
      "execution_count": 139,
      "outputs": [
        {
          "output_type": "execute_result",
          "data": {
            "text/plain": [
              "tensor([[1, 9],\n",
              "        [2, 0]])"
            ]
          },
          "metadata": {},
          "execution_count": 139
        }
      ]
    },
    {
      "cell_type": "code",
      "metadata": {
        "id": "Z6PfwCvX6SM-",
        "colab": {
          "base_uri": "https://localhost:8080/"
        },
        "outputId": "9ea46589-ac05-4514-ff98-25ea4585d7fe"
      },
      "source": [
        "# another neat way to create the same tensor with transposition:\n",
        "B_pt = torch.tensor([[1, 2], [9, 0]]).T\n",
        "B_pt"
      ],
      "execution_count": 140,
      "outputs": [
        {
          "output_type": "execute_result",
          "data": {
            "text/plain": [
              "tensor([[1, 9],\n",
              "        [2, 0]])"
            ]
          },
          "metadata": {},
          "execution_count": 140
        }
      ]
    },
    {
      "cell_type": "code",
      "metadata": {
        "id": "16ZNRaVe6SM_",
        "colab": {
          "base_uri": "https://localhost:8080/"
        },
        "outputId": "d52d3b1b-6e36-4543-9b81-386eec5ea833"
      },
      "source": [
        "torch.matmul(A_pt, B_pt) # no need to change functions, unlike in TF"
      ],
      "execution_count": 141,
      "outputs": [
        {
          "output_type": "execute_result",
          "data": {
            "text/plain": [
              "tensor([[11, 27],\n",
              "        [17, 45],\n",
              "        [23, 63]])"
            ]
          },
          "metadata": {},
          "execution_count": 141
        }
      ]
    },
    {
      "cell_type": "code",
      "metadata": {
        "id": "rkymNjE46SM8",
        "colab": {
          "base_uri": "https://localhost:8080/"
        },
        "outputId": "862c8666-ce61-4997-b5b5-57b79eb861cf"
      },
      "source": [
        "B_tf = tf.convert_to_tensor(B, dtype=tf.int32)\n",
        "B_tf"
      ],
      "execution_count": 142,
      "outputs": [
        {
          "output_type": "execute_result",
          "data": {
            "text/plain": [
              "<tf.Tensor: shape=(2, 2), dtype=int32, numpy=\n",
              "array([[1, 9],\n",
              "       [2, 0]], dtype=int32)>"
            ]
          },
          "metadata": {},
          "execution_count": 142
        }
      ]
    },
    {
      "cell_type": "code",
      "metadata": {
        "id": "rslTzFRk6SM8",
        "colab": {
          "base_uri": "https://localhost:8080/"
        },
        "outputId": "bac54c40-06d1-4389-d607-9be047a6263d"
      },
      "source": [
        "tf.matmul(A_tf, B_tf)"
      ],
      "execution_count": 143,
      "outputs": [
        {
          "output_type": "execute_result",
          "data": {
            "text/plain": [
              "<tf.Tensor: shape=(3, 2), dtype=int32, numpy=\n",
              "array([[11, 27],\n",
              "       [17, 45],\n",
              "       [23, 63]], dtype=int32)>"
            ]
          },
          "metadata": {},
          "execution_count": 143
        }
      ]
    },
    {
      "cell_type": "markdown",
      "metadata": {
        "id": "0eBiTmPp6SNC"
      },
      "source": [
        "**Return to slides here.**"
      ]
    },
    {
      "cell_type": "markdown",
      "metadata": {
        "id": "L2H9F-DQ6SMz"
      },
      "source": [
        "### Symmetric Matrices\n",
        "------------------\n",
        "-----------------\n",
        "![image.png](data:image/png;base64,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)"
      ]
    },
    {
      "cell_type": "code",
      "metadata": {
        "id": "5YsPoWo76SMz",
        "colab": {
          "base_uri": "https://localhost:8080/"
        },
        "outputId": "b090135e-f4c3-4520-ffbc-37e74c0ca834"
      },
      "source": [
        "X_sym = np.array([[0, 1, 2], [1, 7, 8], [2, 8, 9]])\n",
        "X_sym"
      ],
      "execution_count": 144,
      "outputs": [
        {
          "output_type": "execute_result",
          "data": {
            "text/plain": [
              "array([[0, 1, 2],\n",
              "       [1, 7, 8],\n",
              "       [2, 8, 9]])"
            ]
          },
          "metadata": {},
          "execution_count": 144
        }
      ]
    },
    {
      "cell_type": "code",
      "metadata": {
        "id": "Skg1wSQVcgv2",
        "colab": {
          "base_uri": "https://localhost:8080/"
        },
        "outputId": "5b31fd83-4f8b-4e10-83d6-34974e8a1362"
      },
      "source": [
        "X_sym.T"
      ],
      "execution_count": 145,
      "outputs": [
        {
          "output_type": "execute_result",
          "data": {
            "text/plain": [
              "array([[0, 1, 2],\n",
              "       [1, 7, 8],\n",
              "       [2, 8, 9]])"
            ]
          },
          "metadata": {},
          "execution_count": 145
        }
      ]
    },
    {
      "cell_type": "code",
      "metadata": {
        "id": "Jv40-i9H6SM1",
        "colab": {
          "base_uri": "https://localhost:8080/"
        },
        "outputId": "5a39c2f3-8744-4136-cc59-63be7986b49a"
      },
      "source": [
        "X_sym.T == X_sym"
      ],
      "execution_count": 146,
      "outputs": [
        {
          "output_type": "execute_result",
          "data": {
            "text/plain": [
              "array([[ True,  True,  True],\n",
              "       [ True,  True,  True],\n",
              "       [ True,  True,  True]])"
            ]
          },
          "metadata": {},
          "execution_count": 146
        }
      ]
    },
    {
      "cell_type": "markdown",
      "metadata": {
        "id": "QZFoUFkq6SM2"
      },
      "source": [
        "**Return to slides here.**"
      ]
    },
    {
      "cell_type": "markdown",
      "metadata": {
        "id": "Mq_c3ftZ6SM2"
      },
      "source": [
        "### Identity Matrices\n",
        "-----------------\n",
        "--------------------\n",
        "![image.png](data:image/png;base64,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)"
      ]
    },
    {
      "cell_type": "code",
      "metadata": {
        "id": "KVSNbH-Z6SM2",
        "colab": {
          "base_uri": "https://localhost:8080/"
        },
        "outputId": "e4b434a0-3695-4bf3-de4d-77808f4f73a2"
      },
      "source": [
        "I = torch.tensor([[1, 0, 0], [0, 1, 0], [0, 0, 1]])\n",
        "I"
      ],
      "execution_count": 147,
      "outputs": [
        {
          "output_type": "execute_result",
          "data": {
            "text/plain": [
              "tensor([[1, 0, 0],\n",
              "        [0, 1, 0],\n",
              "        [0, 0, 1]])"
            ]
          },
          "metadata": {},
          "execution_count": 147
        }
      ]
    },
    {
      "cell_type": "code",
      "metadata": {
        "id": "wcoPDhvR6SM3",
        "colab": {
          "base_uri": "https://localhost:8080/"
        },
        "outputId": "604bd457-496e-4936-b3bf-d7ba406c816b"
      },
      "source": [
        "x_pt = torch.tensor([25, 2, 5])\n",
        "x_pt"
      ],
      "execution_count": 148,
      "outputs": [
        {
          "output_type": "execute_result",
          "data": {
            "text/plain": [
              "tensor([25,  2,  5])"
            ]
          },
          "metadata": {},
          "execution_count": 148
        }
      ]
    },
    {
      "cell_type": "code",
      "metadata": {
        "id": "tuA4RsMv6SM4",
        "colab": {
          "base_uri": "https://localhost:8080/"
        },
        "outputId": "cde14560-063b-49f5-a07a-adfedef5c688"
      },
      "source": [
        "torch.matmul(I, x_pt)"
      ],
      "execution_count": 149,
      "outputs": [
        {
          "output_type": "execute_result",
          "data": {
            "text/plain": [
              "tensor([25,  2,  5])"
            ]
          },
          "metadata": {},
          "execution_count": 149
        }
      ]
    },
    {
      "cell_type": "markdown",
      "metadata": {
        "id": "bgDiOYLk6SM5"
      },
      "source": [
        "**Return to slides here.**"
      ]
    },
    {
      "cell_type": "markdown",
      "metadata": {
        "id": "3S_6Yfdkcgv7"
      },
      "source": [
        "### Answers to Matrix Multiplication Qs"
      ]
    },
    {
      "cell_type": "code",
      "metadata": {
        "id": "pINsKNxH6SNC",
        "colab": {
          "base_uri": "https://localhost:8080/"
        },
        "outputId": "5b40bc5f-c865-4bd4-a309-a3c1421ace1a"
      },
      "source": [
        "M_q = torch.tensor([[0, 1, 2], [3, 4, 5], [6, 7, 8]])\n",
        "M_q"
      ],
      "execution_count": 150,
      "outputs": [
        {
          "output_type": "execute_result",
          "data": {
            "text/plain": [
              "tensor([[0, 1, 2],\n",
              "        [3, 4, 5],\n",
              "        [6, 7, 8]])"
            ]
          },
          "metadata": {},
          "execution_count": 150
        }
      ]
    },
    {
      "cell_type": "code",
      "metadata": {
        "id": "gfjWd8OO6SNE",
        "colab": {
          "base_uri": "https://localhost:8080/"
        },
        "outputId": "f7f46940-df14-4ad9-a602-22541e3bcf19"
      },
      "source": [
        "V_q = torch.tensor([[-1, 1, -2], [0, 1, 2]]).T\n",
        "V_q"
      ],
      "execution_count": 151,
      "outputs": [
        {
          "output_type": "execute_result",
          "data": {
            "text/plain": [
              "tensor([[-1,  0],\n",
              "        [ 1,  1],\n",
              "        [-2,  2]])"
            ]
          },
          "metadata": {},
          "execution_count": 151
        }
      ]
    },
    {
      "cell_type": "code",
      "metadata": {
        "id": "boSkaV2M6SNF",
        "colab": {
          "base_uri": "https://localhost:8080/"
        },
        "outputId": "3115869e-c206-4144-9cfd-763a9dc12d88"
      },
      "source": [
        "torch.matmul(M_q, V_q)"
      ],
      "execution_count": 152,
      "outputs": [
        {
          "output_type": "execute_result",
          "data": {
            "text/plain": [
              "tensor([[ -3,   5],\n",
              "        [ -9,  14],\n",
              "        [-15,  23]])"
            ]
          },
          "metadata": {},
          "execution_count": 152
        }
      ]
    },
    {
      "cell_type": "markdown",
      "metadata": {
        "id": "slSNKUcN6SNG"
      },
      "source": [
        "### Matrix Inversion"
      ]
    },
    {
      "cell_type": "code",
      "metadata": {
        "id": "EW0i5ZRk6SNG",
        "colab": {
          "base_uri": "https://localhost:8080/"
        },
        "outputId": "17953752-030d-4517-b73c-8e2f8442033f"
      },
      "source": [
        "X = np.array([[4, 2], [-5, -3]])\n",
        "X"
      ],
      "execution_count": 153,
      "outputs": [
        {
          "output_type": "execute_result",
          "data": {
            "text/plain": [
              "array([[ 4,  2],\n",
              "       [-5, -3]])"
            ]
          },
          "metadata": {},
          "execution_count": 153
        }
      ]
    },
    {
      "cell_type": "code",
      "metadata": {
        "id": "hTYpxaWR6SNI",
        "colab": {
          "base_uri": "https://localhost:8080/"
        },
        "outputId": "608c003a-7ac0-4115-8206-7e3518af2b95"
      },
      "source": [
        "Xinv = np.linalg.inv(X)\n",
        "Xinv"
      ],
      "execution_count": 154,
      "outputs": [
        {
          "output_type": "execute_result",
          "data": {
            "text/plain": [
              "array([[ 1.5,  1. ],\n",
              "       [-2.5, -2. ]])"
            ]
          },
          "metadata": {},
          "execution_count": 154
        }
      ]
    },
    {
      "cell_type": "markdown",
      "metadata": {
        "id": "XFDBBdYOc-7E"
      },
      "source": [
        "As a quick aside, let's prove that $X^{-1}X = I_n$ as per the slides:"
      ]
    },
    {
      "cell_type": "code",
      "metadata": {
        "id": "tyPhf-uZcvdB",
        "outputId": "ed7496d6-f1e0-4327-ecd5-64fb1c81b05e",
        "colab": {
          "base_uri": "https://localhost:8080/"
        }
      },
      "source": [
        "np.dot(Xinv, X)"
      ],
      "execution_count": 155,
      "outputs": [
        {
          "output_type": "execute_result",
          "data": {
            "text/plain": [
              "array([[1.00000000e+00, 3.33066907e-16],\n",
              "       [0.00000000e+00, 1.00000000e+00]])"
            ]
          },
          "metadata": {},
          "execution_count": 155
        }
      ]
    },
    {
      "cell_type": "markdown",
      "metadata": {
        "id": "SVwvbBvclul1"
      },
      "source": [
        "...and now back to solving for the unknowns in $w$:"
      ]
    },
    {
      "cell_type": "code",
      "metadata": {
        "id": "Q5sQqFaz6SNK",
        "colab": {
          "base_uri": "https://localhost:8080/"
        },
        "outputId": "09a7a780-7a3d-439a-9108-32a70b848512"
      },
      "source": [
        "y = np.array([4, -7])\n",
        "y"
      ],
      "execution_count": 156,
      "outputs": [
        {
          "output_type": "execute_result",
          "data": {
            "text/plain": [
              "array([ 4, -7])"
            ]
          },
          "metadata": {},
          "execution_count": 156
        }
      ]
    },
    {
      "cell_type": "code",
      "metadata": {
        "id": "PK7m6F1I6SNL",
        "colab": {
          "base_uri": "https://localhost:8080/"
        },
        "outputId": "bdcdd0a2-860b-43bb-9b67-57c73d59be22"
      },
      "source": [
        "w = np.dot(Xinv, y)\n",
        "w"
      ],
      "execution_count": 157,
      "outputs": [
        {
          "output_type": "execute_result",
          "data": {
            "text/plain": [
              "array([-1.,  4.])"
            ]
          },
          "metadata": {},
          "execution_count": 157
        }
      ]
    },
    {
      "cell_type": "markdown",
      "metadata": {
        "id": "fyBOHgdccgwD"
      },
      "source": [
        "# Finding the Weights of a Linear Regression Using the Inverse and the Identity Matrices\n",
        "\n",
        "------------------------\n",
        "Show that $y = X^-1w$:\n",
        "\n",
        "---------------------------------------------------------------------------------\n",
        "![image.png](data:image/png;base64,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)"
      ]
    },
    {
      "cell_type": "code",
      "metadata": {
        "id": "SVBojjwacgwD",
        "colab": {
          "base_uri": "https://localhost:8080/"
        },
        "outputId": "b48b3b81-18d8-4098-961b-432c3e5d8cf8"
      },
      "source": [
        "np.dot(X, w)"
      ],
      "execution_count": 158,
      "outputs": [
        {
          "output_type": "execute_result",
          "data": {
            "text/plain": [
              "array([ 4., -7.])"
            ]
          },
          "metadata": {},
          "execution_count": 158
        }
      ]
    },
    {
      "cell_type": "markdown",
      "metadata": {
        "id": "rKELsi0PZCr0"
      },
      "source": [
        "**Geometric Visualization**\n",
        "\n",
        "Recalling from the slides that the two equations in the system are:\n",
        "$$ 4b + 2c = 4 $$\n",
        "$$ -5b - 3c = -7 $$\n",
        "\n",
        "Both equations can be rearranged to isolate a variable, say $c$. Starting with the first equation:\n",
        "$$ 4b + 2c = 4 $$\n",
        "$$ 2b + c = 2 $$\n",
        "$$ c = 2 - 2b $$\n",
        "\n",
        "Then for the second equation:\n",
        "$$ -5b - 3c = -7 $$\n",
        "$$ -3c = -7 + 5b $$\n",
        "$$ c = \\frac{-7 + 5b}{-3} = \\frac{7 - 5b}{3} $$"
      ]
    },
    {
      "cell_type": "code",
      "metadata": {
        "id": "ZASIBqroap7k"
      },
      "source": [
        "b = np.linspace(-10, 10, 1000) # start, finish, n points"
      ],
      "execution_count": 159,
      "outputs": []
    },
    {
      "cell_type": "code",
      "metadata": {
        "id": "9XsUdVsmaqTr"
      },
      "source": [
        "c1 = 2 - 2*b"
      ],
      "execution_count": 160,
      "outputs": []
    },
    {
      "cell_type": "code",
      "metadata": {
        "id": "8Mwn1tAca1Cl"
      },
      "source": [
        "c2 = (7-5*b)/3"
      ],
      "execution_count": 161,
      "outputs": []
    },
    {
      "cell_type": "code",
      "metadata": {
        "id": "X5ozP9jZauQa",
        "colab": {
          "base_uri": "https://localhost:8080/",
          "height": 455
        },
        "outputId": "a1cae34b-6c0b-4b71-9678-6ff0dab7e36c"
      },
      "source": [
        "fig, ax = plt.subplots()\n",
        "plt.xlabel('b', c='darkorange')\n",
        "plt.ylabel('c', c='brown')\n",
        "\n",
        "plt.axvline(x=0, color='lightgray')\n",
        "plt.axhline(y=0, color='lightgray')\n",
        "\n",
        "ax.set_xlim([-2, 3])\n",
        "ax.set_ylim([-1, 5])\n",
        "ax.plot(b, c1, c='purple')\n",
        "ax.plot(b, c2, c='purple')\n",
        "plt.axvline(x=-1, color='green', linestyle='--')\n",
        "_ = plt.axhline(y=4, color='green', linestyle='--')"
      ],
      "execution_count": 162,
      "outputs": [
        {
          "output_type": "display_data",
          "data": {
            "text/plain": [
              "<Figure size 640x480 with 1 Axes>"
            ],
            "image/png": "[encoded data removed]"
          },
          "metadata": {}
        }
      ]
    },
    {
      "cell_type": "markdown",
      "metadata": {
        "id": "14uhePTna7ZV"
      },
      "source": [
        "In PyTorch and TensorFlow:"
      ]
    },
    {
      "cell_type": "code",
      "metadata": {
        "id": "7qo-SAvaansp",
        "colab": {
          "base_uri": "https://localhost:8080/"
        },
        "outputId": "80cfe185-402b-4e4d-99b4-3282f3d65139"
      },
      "source": [
        "torch.inverse(torch.tensor([[4, 2], [-5, -3.]])) # float type"
      ],
      "execution_count": 163,
      "outputs": [
        {
          "output_type": "execute_result",
          "data": {
            "text/plain": [
              "tensor([[ 1.5000,  1.0000],\n",
              "        [-2.5000, -2.0000]])"
            ]
          },
          "metadata": {},
          "execution_count": 163
        }
      ]
    },
    {
      "cell_type": "code",
      "metadata": {
        "id": "uqtyF3Jqaz4l",
        "colab": {
          "base_uri": "https://localhost:8080/"
        },
        "outputId": "7a50d0ea-7e1c-492d-c811-7f806b885de0"
      },
      "source": [
        "tf.linalg.inv(tf.Variable([[4, 2], [-5, -3.]])) # also float"
      ],
      "execution_count": 164,
      "outputs": [
        {
          "output_type": "execute_result",
          "data": {
            "text/plain": [
              "<tf.Tensor: shape=(2, 2), dtype=float32, numpy=\n",
              "array([[ 1.4999998,  0.9999998],\n",
              "       [-2.4999995, -1.9999996]], dtype=float32)>"
            ]
          },
          "metadata": {},
          "execution_count": 164
        }
      ]
    },
    {
      "cell_type": "markdown",
      "metadata": {
        "id": "hcP2S4AMAHT_"
      },
      "source": [
        "**Exercises**:\n",
        "\n",
        "1. As done with NumPy above, use PyTorch to calculate $w$ from $X$ and $y$. Subsequently, confirm that $y = Xw$.\n",
        "2. Repeat again, now using TensorFlow."
      ]
    },
    {
      "cell_type": "markdown",
      "metadata": {
        "id": "AMxROg326SNN"
      },
      "source": [
        "**Return to slides here.**"
      ]
    },
    {
      "cell_type": "markdown",
      "metadata": {
        "id": "N8ZxpgcN6SNO"
      },
      "source": [
        "### Matrix Inversion Where No Solution"
      ]
    },
    {
      "cell_type": "code",
      "metadata": {
        "id": "RYORHY4E6SNO",
        "colab": {
          "base_uri": "https://localhost:8080/"
        },
        "outputId": "8b83e8ca-5bb1-41f5-a24b-2a2d9a5920b1"
      },
      "source": [
        "X = np.array([[-4, 1], [-8, 2]])\n",
        "X"
      ],
      "execution_count": 165,
      "outputs": [
        {
          "output_type": "execute_result",
          "data": {
            "text/plain": [
              "array([[-4,  1],\n",
              "       [-8,  2]])"
            ]
          },
          "metadata": {},
          "execution_count": 165
        }
      ]
    },
    {
      "cell_type": "code",
      "metadata": {
        "id": "o7GcISdI6SNP"
      },
      "source": [
        "# Uncommenting the following line results in a \"singular matrix\" error\n",
        "# Xinv = np.linalg.inv(X)"
      ],
      "execution_count": 166,
      "outputs": []
    },
    {
      "cell_type": "markdown",
      "metadata": {
        "id": "uk485dwoI021"
      },
      "source": [
        "Feel free to try inverting a non-square matrix; this will throw an error too.\n",
        "\n",
        "**Return to slides here.**"
      ]
    },
    {
      "cell_type": "markdown",
      "metadata": {
        "id": "BXomEBoyDQyO"
      },
      "source": [
        "### Orthogonal Matrices\n",
        "\n",
        "These are the solutions to Exercises 3 and 4 on **orthogonal matrices** from the slides.\n",
        "\n",
        "For Exercise 3, to demonstrate the matrix $I_3$ has mutually orthogonal columns, we show that the dot product of any pair of columns is zero:"
      ]
    },
    {
      "cell_type": "code",
      "metadata": {
        "id": "-Un4Aq805HM1",
        "colab": {
          "base_uri": "https://localhost:8080/"
        },
        "outputId": "ecdd2213-ad57-4e0c-99f0-31eed1eb094c"
      },
      "source": [
        "I = np.array([[1, 0, 0], [0, 1, 0], [0, 0, 1]])\n",
        "I"
      ],
      "execution_count": 167,
      "outputs": [
        {
          "output_type": "execute_result",
          "data": {
            "text/plain": [
              "array([[1, 0, 0],\n",
              "       [0, 1, 0],\n",
              "       [0, 0, 1]])"
            ]
          },
          "metadata": {},
          "execution_count": 167
        }
      ]
    },
    {
      "cell_type": "code",
      "metadata": {
        "colab": {
          "base_uri": "https://localhost:8080/"
        },
        "id": "CUhMi2_IEyaI",
        "outputId": "100f2884-883e-4496-c484-5a898d0f99a8"
      },
      "source": [
        "column_1 = I[:,0]\n",
        "column_1"
      ],
      "execution_count": 168,
      "outputs": [
        {
          "output_type": "execute_result",
          "data": {
            "text/plain": [
              "array([1, 0, 0])"
            ]
          },
          "metadata": {},
          "execution_count": 168
        }
      ]
    },
    {
      "cell_type": "code",
      "metadata": {
        "colab": {
          "base_uri": "https://localhost:8080/"
        },
        "id": "xsOtn-siE63K",
        "outputId": "0dedbd74-b775-4fbe-ffe1-501ce48bb0f8"
      },
      "source": [
        "column_2 = I[:,1]\n",
        "column_2"
      ],
      "execution_count": 169,
      "outputs": [
        {
          "output_type": "execute_result",
          "data": {
            "text/plain": [
              "array([0, 1, 0])"
            ]
          },
          "metadata": {},
          "execution_count": 169
        }
      ]
    },
    {
      "cell_type": "code",
      "metadata": {
        "colab": {
          "base_uri": "https://localhost:8080/"
        },
        "id": "Pv3b51ExE9ZX",
        "outputId": "95695609-9f53-48e9-b7e9-6caa9c78e468"
      },
      "source": [
        "column_3 = I[:,2]\n",
        "column_3"
      ],
      "execution_count": 170,
      "outputs": [
        {
          "output_type": "execute_result",
          "data": {
            "text/plain": [
              "array([0, 0, 1])"
            ]
          },
          "metadata": {},
          "execution_count": 170
        }
      ]
    },
    {
      "cell_type": "code",
      "metadata": {
        "colab": {
          "base_uri": "https://localhost:8080/"
        },
        "id": "VhnRlc8eElYc",
        "outputId": "f5aa8682-5d11-4e1f-b404-2f07b5564369"
      },
      "source": [
        "np.dot(column_1, column_2)"
      ],
      "execution_count": 171,
      "outputs": [
        {
          "output_type": "execute_result",
          "data": {
            "text/plain": [
              "0"
            ]
          },
          "metadata": {},
          "execution_count": 171
        }
      ]
    },
    {
      "cell_type": "code",
      "metadata": {
        "colab": {
          "base_uri": "https://localhost:8080/"
        },
        "id": "mVq4m-LfFGjQ",
        "outputId": "f31ef803-2366-4c4b-9778-3f367816adaf"
      },
      "source": [
        "np.dot(column_1, column_3)"
      ],
      "execution_count": 172,
      "outputs": [
        {
          "output_type": "execute_result",
          "data": {
            "text/plain": [
              "0"
            ]
          },
          "metadata": {},
          "execution_count": 172
        }
      ]
    },
    {
      "cell_type": "code",
      "metadata": {
        "colab": {
          "base_uri": "https://localhost:8080/"
        },
        "id": "nJj-aihzFILx",
        "outputId": "b6825ac8-911b-4788-f537-4c73f2c0a7d0"
      },
      "source": [
        "np.dot(column_2, column_3)"
      ],
      "execution_count": 173,
      "outputs": [
        {
          "output_type": "execute_result",
          "data": {
            "text/plain": [
              "0"
            ]
          },
          "metadata": {},
          "execution_count": 173
        }
      ]
    },
    {
      "cell_type": "markdown",
      "metadata": {
        "id": "FIzpkdJmFYdY"
      },
      "source": [
        "We can use the `np.linalg.norm()` method from earlier in the notebook to demonstrate that each column of $I_3$ has unit norm:"
      ]
    },
    {
      "cell_type": "code",
      "metadata": {
        "colab": {
          "base_uri": "https://localhost:8080/"
        },
        "id": "xKbbeqegFJSc",
        "outputId": "a0405590-f7ec-4ec3-b4a0-6504fa6fd514"
      },
      "source": [
        "np.linalg.norm(column_1)"
      ],
      "execution_count": 174,
      "outputs": [
        {
          "output_type": "execute_result",
          "data": {
            "text/plain": [
              "1.0"
            ]
          },
          "metadata": {},
          "execution_count": 174
        }
      ]
    },
    {
      "cell_type": "code",
      "metadata": {
        "colab": {
          "base_uri": "https://localhost:8080/"
        },
        "id": "Ycv0L8mpGKRC",
        "outputId": "90dbbe0f-5af2-45ba-bf43-60157b650f16"
      },
      "source": [
        "np.linalg.norm(column_2)"
      ],
      "execution_count": 175,
      "outputs": [
        {
          "output_type": "execute_result",
          "data": {
            "text/plain": [
              "1.0"
            ]
          },
          "metadata": {},
          "execution_count": 175
        }
      ]
    },
    {
      "cell_type": "code",
      "metadata": {
        "colab": {
          "base_uri": "https://localhost:8080/"
        },
        "id": "LsEuRezYGLgY",
        "outputId": "2697d4bf-6f55-4233-d5cf-cb7981465425"
      },
      "source": [
        "np.linalg.norm(column_3)"
      ],
      "execution_count": 176,
      "outputs": [
        {
          "output_type": "execute_result",
          "data": {
            "text/plain": [
              "1.0"
            ]
          },
          "metadata": {},
          "execution_count": 176
        }
      ]
    },
    {
      "cell_type": "markdown",
      "metadata": {
        "id": "NMrHdyrsGQ1X"
      },
      "source": [
        "Since the matrix $I_3$ has mutually orthogonal columns and each column has unit norm, the column vectors of $I_3$ are *orthonormal*. Since $I_3^T = I_3$, this means that the *rows* of $I_3$ must also be orthonormal.\n",
        "\n",
        "Since the columns and rows of $I_3$ are orthonormal, $I_3$ is an *orthogonal matrix*."
      ]
    },
    {
      "cell_type": "markdown",
      "metadata": {
        "id": "K7EykcPdIZhE"
      },
      "source": [
        "For Exercise 4, let's repeat the steps of Exercise 3 with matrix *K* instead of $I_3$. We could use NumPy again, but for fun I'll use PyTorch instead. (You're welcome to try it with TensorFlow if you feel so inclined.)"
      ]
    },
    {
      "cell_type": "code",
      "metadata": {
        "colab": {
          "base_uri": "https://localhost:8080/"
        },
        "id": "MXVyu8tSGMlZ",
        "outputId": "26a60187-94f3-4b27-e047-a515442fbf0d"
      },
      "source": [
        "K = torch.tensor([[2/3, 1/3, 2/3], [-2/3, 2/3, 1/3], [1/3, 2/3, -2/3]])\n",
        "K"
      ],
      "execution_count": 177,
      "outputs": [
        {
          "output_type": "execute_result",
          "data": {
            "text/plain": [
              "tensor([[ 0.6667,  0.3333,  0.6667],\n",
              "        [-0.6667,  0.6667,  0.3333],\n",
              "        [ 0.3333,  0.6667, -0.6667]])"
            ]
          },
          "metadata": {},
          "execution_count": 177
        }
      ]
    },
    {
      "cell_type": "code",
      "metadata": {
        "colab": {
          "base_uri": "https://localhost:8080/"
        },
        "id": "xqkmSYNfJmTs",
        "outputId": "b4bd4682-127a-4f52-f4b2-184f5f17268f"
      },
      "source": [
        "Kcol_1 = K[:,0]\n",
        "Kcol_1"
      ],
      "execution_count": 178,
      "outputs": [
        {
          "output_type": "execute_result",
          "data": {
            "text/plain": [
              "tensor([ 0.6667, -0.6667,  0.3333])"
            ]
          },
          "metadata": {},
          "execution_count": 178
        }
      ]
    },
    {
      "cell_type": "code",
      "metadata": {
        "colab": {
          "base_uri": "https://localhost:8080/"
        },
        "id": "ncoc3IxNJ0v2",
        "outputId": "8ffcc396-11ff-4d59-c50b-54b4d1816b4b"
      },
      "source": [
        "Kcol_2 = K[:,1]\n",
        "Kcol_2"
      ],
      "execution_count": 179,
      "outputs": [
        {
          "output_type": "execute_result",
          "data": {
            "text/plain": [
              "tensor([0.3333, 0.6667, 0.6667])"
            ]
          },
          "metadata": {},
          "execution_count": 179
        }
      ]
    },
    {
      "cell_type": "code",
      "metadata": {
        "colab": {
          "base_uri": "https://localhost:8080/"
        },
        "id": "ISEKQ0AqJ2wf",
        "outputId": "49e897ac-dedb-468a-928d-571ed02eb309"
      },
      "source": [
        "Kcol_3 = K[:,2]\n",
        "Kcol_3"
      ],
      "execution_count": 180,
      "outputs": [
        {
          "output_type": "execute_result",
          "data": {
            "text/plain": [
              "tensor([ 0.6667,  0.3333, -0.6667])"
            ]
          },
          "metadata": {},
          "execution_count": 180
        }
      ]
    },
    {
      "cell_type": "code",
      "metadata": {
        "colab": {
          "base_uri": "https://localhost:8080/"
        },
        "id": "jvdXuMzbJ44d",
        "outputId": "001c28c4-6f98-4c8d-f997-5061b12e5f3f"
      },
      "source": [
        "torch.dot(Kcol_1, Kcol_2)"
      ],
      "execution_count": 181,
      "outputs": [
        {
          "output_type": "execute_result",
          "data": {
            "text/plain": [
              "tensor(0.)"
            ]
          },
          "metadata": {},
          "execution_count": 181
        }
      ]
    },
    {
      "cell_type": "code",
      "metadata": {
        "colab": {
          "base_uri": "https://localhost:8080/"
        },
        "id": "BUR60eBuKEbU",
        "outputId": "b3fcb651-a1dc-481f-f70f-4fc2f169e393"
      },
      "source": [
        "torch.dot(Kcol_1, Kcol_3)"
      ],
      "execution_count": 182,
      "outputs": [
        {
          "output_type": "execute_result",
          "data": {
            "text/plain": [
              "tensor(0.)"
            ]
          },
          "metadata": {},
          "execution_count": 182
        }
      ]
    },
    {
      "cell_type": "code",
      "metadata": {
        "colab": {
          "base_uri": "https://localhost:8080/"
        },
        "id": "Rg7QvQwuKGJZ",
        "outputId": "6c2e2071-a5fc-4706-d92c-70d5a9082684"
      },
      "source": [
        "torch.dot(Kcol_2, Kcol_3)"
      ],
      "execution_count": 183,
      "outputs": [
        {
          "output_type": "execute_result",
          "data": {
            "text/plain": [
              "tensor(0.)"
            ]
          },
          "metadata": {},
          "execution_count": 183
        }
      ]
    },
    {
      "cell_type": "markdown",
      "metadata": {
        "id": "wNdV36-QKNK-"
      },
      "source": [
        "We've now determined that the columns of $K$ are orthogonal."
      ]
    },
    {
      "cell_type": "code",
      "metadata": {
        "colab": {
          "base_uri": "https://localhost:8080/"
        },
        "id": "DDgyhj1AKHdS",
        "outputId": "e6886ebf-ff33-4a05-f29e-6ca25befa458"
      },
      "source": [
        "torch.norm(Kcol_1)"
      ],
      "execution_count": 184,
      "outputs": [
        {
          "output_type": "execute_result",
          "data": {
            "text/plain": [
              "tensor(1.)"
            ]
          },
          "metadata": {},
          "execution_count": 184
        }
      ]
    },
    {
      "cell_type": "code",
      "metadata": {
        "colab": {
          "base_uri": "https://localhost:8080/"
        },
        "id": "KvQZy_E2KorW",
        "outputId": "18fdb2b8-2c2a-43ba-83a4-f0e9e87ec5a6"
      },
      "source": [
        "torch.norm(Kcol_2)"
      ],
      "execution_count": 185,
      "outputs": [
        {
          "output_type": "execute_result",
          "data": {
            "text/plain": [
              "tensor(1.)"
            ]
          },
          "metadata": {},
          "execution_count": 185
        }
      ]
    },
    {
      "cell_type": "code",
      "metadata": {
        "colab": {
          "base_uri": "https://localhost:8080/"
        },
        "id": "7H7dx8a7Kp9f",
        "outputId": "3be9a7c0-8ee9-4477-daed-1674940e24fd"
      },
      "source": [
        "torch.norm(Kcol_3)"
      ],
      "execution_count": 186,
      "outputs": [
        {
          "output_type": "execute_result",
          "data": {
            "text/plain": [
              "tensor(1.)"
            ]
          },
          "metadata": {},
          "execution_count": 186
        }
      ]
    },
    {
      "cell_type": "markdown",
      "metadata": {
        "id": "VPPtOk5OKtJ_"
      },
      "source": [
        "We've now determined that, in addition to being orthogonal, the columns of $K$ have unit norm, therefore they are orthonormal.\n",
        "\n",
        "To ensure that $K$ is an orthogonal matrix, we would need to show that not only does it have orthonormal columns but it has orthonormal rows are as well. Since $K^T \\neq K$, we can't prove this quite as straightforwardly as we did with $I_3$.\n",
        "\n",
        "One approach would be to repeat the steps we used to determine that $K$ has orthogonal columns with all of the matrix's rows (please feel free to do so). Alternatively, we can use an orthogonal matrix-specific equation from the slides, $A^TA = I$, to demonstrate that $K$ is orthogonal in a single line of code:"
      ]
    },
    {
      "cell_type": "code",
      "metadata": {
        "colab": {
          "base_uri": "https://localhost:8080/"
        },
        "id": "W8Ao0KhVNHqF",
        "outputId": "12b26150-93dc-4d53-b0cf-4e48f3103060"
      },
      "source": [
        "torch.matmul(K.T, K)"
      ],
      "execution_count": 187,
      "outputs": [
        {
          "output_type": "execute_result",
          "data": {
            "text/plain": [
              "tensor([[ 1.0000e+00, -3.3114e-09,  3.3114e-09],\n",
              "        [-3.3114e-09,  1.0000e+00,  6.6227e-09],\n",
              "        [ 3.3114e-09,  6.6227e-09,  1.0000e+00]])"
            ]
          },
          "metadata": {},
          "execution_count": 187
        }
      ]
    },
    {
      "cell_type": "markdown",
      "metadata": {
        "id": "scM6FCpjNgYA"
      },
      "source": [
        "Notwithstanding rounding errors that we can safely ignore, this confirms that $K^TK = I$ and therefore $K$ is an orthogonal matrix."
      ]
    }
  ]
}